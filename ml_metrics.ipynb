{
 "cells": [
  {
   "cell_type": "markdown",
   "metadata": {},
   "source": [
    "https://habr.com/ru/articles/821547/"
   ]
  },
  {
   "cell_type": "code",
   "execution_count": 6,
   "metadata": {},
   "outputs": [
    {
     "data": {
      "text/markdown": [
       "<span style='color: red; font-size: 25px;'><b>Метрики Регрессии</b></span>"
      ],
      "text/plain": [
       "<IPython.core.display.Markdown object>"
      ]
     },
     "metadata": {},
     "output_type": "display_data"
    },
    {
     "data": {
      "text/markdown": [
       "**Средняя Абсолютная Ошибка (MAE):** Измеряет среднюю величину ошибок в наборе предсказаний, не учитывая их направление."
      ],
      "text/plain": [
       "<IPython.core.display.Markdown object>"
      ]
     },
     "metadata": {},
     "output_type": "display_data"
    },
    {
     "data": {
      "text/latex": [
       "$\\displaystyle MAE = \\frac{1}{n} \\sum_{i=1}^{n} |y_i - \\hat{y}_i|$"
      ],
      "text/plain": [
       "<IPython.core.display.Math object>"
      ]
     },
     "metadata": {},
     "output_type": "display_data"
    },
    {
     "data": {
      "text/markdown": [
       "**Средняя Квадратическая Ошибка (MSE):** Измеряет среднее значение квадратов ошибок. Более чувствителен к выбросам, чем MAE."
      ],
      "text/plain": [
       "<IPython.core.display.Markdown object>"
      ]
     },
     "metadata": {},
     "output_type": "display_data"
    },
    {
     "data": {
      "text/latex": [
       "$\\displaystyle MSE = \\frac{1}{n} \\sum_{i=1}^{n} (y_i - \\hat{y}_i)^2$"
      ],
      "text/plain": [
       "<IPython.core.display.Math object>"
      ]
     },
     "metadata": {},
     "output_type": "display_data"
    },
    {
     "data": {
      "text/markdown": [
       "**Квадратный Корень из Средней Квадратической Ошибки (RMSE):** Квадратный корень из средней квадратической ошибки. Представляет стандартное отклонение остатков."
      ],
      "text/plain": [
       "<IPython.core.display.Markdown object>"
      ]
     },
     "metadata": {},
     "output_type": "display_data"
    },
    {
     "data": {
      "text/latex": [
       "$\\displaystyle RMSE = \\sqrt{MSE}$"
      ],
      "text/plain": [
       "<IPython.core.display.Math object>"
      ]
     },
     "metadata": {},
     "output_type": "display_data"
    },
    {
     "data": {
      "text/markdown": [
       "**Максимальная Ошибка:** Измеряет максимальную остаточную ошибку."
      ],
      "text/plain": [
       "<IPython.core.display.Markdown object>"
      ]
     },
     "metadata": {},
     "output_type": "display_data"
    },
    {
     "data": {
      "text/latex": [
       "$\\displaystyle \\text{Max Error} = \\max(|y_i - \\hat{y}_i|)$"
      ],
      "text/plain": [
       "<IPython.core.display.Math object>"
      ]
     },
     "metadata": {},
     "output_type": "display_data"
    },
    {
     "data": {
      "text/markdown": [
       "**Ошибка Покрытия:** Измеряет среднее количество меток, которые нужно включить в предсказание, чтобы все истинные метки были предсказаны."
      ],
      "text/plain": [
       "<IPython.core.display.Markdown object>"
      ]
     },
     "metadata": {},
     "output_type": "display_data"
    },
    {
     "data": {
      "text/latex": [
       "$\\displaystyle \\text{Coverage Error} = \\frac{1}{n} \\sum_{i=1}^{n} \\min(k : y_i \\in \\text{Top-k}(\\hat{y}_i))$"
      ],
      "text/plain": [
       "<IPython.core.display.Math object>"
      ]
     },
     "metadata": {},
     "output_type": "display_data"
    },
    {
     "data": {
      "text/markdown": [
       "**Средняя Абсолютная Процентная Ошибка (MAPE):** Измеряет среднее значение абсолютных процентных ошибок."
      ],
      "text/plain": [
       "<IPython.core.display.Markdown object>"
      ]
     },
     "metadata": {},
     "output_type": "display_data"
    },
    {
     "data": {
      "text/latex": [
       "$\\displaystyle MAPE = \\frac{1}{n} \\sum_{i=1}^{n} \\left| \\frac{y_i - \\hat{y}_i}{y_i} \\right| \\times 100$"
      ],
      "text/plain": [
       "<IPython.core.display.Math object>"
      ]
     },
     "metadata": {},
     "output_type": "display_data"
    },
    {
     "data": {
      "text/markdown": [
       "**Медианная Абсолютная Ошибка:** Измеряет медиану абсолютных ошибок."
      ],
      "text/plain": [
       "<IPython.core.display.Markdown object>"
      ]
     },
     "metadata": {},
     "output_type": "display_data"
    },
    {
     "data": {
      "text/latex": [
       "$\\displaystyle \\text{Median Absolute Error} = \\text{median}(|y_i - \\hat{y}_i|)$"
      ],
      "text/plain": [
       "<IPython.core.display.Math object>"
      ]
     },
     "metadata": {},
     "output_type": "display_data"
    },
    {
     "data": {
      "text/markdown": [
       "**Средняя Квадратическая Логарифмическая Ошибка (MSLE):** Измеряет среднее значение квадратов логарифмических ошибок."
      ],
      "text/plain": [
       "<IPython.core.display.Markdown object>"
      ]
     },
     "metadata": {},
     "output_type": "display_data"
    },
    {
     "data": {
      "text/latex": [
       "$\\displaystyle MSLE = \\frac{1}{n} \\sum_{i=1}^{n} (\\log(1 + y_i) - \\log(1 + \\hat{y}_i))^2$"
      ],
      "text/plain": [
       "<IPython.core.display.Math object>"
      ]
     },
     "metadata": {},
     "output_type": "display_data"
    },
    {
     "data": {
      "text/markdown": [
       "**Квадратный Корень из Средней Квадратической Логарифмической Ошибки (RMSLE):** Квадратный корень из средней квадратической логарифмической ошибки."
      ],
      "text/plain": [
       "<IPython.core.display.Markdown object>"
      ]
     },
     "metadata": {},
     "output_type": "display_data"
    },
    {
     "data": {
      "text/latex": [
       "$\\displaystyle RMSLE = \\sqrt{MSLE}$"
      ],
      "text/plain": [
       "<IPython.core.display.Math object>"
      ]
     },
     "metadata": {},
     "output_type": "display_data"
    },
    {
     "data": {
      "text/markdown": [
       "<span style='color: red; font-size: 25px;'><b>Метрики Классификации</b></span>"
      ],
      "text/plain": [
       "<IPython.core.display.Markdown object>"
      ]
     },
     "metadata": {},
     "output_type": "display_data"
    },
    {
     "data": {
      "text/markdown": [
       "**Точность (Accuracy Score):** Измеряет отношение правильно предсказанных случаев к общему количеству случаев."
      ],
      "text/plain": [
       "<IPython.core.display.Markdown object>"
      ]
     },
     "metadata": {},
     "output_type": "display_data"
    },
    {
     "data": {
      "text/latex": [
       "$\\displaystyle Accuracy = \\frac{1}{n_{samples}} \\sum_{i=0}^{n_{samples}-1} 1(\\hat{y}_i = y_i)$"
      ],
      "text/plain": [
       "<IPython.core.display.Math object>"
      ]
     },
     "metadata": {},
     "output_type": "display_data"
    },
    {
     "data": {
      "text/markdown": [
       "**Точность (Precision Score):** Измеряет отношение правильно предсказанных положительных наблюдений к общему количеству предсказанных положительных наблюдений."
      ],
      "text/plain": [
       "<IPython.core.display.Markdown object>"
      ]
     },
     "metadata": {},
     "output_type": "display_data"
    },
    {
     "data": {
      "text/latex": [
       "$\\displaystyle Precision = \\frac{TP}{TP + FP}$"
      ],
      "text/plain": [
       "<IPython.core.display.Math object>"
      ]
     },
     "metadata": {},
     "output_type": "display_data"
    },
    {
     "data": {
      "text/markdown": [
       "**Полнота (Recall Score):** Измеряет отношение правильно предсказанных положительных наблюдений ко всем наблюдениям в фактическом классе."
      ],
      "text/plain": [
       "<IPython.core.display.Markdown object>"
      ]
     },
     "metadata": {},
     "output_type": "display_data"
    },
    {
     "data": {
      "text/latex": [
       "$\\displaystyle Recall = \\frac{TP}{TP + FN}$"
      ],
      "text/plain": [
       "<IPython.core.display.Math object>"
      ]
     },
     "metadata": {},
     "output_type": "display_data"
    },
    {
     "data": {
      "text/markdown": [
       "**F1 Оценка (F1 Score):** Взвешенное среднее значение Точности и Полноты."
      ],
      "text/plain": [
       "<IPython.core.display.Markdown object>"
      ]
     },
     "metadata": {},
     "output_type": "display_data"
    },
    {
     "data": {
      "text/latex": [
       "$\\displaystyle F1 = 2 \\times \\frac{Precision \\times Recall}{Precision + Recall}$"
      ],
      "text/plain": [
       "<IPython.core.display.Math object>"
      ]
     },
     "metadata": {},
     "output_type": "display_data"
    },
    {
     "data": {
      "text/markdown": [
       "**ROC AUC Оценка (ROC AUC Score):** Измеряет площадь под ROC кривой."
      ],
      "text/plain": [
       "<IPython.core.display.Markdown object>"
      ]
     },
     "metadata": {},
     "output_type": "display_data"
    },
    {
     "data": {
      "text/latex": [
       "$\\displaystyle \\text{ROC AUC} = \\int_{0}^{1} \\text{ROC}(t) \\, dt$"
      ],
      "text/plain": [
       "<IPython.core.display.Math object>"
      ]
     },
     "metadata": {},
     "output_type": "display_data"
    },
    {
     "data": {
      "text/markdown": [
       "**Коэффициент детерминации (R2 Score):** Измеряет долю дисперсии в зависимой переменной, предсказуемую из независимых переменных."
      ],
      "text/plain": [
       "<IPython.core.display.Markdown object>"
      ]
     },
     "metadata": {},
     "output_type": "display_data"
    },
    {
     "data": {
      "text/latex": [
       "$\\displaystyle R^2 = 1 - \\frac{\\sum_{i=1}^{n} (y_i - \\hat{y}_i)^2}{\\sum_{i=1}^{n} (y_i - \\bar{y})^2}$"
      ],
      "text/plain": [
       "<IPython.core.display.Math object>"
      ]
     },
     "metadata": {},
     "output_type": "display_data"
    },
    {
     "data": {
      "text/markdown": [
       "**D2 Оценка Абсолютной Ошибки (D2 Absolute Error Score):** Измеряет степень отклонения от модели абсолютной ошибки."
      ],
      "text/plain": [
       "<IPython.core.display.Markdown object>"
      ]
     },
     "metadata": {},
     "output_type": "display_data"
    },
    {
     "data": {
      "text/latex": [
       "$\\displaystyle D^2 = 1 - \\frac{\\sum_{i=1}^{n} |y_i - \\hat{y}_i|}{\\sum_{i=1}^{n} |y_i - \\bar{y}|}$"
      ],
      "text/plain": [
       "<IPython.core.display.Math object>"
      ]
     },
     "metadata": {},
     "output_type": "display_data"
    },
    {
     "data": {
      "text/markdown": [
       "**NDCG Оценка (NDCG Score):** Измеряет качество ранжирования."
      ],
      "text/plain": [
       "<IPython.core.display.Markdown object>"
      ]
     },
     "metadata": {},
     "output_type": "display_data"
    },
    {
     "data": {
      "text/latex": [
       "$\\displaystyle NDCG = \\frac{DCG}{IDCG}$"
      ],
      "text/plain": [
       "<IPython.core.display.Math object>"
      ]
     },
     "metadata": {},
     "output_type": "display_data"
    },
    {
     "data": {
      "text/markdown": [
       "**Ранд Оценка (Rand Score):** Измеряет сходство между двумя кластеризациями данных."
      ],
      "text/plain": [
       "<IPython.core.display.Markdown object>"
      ]
     },
     "metadata": {},
     "output_type": "display_data"
    },
    {
     "data": {
      "text/latex": [
       "$\\displaystyle Rand = \\frac{TP + TN}{TP + FP + FN + TN}$"
      ],
      "text/plain": [
       "<IPython.core.display.Math object>"
      ]
     },
     "metadata": {},
     "output_type": "display_data"
    },
    {
     "data": {
      "text/markdown": [
       "**DCG Оценка (DCG Score):** Измеряет качество ранжирования."
      ],
      "text/plain": [
       "<IPython.core.display.Markdown object>"
      ]
     },
     "metadata": {},
     "output_type": "display_data"
    },
    {
     "data": {
      "text/latex": [
       "$\\displaystyle DCG = \\sum_{i=1}^{n} \\frac{2^{rel_i} - 1}{\\log_2(i + 1)}$"
      ],
      "text/plain": [
       "<IPython.core.display.Math object>"
      ]
     },
     "metadata": {},
     "output_type": "display_data"
    },
    {
     "data": {
      "text/markdown": [
       "**Fbeta Оценка (Fbeta Score):** Взвешенное среднее значение Точности и Полноты с весовым коэффициентом beta."
      ],
      "text/plain": [
       "<IPython.core.display.Markdown object>"
      ]
     },
     "metadata": {},
     "output_type": "display_data"
    },
    {
     "data": {
      "text/latex": [
       "$\\displaystyle F_\\beta = (1 + \\beta^2) \\times \\frac{Precision \\times Recall}{\\beta^2 \\times Precision + Recall}$"
      ],
      "text/plain": [
       "<IPython.core.display.Math object>"
      ]
     },
     "metadata": {},
     "output_type": "display_data"
    },
    {
     "data": {
      "text/markdown": [
       "**Скорректированная Ранд Оценка (Adjusted Rand Score):** Измеряет сходство между двумя кластеризациями данных с учетом случайности."
      ],
      "text/plain": [
       "<IPython.core.display.Markdown object>"
      ]
     },
     "metadata": {},
     "output_type": "display_data"
    },
    {
     "data": {
      "text/latex": [
       "$\\displaystyle Adjusted \\, Rand = \\frac{RI - Expected \\, RI}{Max \\, RI - Expected \\, RI}$"
      ],
      "text/plain": [
       "<IPython.core.display.Math object>"
      ]
     },
     "metadata": {},
     "output_type": "display_data"
    },
    {
     "data": {
      "text/markdown": [
       "**Оценка Силуэта (Silhouette Score):** Измеряет, насколько объект похож на свой собственный кластер по сравнению с другими кластерами."
      ],
      "text/plain": [
       "<IPython.core.display.Markdown object>"
      ]
     },
     "metadata": {},
     "output_type": "display_data"
    },
    {
     "data": {
      "text/latex": [
       "$\\displaystyle Silhouette = \\frac{b - a}{\\max(a, b)}$"
      ],
      "text/plain": [
       "<IPython.core.display.Math object>"
      ]
     },
     "metadata": {},
     "output_type": "display_data"
    },
    {
     "data": {
      "text/markdown": [
       "**Оценка Полноты (Completeness Score):** Измеряет, все ли точки данных, являющиеся членами данного класса, являются элементами одного и того же кластера."
      ],
      "text/plain": [
       "<IPython.core.display.Markdown object>"
      ]
     },
     "metadata": {},
     "output_type": "display_data"
    },
    {
     "data": {
      "text/latex": [
       "$\\displaystyle Completeness = 1 - \\frac{H(C|K)}{H(C)}$"
      ],
      "text/plain": [
       "<IPython.core.display.Math object>"
      ]
     },
     "metadata": {},
     "output_type": "display_data"
    },
    {
     "data": {
      "text/markdown": [
       "**Оценка Однородности (Homogeneity Score):** Измеряет, содержит ли каждый кластер только члены одного класса."
      ],
      "text/plain": [
       "<IPython.core.display.Markdown object>"
      ]
     },
     "metadata": {},
     "output_type": "display_data"
    },
    {
     "data": {
      "text/latex": [
       "$\\displaystyle Homogeneity = 1 - \\frac{H(K|C)}{H(K)}$"
      ],
      "text/plain": [
       "<IPython.core.display.Math object>"
      ]
     },
     "metadata": {},
     "output_type": "display_data"
    },
    {
     "data": {
      "text/markdown": [
       "**Оценка Жаккара (Jaccard Score):** Измеряет сходство между наборами образцов."
      ],
      "text/plain": [
       "<IPython.core.display.Markdown object>"
      ]
     },
     "metadata": {},
     "output_type": "display_data"
    },
    {
     "data": {
      "text/latex": [
       "$\\displaystyle Jaccard = \\frac{|A \\cap B|}{|A \\cup B|}$"
      ],
      "text/plain": [
       "<IPython.core.display.Math object>"
      ]
     },
     "metadata": {},
     "output_type": "display_data"
    },
    {
     "data": {
      "text/markdown": [
       "**Оценка Консенсуса (Consensus Score):** Измеряет консенсус результатов кластеризации."
      ],
      "text/plain": [
       "<IPython.core.display.Markdown object>"
      ]
     },
     "metadata": {},
     "output_type": "display_data"
    },
    {
     "data": {
      "text/latex": [
       "$\\displaystyle Consensus = \\frac{2}{n(n-1)} \\sum_{i < j} \\frac{a_{ij} \\cdot b_{ij}}{\\sqrt{a_{ij} \\cdot a_{ji} \\cdot b_{ij} \\cdot b_{ji}}}$"
      ],
      "text/plain": [
       "<IPython.core.display.Math object>"
      ]
     },
     "metadata": {},
     "output_type": "display_data"
    },
    {
     "data": {
      "text/markdown": [
       "**Оценка V-меры (V-measure Score):** Измеряет гармоническое среднее между Однородностью и Полнотой."
      ],
      "text/plain": [
       "<IPython.core.display.Markdown object>"
      ]
     },
     "metadata": {},
     "output_type": "display_data"
    },
    {
     "data": {
      "text/latex": [
       "$\\displaystyle V = 2 \\times \\frac{Homogeneity \\times Completeness}{Homogeneity + Completeness}$"
      ],
      "text/plain": [
       "<IPython.core.display.Math object>"
      ]
     },
     "metadata": {},
     "output_type": "display_data"
    },
    {
     "data": {
      "text/markdown": [
       "**Оценка Потерь Брайера (Brier Score Loss):** Измеряет среднеквадратичную разницу между предсказанными вероятностями и фактическими бинарными значениями."
      ],
      "text/plain": [
       "<IPython.core.display.Markdown object>"
      ]
     },
     "metadata": {},
     "output_type": "display_data"
    },
    {
     "data": {
      "text/latex": [
       "$\\displaystyle Brier = \\frac{1}{n} \\sum_{i=1}^{n} (f_i - o_i)^2$"
      ],
      "text/plain": [
       "<IPython.core.display.Math object>"
      ]
     },
     "metadata": {},
     "output_type": "display_data"
    },
    {
     "data": {
      "text/markdown": [
       "**D2 Оценка Твиди (D2 Tweedie Score):** Измеряет степень отклонения от модели Твиди."
      ],
      "text/plain": [
       "<IPython.core.display.Markdown object>"
      ]
     },
     "metadata": {},
     "output_type": "display_data"
    },
    {
     "data": {
      "text/latex": [
       "$\\displaystyle D^2 = 1 - \\frac{\\sum_{i=1}^{n} |y_i - \\hat{y}_i|^p}{\\sum_{i=1}^{n} |y_i - \\bar{y}|^p}$"
      ],
      "text/plain": [
       "<IPython.core.display.Math object>"
      ]
     },
     "metadata": {},
     "output_type": "display_data"
    },
    {
     "data": {
      "text/markdown": [
       "**Оценка Каппы Коэна (Cohen's Kappa Score):** Измеряет согласие между двумя оценщиками."
      ],
      "text/plain": [
       "<IPython.core.display.Markdown object>"
      ]
     },
     "metadata": {},
     "output_type": "display_data"
    },
    {
     "data": {
      "text/latex": [
       "$\\displaystyle Kappa = \\frac{p_o - p_e}{1 - p_e}$"
      ],
      "text/plain": [
       "<IPython.core.display.Math object>"
      ]
     },
     "metadata": {},
     "output_type": "display_data"
    },
    {
     "data": {
      "text/markdown": [
       "**D2 Оценка Пинбола (D2 Pinball Score):** Измеряет степень отклонения от модели Пинбола."
      ],
      "text/plain": [
       "<IPython.core.display.Markdown object>"
      ]
     },
     "metadata": {},
     "output_type": "display_data"
    },
    {
     "data": {
      "text/latex": [
       "$\\displaystyle D^2 = 1 - \\frac{\\sum_{i=1}^{n} L(y_i, \\hat{y}_i)}{\\sum_{i=1}^{n} L(y_i, \\bar{y})}$"
      ],
      "text/plain": [
       "<IPython.core.display.Math object>"
      ]
     },
     "metadata": {},
     "output_type": "display_data"
    },
    {
     "data": {
      "text/markdown": [
       "**Оценка Взаимной Информации (Mutual Information Score):** Измеряет взаимную информацию между двумя наборами данных."
      ],
      "text/plain": [
       "<IPython.core.display.Markdown object>"
      ]
     },
     "metadata": {},
     "output_type": "display_data"
    },
    {
     "data": {
      "text/latex": [
       "$\\displaystyle MI = \\sum_{x \\in X} \\sum_{y \\in Y} p(x, y) \\log \\left( \\frac{p(x, y)}{p(x) p(y)} \\right)$"
      ],
      "text/plain": [
       "<IPython.core.display.Math object>"
      ]
     },
     "metadata": {},
     "output_type": "display_data"
    },
    {
     "data": {
      "text/markdown": [
       "**Скорректированная Оценка Взаимной Информации (Adjusted Mutual Information Score):** Измеряет взаимную информацию между двумя наборами данных с учетом случайности."
      ],
      "text/plain": [
       "<IPython.core.display.Markdown object>"
      ]
     },
     "metadata": {},
     "output_type": "display_data"
    },
    {
     "data": {
      "text/latex": [
       "$\\displaystyle AMI = \\frac{MI - E[MI]}{\\max(H(U), H(V)) - E[MI]}$"
      ],
      "text/plain": [
       "<IPython.core.display.Math object>"
      ]
     },
     "metadata": {},
     "output_type": "display_data"
    },
    {
     "data": {
      "text/markdown": [
       "**Средняя Оценка Точности (Average Precision Score):** Измеряет площадь под кривой точность-полнота."
      ],
      "text/plain": [
       "<IPython.core.display.Markdown object>"
      ]
     },
     "metadata": {},
     "output_type": "display_data"
    },
    {
     "data": {
      "text/latex": [
       "$\\displaystyle AP = \\sum_n (R_n - R_{n-1}) P_n$"
      ],
      "text/plain": [
       "<IPython.core.display.Math object>"
      ]
     },
     "metadata": {},
     "output_type": "display_data"
    },
    {
     "data": {
      "text/markdown": [
       "**Средняя Оценка Точности Ранжирования Меток (Label Ranking Average Precision Score):** Измеряет среднюю оценку точности для ранжирования меток."
      ],
      "text/plain": [
       "<IPython.core.display.Markdown object>"
      ]
     },
     "metadata": {},
     "output_type": "display_data"
    },
    {
     "data": {
      "text/latex": [
       "$\\displaystyle LRAP = \\frac{1}{n} \\sum_{i=1}^{n} \\frac{\\sum_{j=1}^{k} P(y_{ij})}{\\max_{y_{ij}} P(y_{ij})}$"
      ],
      "text/plain": [
       "<IPython.core.display.Math object>"
      ]
     },
     "metadata": {},
     "output_type": "display_data"
    },
    {
     "data": {
      "text/markdown": [
       "**Сбалансированная Точность (Balanced Accuracy Score):** Измеряет сбалансированную точность."
      ],
      "text/plain": [
       "<IPython.core.display.Markdown object>"
      ]
     },
     "metadata": {},
     "output_type": "display_data"
    },
    {
     "data": {
      "text/latex": [
       "$\\displaystyle Balanced \\, Accuracy = \\frac{Sensitivity + Specificity}{2}$"
      ],
      "text/plain": [
       "<IPython.core.display.Math object>"
      ]
     },
     "metadata": {},
     "output_type": "display_data"
    },
    {
     "data": {
      "text/markdown": [
       "**Топ K Точность (Top K Accuracy Score):** Измеряет точность с учетом топ k предсказаний."
      ],
      "text/plain": [
       "<IPython.core.display.Markdown object>"
      ]
     },
     "metadata": {},
     "output_type": "display_data"
    },
    {
     "data": {
      "text/latex": [
       "$\\displaystyle Top \\, K \\, Accuracy = \\frac{1}{n} \\sum_{i=1}^{n} 1(y_i \\in \\text{Top-k}(\\hat{y}_i))$"
      ],
      "text/plain": [
       "<IPython.core.display.Math object>"
      ]
     },
     "metadata": {},
     "output_type": "display_data"
    },
    {
     "data": {
      "text/markdown": [
       "**Оценка Калински-Харабаша (Calinski Harabasz Score):** Измеряет отношение суммы межкластерной дисперсии к внутрикластерной дисперсии."
      ],
      "text/plain": [
       "<IPython.core.display.Markdown object>"
      ]
     },
     "metadata": {},
     "output_type": "display_data"
    },
    {
     "data": {
      "text/latex": [
       "$\\displaystyle CH = \\frac{Tr(B_k)}{Tr(W_k)} \\times \\frac{n - k}{k - 1}$"
      ],
      "text/plain": [
       "<IPython.core.display.Math object>"
      ]
     },
     "metadata": {},
     "output_type": "display_data"
    },
    {
     "data": {
      "text/markdown": [
       "<span style='color: red; font-size: 25px;'><b>Метрики Кластеризации</b></span>"
      ],
      "text/plain": [
       "<IPython.core.display.Markdown object>"
      ]
     },
     "metadata": {},
     "output_type": "display_data"
    },
    {
     "data": {
      "text/markdown": [
       "**Силуэтный коэффициент (Silhouette Coefficient):** Эта метрика измеряет, насколько близко каждый объект в кластере к другим объектам из того же кластера по сравнению с объектами из других кластеров."
      ],
      "text/plain": [
       "<IPython.core.display.Markdown object>"
      ]
     },
     "metadata": {},
     "output_type": "display_data"
    },
    {
     "data": {
      "text/latex": [
       "$\\displaystyle s(i) = \\frac{b(i) - a(i)}{\\max(a(i), b(i))}$"
      ],
      "text/plain": [
       "<IPython.core.display.Math object>"
      ]
     },
     "metadata": {},
     "output_type": "display_data"
    },
    {
     "data": {
      "text/markdown": [
       "- **Область значений:** от -1 до 1"
      ],
      "text/plain": [
       "<IPython.core.display.Markdown object>"
      ]
     },
     "metadata": {},
     "output_type": "display_data"
    },
    {
     "data": {
      "text/markdown": [
       "- **Наилучшее значение:** ближе к 1"
      ],
      "text/plain": [
       "<IPython.core.display.Markdown object>"
      ]
     },
     "metadata": {},
     "output_type": "display_data"
    },
    {
     "data": {
      "text/markdown": [
       "- **Наихудшее значение:** ближе к -1"
      ],
      "text/plain": [
       "<IPython.core.display.Markdown object>"
      ]
     },
     "metadata": {},
     "output_type": "display_data"
    },
    {
     "data": {
      "text/markdown": [
       "**Индекс Давиеса-Болдина (Davies-Bouldin Index):** Эта метрика измеряет \"расплывчатость\" кластеров, оценивая отношение расстояния между кластерами к их размерам."
      ],
      "text/plain": [
       "<IPython.core.display.Markdown object>"
      ]
     },
     "metadata": {},
     "output_type": "display_data"
    },
    {
     "data": {
      "text/latex": [
       "$\\displaystyle DB = \\frac{1}{k} \\sum_{i=1}^{k} \\max_{i \\neq j} \\left( \\frac{\\sigma_i + \\sigma_j}{d_{ij}} \\right)$"
      ],
      "text/plain": [
       "<IPython.core.display.Math object>"
      ]
     },
     "metadata": {},
     "output_type": "display_data"
    },
    {
     "data": {
      "text/markdown": [
       "- **Область значений:** от 0 до ∞ (меньше — лучше)"
      ],
      "text/plain": [
       "<IPython.core.display.Markdown object>"
      ]
     },
     "metadata": {},
     "output_type": "display_data"
    },
    {
     "data": {
      "text/markdown": [
       "- **Наилучшее значение:** ближе к 0"
      ],
      "text/plain": [
       "<IPython.core.display.Markdown object>"
      ]
     },
     "metadata": {},
     "output_type": "display_data"
    },
    {
     "data": {
      "text/markdown": [
       "- **Наихудшее значение:** большие значения"
      ],
      "text/plain": [
       "<IPython.core.display.Markdown object>"
      ]
     },
     "metadata": {},
     "output_type": "display_data"
    },
    {
     "data": {
      "text/markdown": [
       "**Индекс Калинского-Харабаса (Calinski-Harabasz Index):** Эта метрика измеряет отношение сумм внутрикластерных и межкластерных расстояний, оценивая плотность и разделение кластеров."
      ],
      "text/plain": [
       "<IPython.core.display.Markdown object>"
      ]
     },
     "metadata": {},
     "output_type": "display_data"
    },
    {
     "data": {
      "text/latex": [
       "$\\displaystyle CH = \\frac{\\text{trace}(B_k) / (k - 1)}{\\text{trace}(W_k) / (n - k)}$"
      ],
      "text/plain": [
       "<IPython.core.display.Math object>"
      ]
     },
     "metadata": {},
     "output_type": "display_data"
    },
    {
     "data": {
      "text/markdown": [
       "- **Область значений:** от 0 до ∞ (больше — лучше)"
      ],
      "text/plain": [
       "<IPython.core.display.Markdown object>"
      ]
     },
     "metadata": {},
     "output_type": "display_data"
    },
    {
     "data": {
      "text/markdown": [
       "- **Наилучшее значение:** большие значения"
      ],
      "text/plain": [
       "<IPython.core.display.Markdown object>"
      ]
     },
     "metadata": {},
     "output_type": "display_data"
    },
    {
     "data": {
      "text/markdown": [
       "- **Наихудшее значение:** меньшие значения"
      ],
      "text/plain": [
       "<IPython.core.display.Markdown object>"
      ]
     },
     "metadata": {},
     "output_type": "display_data"
    },
    {
     "data": {
      "text/markdown": [
       "**Индекс Данс (Dunn Index):** Эта метрика оценивает плотность кластеров и их разделение, вычисляя минимальное межкластерное расстояние, деленное на максимальный диаметр кластера."
      ],
      "text/plain": [
       "<IPython.core.display.Markdown object>"
      ]
     },
     "metadata": {},
     "output_type": "display_data"
    },
    {
     "data": {
      "text/latex": [
       "$\\displaystyle D = \\frac{\\min_{1 \\leq i < j \\leq k} d(C_i, C_j)}{\\max_{1 \\leq l \\leq k} \\delta(C_l)}$"
      ],
      "text/plain": [
       "<IPython.core.display.Math object>"
      ]
     },
     "metadata": {},
     "output_type": "display_data"
    },
    {
     "data": {
      "text/markdown": [
       "- **Область значений:** от 0 до ∞ (больше — лучше)"
      ],
      "text/plain": [
       "<IPython.core.display.Markdown object>"
      ]
     },
     "metadata": {},
     "output_type": "display_data"
    },
    {
     "data": {
      "text/markdown": [
       "- **Наилучшее значение:** большие значения"
      ],
      "text/plain": [
       "<IPython.core.display.Markdown object>"
      ]
     },
     "metadata": {},
     "output_type": "display_data"
    },
    {
     "data": {
      "text/markdown": [
       "- **Наихудшее значение:** меньшие значения"
      ],
      "text/plain": [
       "<IPython.core.display.Markdown object>"
      ]
     },
     "metadata": {},
     "output_type": "display_data"
    },
    {
     "data": {
      "text/markdown": [
       "**V-Measure:** Это мера, основанная на энтропии, оценивающая как полноту (все объекты одного класса находятся в одном кластере), так и правильность (все объекты одного кластера принадлежат одному классу)."
      ],
      "text/plain": [
       "<IPython.core.display.Markdown object>"
      ]
     },
     "metadata": {},
     "output_type": "display_data"
    },
    {
     "data": {
      "text/latex": [
       "$\\displaystyle V = 2 \\times \\frac{\\text{homogeneity} \\times \\text{completeness}}{\\text{homogeneity} + \\text{completeness}}$"
      ],
      "text/plain": [
       "<IPython.core.display.Math object>"
      ]
     },
     "metadata": {},
     "output_type": "display_data"
    },
    {
     "data": {
      "text/markdown": [
       "- **Область значений:** от 0 до 1"
      ],
      "text/plain": [
       "<IPython.core.display.Markdown object>"
      ]
     },
     "metadata": {},
     "output_type": "display_data"
    },
    {
     "data": {
      "text/markdown": [
       "- **Наилучшее значение:** ближе к 1"
      ],
      "text/plain": [
       "<IPython.core.display.Markdown object>"
      ]
     },
     "metadata": {},
     "output_type": "display_data"
    },
    {
     "data": {
      "text/markdown": [
       "- **Наихудшее значение:** ближе к 0"
      ],
      "text/plain": [
       "<IPython.core.display.Markdown object>"
      ]
     },
     "metadata": {},
     "output_type": "display_data"
    },
    {
     "data": {
      "text/markdown": [
       "**Adjusted Rand Index (ARI):** Эта мера оценивает сходство между двумя различными кластеризациями, учитывающая случайные совпадения."
      ],
      "text/plain": [
       "<IPython.core.display.Markdown object>"
      ]
     },
     "metadata": {},
     "output_type": "display_data"
    },
    {
     "data": {
      "text/latex": [
       "$\\displaystyle ARI = \\frac{\\sum_{ij} \\binom{n_{ij}}{2} - \\left[ \\sum_i \\binom{a_i}{2} \\sum_j \\binom{b_j}{2} \\right] / \\binom{n}{2}}{0.5 \\left[ \\sum_i \\binom{a_i}{2} + \\sum_j \\binom{b_j}{2} \\right] - \\left[ \\sum_i \\binom{a_i}{2} \\sum_j \\binom{b_j}{2} \\right] / \\binom{n}{2}}$"
      ],
      "text/plain": [
       "<IPython.core.display.Math object>"
      ]
     },
     "metadata": {},
     "output_type": "display_data"
    },
    {
     "data": {
      "text/markdown": [
       "- **Область значений:** от -1 до 1"
      ],
      "text/plain": [
       "<IPython.core.display.Markdown object>"
      ]
     },
     "metadata": {},
     "output_type": "display_data"
    },
    {
     "data": {
      "text/markdown": [
       "- **Наилучшее значение:** ближе к 1"
      ],
      "text/plain": [
       "<IPython.core.display.Markdown object>"
      ]
     },
     "metadata": {},
     "output_type": "display_data"
    },
    {
     "data": {
      "text/markdown": [
       "- **Наихудшее значение:** ближе к -1"
      ],
      "text/plain": [
       "<IPython.core.display.Markdown object>"
      ]
     },
     "metadata": {},
     "output_type": "display_data"
    },
    {
     "data": {
      "text/markdown": [
       "<span style='color: red; font-size: 25px;'><b>Метрики Дистанций для Кластеризации и Рекомендательных Систем</b></span>"
      ],
      "text/plain": [
       "<IPython.core.display.Markdown object>"
      ]
     },
     "metadata": {},
     "output_type": "display_data"
    },
    {
     "data": {
      "text/markdown": [
       "**Расстояние Минковского (Minkowski):** Обобщение расстояний Евклида и Манхэттена. Параметр p определяет степень обобщения. При p=1 оно совпадает с Манхэттенским расстоянием, при p=2 - с Евклидовым расстоянием."
      ],
      "text/plain": [
       "<IPython.core.display.Markdown object>"
      ]
     },
     "metadata": {},
     "output_type": "display_data"
    },
    {
     "data": {
      "text/latex": [
       "$\\displaystyle d(x, y) = \\left( \\sum_{i=1}^{n} |x_i - y_i|^p \\right)^{\\frac{1}{p}}$"
      ],
      "text/plain": [
       "<IPython.core.display.Math object>"
      ]
     },
     "metadata": {},
     "output_type": "display_data"
    },
    {
     "data": {
      "text/markdown": [
       "Эта метрика позволяет гибко регулировать влияние больших и малых расстояний между точками. В алгоритмах кластеризации, таких как k-means, выбор параметра p может существенно повлиять на результат."
      ],
      "text/plain": [
       "<IPython.core.display.Markdown object>"
      ]
     },
     "metadata": {},
     "output_type": "display_data"
    },
    {
     "data": {
      "text/markdown": [
       "**Манхэттенское Расстояние (Cityblock/Manhattan):** Сумма абсолютных различий по каждой координате. Также известно как L1-норма. Используется в задачах, где перемещения возможны только по осям координат, как на решетке."
      ],
      "text/plain": [
       "<IPython.core.display.Markdown object>"
      ]
     },
     "metadata": {},
     "output_type": "display_data"
    },
    {
     "data": {
      "text/latex": [
       "$\\displaystyle d(x, y) = \\sum_{i=1}^{n} |x_i - y_i|$"
      ],
      "text/plain": [
       "<IPython.core.display.Math object>"
      ]
     },
     "metadata": {},
     "output_type": "display_data"
    },
    {
     "data": {
      "text/markdown": [
       "Эта метрика часто применяется в задачах с сеточными структурами, например, в таксопарках, где перемещения возможны только вдоль улиц, параллельных осям координат."
      ],
      "text/plain": [
       "<IPython.core.display.Markdown object>"
      ]
     },
     "metadata": {},
     "output_type": "display_data"
    },
    {
     "data": {
      "text/markdown": [
       "**Косинусное Расстояние (Cosine):** Измеряет угловую разницу между двумя векторами, интерпретируемую как разность направлений. Векторная разница не зависит от длины векторов."
      ],
      "text/plain": [
       "<IPython.core.display.Markdown object>"
      ]
     },
     "metadata": {},
     "output_type": "display_data"
    },
    {
     "data": {
      "text/latex": [
       "$\\displaystyle d(x, y) = 1 - \\frac{\\sum_{i=1}^{n} x_i y_i}{\\sqrt{\\sum_{i=1}^{n} x_i^2} \\cdot \\sqrt{\\sum_{i=1}^{n} y_i^2}}$"
      ],
      "text/plain": [
       "<IPython.core.display.Math object>"
      ]
     },
     "metadata": {},
     "output_type": "display_data"
    },
    {
     "data": {
      "text/markdown": [
       "Эта метрика широко используется в рекомендательных системах и анализе текстов, где важна схожесть направлений векторов, представляющих документы или профили пользователей."
      ],
      "text/plain": [
       "<IPython.core.display.Markdown object>"
      ]
     },
     "metadata": {},
     "output_type": "display_data"
    },
    {
     "data": {
      "text/markdown": [
       "**Евклидово Расстояние (Euclidean):** Квадратный корень из суммы квадратов различий по каждой координате. Также известно как L2-норма. Является естественным измерением расстояния в евклидовом пространстве."
      ],
      "text/plain": [
       "<IPython.core.display.Markdown object>"
      ]
     },
     "metadata": {},
     "output_type": "display_data"
    },
    {
     "data": {
      "text/latex": [
       "$\\displaystyle d(x, y) = \\sqrt{\\sum_{i=1}^{n} (x_i - y_i)^2}$"
      ],
      "text/plain": [
       "<IPython.core.display.Math object>"
      ]
     },
     "metadata": {},
     "output_type": "display_data"
    },
    {
     "data": {
      "text/markdown": [
       "Эта метрика является основной в геометрических задачах и алгоритмах кластеризации, таких как k-means, где естественное расстояние между точками играет ключевую роль."
      ],
      "text/plain": [
       "<IPython.core.display.Markdown object>"
      ]
     },
     "metadata": {},
     "output_type": "display_data"
    },
    {
     "data": {
      "text/markdown": [
       "**Расстояние Хаверсина (Haversine):** Используется для вычисления расстояния между двумя точками на сфере, например, на Земле. Учитывает кривизну поверхности."
      ],
      "text/plain": [
       "<IPython.core.display.Markdown object>"
      ]
     },
     "metadata": {},
     "output_type": "display_data"
    },
    {
     "data": {
      "text/latex": [
       "$\\displaystyle d(x, y) = 2r \\arcsin \\left( \\sqrt{\\sin^2\\left(\\frac{\\varphi_2 - \\varphi_1}{2}\\right) + \\cos(\\varphi_1) \\cos(\\varphi_2) \\sin^2\\left(\\frac{\\lambda_2 - \\lambda_1}{2}\\right)} \\right)$"
      ],
      "text/plain": [
       "<IPython.core.display.Math object>"
      ]
     },
     "metadata": {},
     "output_type": "display_data"
    },
    {
     "data": {
      "text/markdown": [
       "Эта метрика важна в географических информационных системах (ГИС) и навигационных приложениях, где необходимо учитывать кривизну Земли для точных вычислений расстояний."
      ],
      "text/plain": [
       "<IPython.core.display.Markdown object>"
      ]
     },
     "metadata": {},
     "output_type": "display_data"
    },
    {
     "data": {
      "text/markdown": [
       "**L1 Расстояние (L1):** Сумма абсолютных различий по каждой координате. Совпадает с Манхэттенским расстоянием."
      ],
      "text/plain": [
       "<IPython.core.display.Markdown object>"
      ]
     },
     "metadata": {},
     "output_type": "display_data"
    },
    {
     "data": {
      "text/latex": [
       "$\\displaystyle d(x, y) = \\sum_{i=1}^{n} |x_i - y_i|$"
      ],
      "text/plain": [
       "<IPython.core.display.Math object>"
      ]
     },
     "metadata": {},
     "output_type": "display_data"
    },
    {
     "data": {
      "text/markdown": [
       "Используется в задачах оптимизации и регуляризации, где предпочтительно минимизировать сумму абсолютных отклонений, а не квадратов отклонений."
      ],
      "text/plain": [
       "<IPython.core.display.Markdown object>"
      ]
     },
     "metadata": {},
     "output_type": "display_data"
    },
    {
     "data": {
      "text/markdown": [
       "**L2 Расстояние (L2):** Квадратный корень из суммы квадратов различий по каждой координате. Совпадает с Евклидовым расстоянием."
      ],
      "text/plain": [
       "<IPython.core.display.Markdown object>"
      ]
     },
     "metadata": {},
     "output_type": "display_data"
    },
    {
     "data": {
      "text/latex": [
       "$\\displaystyle d(x, y) = \\sqrt{\\sum_{i=1}^{n} (x_i - y_i)^2}$"
      ],
      "text/plain": [
       "<IPython.core.display.Math object>"
      ]
     },
     "metadata": {},
     "output_type": "display_data"
    },
    {
     "data": {
      "text/markdown": [
       "Широко применяется в алгоритмах машинного обучения, таких как метод наименьших квадратов, где минимизация квадратов отклонений является ключевой целью."
      ],
      "text/plain": [
       "<IPython.core.display.Markdown object>"
      ]
     },
     "metadata": {},
     "output_type": "display_data"
    },
    {
     "data": {
      "text/markdown": [
       "**Манхэттенское Расстояние (Manhattan):** Сумма абсолютных различий по каждой координате. Совпадает с L1 расстоянием."
      ],
      "text/plain": [
       "<IPython.core.display.Markdown object>"
      ]
     },
     "metadata": {},
     "output_type": "display_data"
    },
    {
     "data": {
      "text/latex": [
       "$\\displaystyle d(x, y) = \\sum_{i=1}^{n} |x_i - y_i|$"
      ],
      "text/plain": [
       "<IPython.core.display.Math object>"
      ]
     },
     "metadata": {},
     "output_type": "display_data"
    },
    {
     "data": {
      "text/markdown": [
       "Используется в задачах, где движение происходит по прямым линиям вдоль осей координат, например, в маршрутизации транспортных средств в городских условиях."
      ],
      "text/plain": [
       "<IPython.core.display.Markdown object>"
      ]
     },
     "metadata": {},
     "output_type": "display_data"
    },
    {
     "data": {
      "text/markdown": [
       "**Nan Евклидово Расстояние (Nan Euclidean):** Евклидово расстояние, игнорируя пропущенные значения (NaN)."
      ],
      "text/plain": [
       "<IPython.core.display.Markdown object>"
      ]
     },
     "metadata": {},
     "output_type": "display_data"
    },
    {
     "data": {
      "text/latex": [
       "$\\displaystyle d(x, y) = \\sqrt{\\sum_{i=1}^{n} w_i (x_i - y_i)^2}, \\text{ where } w_i = \\begin{cases} 0, & \\text{if } x_i \\text{ or } y_i \\text{ is NaN} \\\\ 1, & \\text{otherwise} \\end{cases}$"
      ],
      "text/plain": [
       "<IPython.core.display.Math object>"
      ]
     },
     "metadata": {},
     "output_type": "display_data"
    },
    {
     "data": {
      "text/markdown": [
       "Эта метрика полезна в анализе данных с пропусками, где важно учитывать только доступные данные без влияния пропущенных значений."
      ],
      "text/plain": [
       "<IPython.core.display.Markdown object>"
      ]
     },
     "metadata": {},
     "output_type": "display_data"
    },
    {
     "data": {
      "text/markdown": [
       "**Расстояние Левенштейна (Levenshtein):** Минимальное количество односимвольных правок (вставка, удаление, замена), необходимых для преобразования одной строки в другую."
      ],
      "text/plain": [
       "<IPython.core.display.Markdown object>"
      ]
     },
     "metadata": {},
     "output_type": "display_data"
    },
    {
     "data": {
      "text/latex": [
       "$\\displaystyle d(a, b) = \\min \\begin{cases} d(a_{1..i-1}, b_{1..j}) + 1 \\\\ d(a_{1..i}, b_{1..j-1}) + 1 \\\\ d(a_{1..i-1}, b_{1..j-1}) + \\begin{cases} 0, & \\text{if } a_i = b_j \\\\ 1, & \\text{otherwise} \\end{cases} \\end{cases}$"
      ],
      "text/plain": [
       "<IPython.core.display.Math object>"
      ]
     },
     "metadata": {},
     "output_type": "display_data"
    },
    {
     "data": {
      "text/markdown": [
       "Используется в задачах обработки текста и биоинформатики для сравнения строк, таких как последовательности ДНК, текстовые данные, где важны операции редактирования."
      ],
      "text/plain": [
       "<IPython.core.display.Markdown object>"
      ]
     },
     "metadata": {},
     "output_type": "display_data"
    }
   ],
   "source": [
    "from IPython.display import display, Markdown, Math\n",
    "\n",
    "# Function to display metric formulas\n",
    "def display_metric(name, description, formula):\n",
    "    display(Markdown(f\"**{name}:** {description}\"))\n",
    "    display(Math(formula))\n",
    "\n",
    "# Regression Metrics\n",
    "display(Markdown(\"<span style='color: red; font-size: 25px;'><b>Метрики Регрессии</b></span>\"))\n",
    "\n",
    "# Mean Absolute Error (MAE)\n",
    "display_metric(\"Средняя Абсолютная Ошибка (MAE)\",\n",
    "               \"Измеряет среднюю величину ошибок в наборе предсказаний, не учитывая их направление.\",\n",
    "               r'MAE = \\frac{1}{n} \\sum_{i=1}^{n} |y_i - \\hat{y}_i|')\n",
    "\n",
    "# Mean Squared Error (MSE)\n",
    "display_metric(\"Средняя Квадратическая Ошибка (MSE)\",\n",
    "               \"Измеряет среднее значение квадратов ошибок. Более чувствителен к выбросам, чем MAE.\",\n",
    "               r'MSE = \\frac{1}{n} \\sum_{i=1}^{n} (y_i - \\hat{y}_i)^2')\n",
    "\n",
    "# Root Mean Squared Error (RMSE)\n",
    "display_metric(\"Квадратный Корень из Средней Квадратической Ошибки (RMSE)\",\n",
    "               \"Квадратный корень из средней квадратической ошибки. Представляет стандартное отклонение остатков.\",\n",
    "               r'RMSE = \\sqrt{MSE}')\n",
    "\n",
    "# Max Error\n",
    "display_metric(\"Максимальная Ошибка\",\n",
    "               \"Измеряет максимальную остаточную ошибку.\",\n",
    "               r'\\text{Max Error} = \\max(|y_i - \\hat{y}_i|)')\n",
    "\n",
    "# Coverage Error\n",
    "display_metric(\"Ошибка Покрытия\",\n",
    "               \"Измеряет среднее количество меток, которые нужно включить в предсказание, чтобы все истинные метки были предсказаны.\",\n",
    "               r'\\text{Coverage Error} = \\frac{1}{n} \\sum_{i=1}^{n} \\min(k : y_i \\in \\text{Top-k}(\\hat{y}_i))')\n",
    "\n",
    "# Mean Absolute Percentage Error (MAPE)\n",
    "display_metric(\"Средняя Абсолютная Процентная Ошибка (MAPE)\",\n",
    "               \"Измеряет среднее значение абсолютных процентных ошибок.\",\n",
    "               r'MAPE = \\frac{1}{n} \\sum_{i=1}^{n} \\left| \\frac{y_i - \\hat{y}_i}{y_i} \\right| \\times 100')\n",
    "\n",
    "# Median Absolute Error\n",
    "display_metric(\"Медианная Абсолютная Ошибка\",\n",
    "               \"Измеряет медиану абсолютных ошибок.\",\n",
    "               r'\\text{Median Absolute Error} = \\text{median}(|y_i - \\hat{y}_i|)')\n",
    "\n",
    "# Mean Squared Logarithmic Error (MSLE)\n",
    "display_metric(\"Средняя Квадратическая Логарифмическая Ошибка (MSLE)\",\n",
    "               \"Измеряет среднее значение квадратов логарифмических ошибок.\",\n",
    "               r'MSLE = \\frac{1}{n} \\sum_{i=1}^{n} (\\log(1 + y_i) - \\log(1 + \\hat{y}_i))^2')\n",
    "\n",
    "# Root Mean Squared Logarithmic Error (RMSLE)\n",
    "display_metric(\"Квадратный Корень из Средней Квадратической Логарифмической Ошибки (RMSLE)\",\n",
    "               \"Квадратный корень из средней квадратической логарифмической ошибки.\",\n",
    "               r'RMSLE = \\sqrt{MSLE}')\n",
    "\n",
    "# Classification Metrics\n",
    "display(Markdown(\"<span style='color: red; font-size: 25px;'><b>Метрики Классификации</b></span>\"))\n",
    "\n",
    "# Accuracy Score\n",
    "display_metric(\"Точность (Accuracy Score)\",\n",
    "               \"Измеряет отношение правильно предсказанных случаев к общему количеству случаев.\",\n",
    "               r'Accuracy = \\frac{1}{n_{samples}} \\sum_{i=0}^{n_{samples}-1} 1(\\hat{y}_i = y_i)')\n",
    "\n",
    "# Precision Score\n",
    "display_metric(\"Точность (Precision Score)\",\n",
    "               \"Измеряет отношение правильно предсказанных положительных наблюдений к общему количеству предсказанных положительных наблюдений.\",\n",
    "               r'Precision = \\frac{TP}{TP + FP}')\n",
    "\n",
    "# Recall Score\n",
    "display_metric(\"Полнота (Recall Score)\",\n",
    "               \"Измеряет отношение правильно предсказанных положительных наблюдений ко всем наблюдениям в фактическом классе.\",\n",
    "               r'Recall = \\frac{TP}{TP + FN}')\n",
    "\n",
    "# F1 Score\n",
    "display_metric(\"F1 Оценка (F1 Score)\",\n",
    "               \"Взвешенное среднее значение Точности и Полноты.\",\n",
    "               r'F1 = 2 \\times \\frac{Precision \\times Recall}{Precision + Recall}')\n",
    "\n",
    "# ROC AUC Score\n",
    "display_metric(\"ROC AUC Оценка (ROC AUC Score)\",\n",
    "               \"Измеряет площадь под ROC кривой.\",\n",
    "               r'\\text{ROC AUC} = \\int_{0}^{1} \\text{ROC}(t) \\, dt')\n",
    "\n",
    "# R2 Score\n",
    "display_metric(\"Коэффициент детерминации (R2 Score)\",\n",
    "               \"Измеряет долю дисперсии в зависимой переменной, предсказуемую из независимых переменных.\",\n",
    "               r'R^2 = 1 - \\frac{\\sum_{i=1}^{n} (y_i - \\hat{y}_i)^2}{\\sum_{i=1}^{n} (y_i - \\bar{y})^2}')\n",
    "\n",
    "# D2 Absolute Error Score\n",
    "display_metric(\"D2 Оценка Абсолютной Ошибки (D2 Absolute Error Score)\",\n",
    "               \"Измеряет степень отклонения от модели абсолютной ошибки.\",\n",
    "               r'D^2 = 1 - \\frac{\\sum_{i=1}^{n} |y_i - \\hat{y}_i|}{\\sum_{i=1}^{n} |y_i - \\bar{y}|}')\n",
    "\n",
    "# NDCG Score\n",
    "display_metric(\"NDCG Оценка (NDCG Score)\",\n",
    "               \"Измеряет качество ранжирования.\",\n",
    "               r'NDCG = \\frac{DCG}{IDCG}')\n",
    "\n",
    "# Rand Score\n",
    "display_metric(\"Ранд Оценка (Rand Score)\",\n",
    "               \"Измеряет сходство между двумя кластеризациями данных.\",\n",
    "               r'Rand = \\frac{TP + TN}{TP + FP + FN + TN}')\n",
    "\n",
    "# DCG Score\n",
    "display_metric(\"DCG Оценка (DCG Score)\",\n",
    "               \"Измеряет качество ранжирования.\",\n",
    "               r'DCG = \\sum_{i=1}^{n} \\frac{2^{rel_i} - 1}{\\log_2(i + 1)}')\n",
    "\n",
    "# Fbeta Score\n",
    "display_metric(\"Fbeta Оценка (Fbeta Score)\",\n",
    "               \"Взвешенное среднее значение Точности и Полноты с весовым коэффициентом beta.\",\n",
    "               r'F_\\beta = (1 + \\beta^2) \\times \\frac{Precision \\times Recall}{\\beta^2 \\times Precision + Recall}')\n",
    "\n",
    "# Adjusted Rand Score\n",
    "display_metric(\"Скорректированная Ранд Оценка (Adjusted Rand Score)\",\n",
    "               \"Измеряет сходство между двумя кластеризациями данных с учетом случайности.\",\n",
    "               r'Adjusted \\, Rand = \\frac{RI - Expected \\, RI}{Max \\, RI - Expected \\, RI}')\n",
    "\n",
    "# Silhouette Score\n",
    "display_metric(\"Оценка Силуэта (Silhouette Score)\",\n",
    "               \"Измеряет, насколько объект похож на свой собственный кластер по сравнению с другими кластерами.\",\n",
    "               r'Silhouette = \\frac{b - a}{\\max(a, b)}')\n",
    "\n",
    "# Completeness Score\n",
    "display_metric(\"Оценка Полноты (Completeness Score)\",\n",
    "               \"Измеряет, все ли точки данных, являющиеся членами данного класса, являются элементами одного и того же кластера.\",\n",
    "               r'Completeness = 1 - \\frac{H(C|K)}{H(C)}')\n",
    "\n",
    "# Homogeneity Score\n",
    "display_metric(\"Оценка Однородности (Homogeneity Score)\",\n",
    "               \"Измеряет, содержит ли каждый кластер только члены одного класса.\",\n",
    "               r'Homogeneity = 1 - \\frac{H(K|C)}{H(K)}')\n",
    "\n",
    "# Jaccard Score\n",
    "display_metric(\"Оценка Жаккара (Jaccard Score)\",\n",
    "               \"Измеряет сходство между наборами образцов.\",\n",
    "               r'Jaccard = \\frac{|A \\cap B|}{|A \\cup B|}')\n",
    "\n",
    "# Consensus Score\n",
    "display_metric(\"Оценка Консенсуса (Consensus Score)\",\n",
    "               \"Измеряет консенсус результатов кластеризации.\",\n",
    "               r'Consensus = \\frac{2}{n(n-1)} \\sum_{i < j} \\frac{a_{ij} \\cdot b_{ij}}{\\sqrt{a_{ij} \\cdot a_{ji} \\cdot b_{ij} \\cdot b_{ji}}}')\n",
    "\n",
    "# V-measure Score\n",
    "display_metric(\"Оценка V-меры (V-measure Score)\",\n",
    "               \"Измеряет гармоническое среднее между Однородностью и Полнотой.\",\n",
    "               r'V = 2 \\times \\frac{Homogeneity \\times Completeness}{Homogeneity + Completeness}')\n",
    "\n",
    "# Brier Score Loss\n",
    "display_metric(\"Оценка Потерь Брайера (Brier Score Loss)\",\n",
    "               \"Измеряет среднеквадратичную разницу между предсказанными вероятностями и фактическими бинарными значениями.\",\n",
    "               r'Brier = \\frac{1}{n} \\sum_{i=1}^{n} (f_i - o_i)^2')\n",
    "\n",
    "# D2 Tweedie Score\n",
    "display_metric(\"D2 Оценка Твиди (D2 Tweedie Score)\",\n",
    "               \"Измеряет степень отклонения от модели Твиди.\",\n",
    "               r'D^2 = 1 - \\frac{\\sum_{i=1}^{n} |y_i - \\hat{y}_i|^p}{\\sum_{i=1}^{n} |y_i - \\bar{y}|^p}')\n",
    "\n",
    "# Cohen's Kappa Score\n",
    "display_metric(\"Оценка Каппы Коэна (Cohen's Kappa Score)\",\n",
    "               \"Измеряет согласие между двумя оценщиками.\",\n",
    "               r'Kappa = \\frac{p_o - p_e}{1 - p_e}')\n",
    "\n",
    "# D2 Pinball Score\n",
    "display_metric(\"D2 Оценка Пинбола (D2 Pinball Score)\",\n",
    "               \"Измеряет степень отклонения от модели Пинбола.\",\n",
    "               r'D^2 = 1 - \\frac{\\sum_{i=1}^{n} L(y_i, \\hat{y}_i)}{\\sum_{i=1}^{n} L(y_i, \\bar{y})}')\n",
    "\n",
    "# Mutual Information Score\n",
    "display_metric(\"Оценка Взаимной Информации (Mutual Information Score)\",\n",
    "               \"Измеряет взаимную информацию между двумя наборами данных.\",\n",
    "               r'MI = \\sum_{x \\in X} \\sum_{y \\in Y} p(x, y) \\log \\left( \\frac{p(x, y)}{p(x) p(y)} \\right)')\n",
    "\n",
    "# Adjusted Mutual Information Score\n",
    "display_metric(\"Скорректированная Оценка Взаимной Информации (Adjusted Mutual Information Score)\",\n",
    "               \"Измеряет взаимную информацию между двумя наборами данных с учетом случайности.\",\n",
    "               r'AMI = \\frac{MI - E[MI]}{\\max(H(U), H(V)) - E[MI]}')\n",
    "\n",
    "# Average Precision Score\n",
    "display_metric(\"Средняя Оценка Точности (Average Precision Score)\",\n",
    "               \"Измеряет площадь под кривой точность-полнота.\",\n",
    "               r'AP = \\sum_n (R_n - R_{n-1}) P_n')\n",
    "\n",
    "# Label Ranking Average Precision Score\n",
    "display_metric(\"Средняя Оценка Точности Ранжирования Меток (Label Ranking Average Precision Score)\",\n",
    "               \"Измеряет среднюю оценку точности для ранжирования меток.\",\n",
    "               r'LRAP = \\frac{1}{n} \\sum_{i=1}^{n} \\frac{\\sum_{j=1}^{k} P(y_{ij})}{\\max_{y_{ij}} P(y_{ij})}')\n",
    "\n",
    "# Balanced Accuracy Score\n",
    "display_metric(\"Сбалансированная Точность (Balanced Accuracy Score)\",\n",
    "               \"Измеряет сбалансированную точность.\",\n",
    "               r'Balanced \\, Accuracy = \\frac{Sensitivity + Specificity}{2}')\n",
    "\n",
    "# Top K Accuracy Score\n",
    "display_metric(\"Топ K Точность (Top K Accuracy Score)\",\n",
    "               \"Измеряет точность с учетом топ k предсказаний.\",\n",
    "               r'Top \\, K \\, Accuracy = \\frac{1}{n} \\sum_{i=1}^{n} 1(y_i \\in \\text{Top-k}(\\hat{y}_i))')\n",
    "\n",
    "# Calinski Harabasz Score\n",
    "display_metric(\"Оценка Калински-Харабаша (Calinski Harabasz Score)\",\n",
    "               \"Измеряет отношение суммы межкластерной дисперсии к внутрикластерной дисперсии.\",\n",
    "               r'CH = \\frac{Tr(B_k)}{Tr(W_k)} \\times \\frac{n - k}{k - 1}')\n",
    "\n",
    "# Function to display metric formulas\n",
    "def display_metric(name, description, formula, value_range, best_case, worst_case):\n",
    "    display(Markdown(f\"**{name}:** {description}\"))\n",
    "    display(Math(formula))\n",
    "    display(Markdown(f\"- **Область значений:** {value_range}\"))\n",
    "    display(Markdown(f\"- **Наилучшее значение:** {best_case}\"))\n",
    "    display(Markdown(f\"- **Наихудшее значение:** {worst_case}\"))\n",
    "\n",
    "# Clustering Metrics\n",
    "display(Markdown(\"<span style='color: red; font-size: 25px;'><b>Метрики Кластеризации</b></span>\"))\n",
    "\n",
    "# Silhouette Coefficient\n",
    "display_metric(\n",
    "    \"Силуэтный коэффициент (Silhouette Coefficient)\",\n",
    "    \"Эта метрика измеряет, насколько близко каждый объект в кластере к другим объектам из того же кластера по сравнению с объектами из других кластеров.\",\n",
    "    r's(i) = \\frac{b(i) - a(i)}{\\max(a(i), b(i))}',\n",
    "    \"от -1 до 1\",\n",
    "    \"ближе к 1\",\n",
    "    \"ближе к -1\"\n",
    ")\n",
    "\n",
    "# Davies-Bouldin Index\n",
    "display_metric(\n",
    "    \"Индекс Давиеса-Болдина (Davies-Bouldin Index)\",\n",
    "    \"Эта метрика измеряет \\\"расплывчатость\\\" кластеров, оценивая отношение расстояния между кластерами к их размерам.\",\n",
    "    r'DB = \\frac{1}{k} \\sum_{i=1}^{k} \\max_{i \\neq j} \\left( \\frac{\\sigma_i + \\sigma_j}{d_{ij}} \\right)',\n",
    "    \"от 0 до ∞ (меньше — лучше)\",\n",
    "    \"ближе к 0\",\n",
    "    \"большие значения\"\n",
    ")\n",
    "\n",
    "# Calinski-Harabasz Index\n",
    "display_metric(\n",
    "    \"Индекс Калинского-Харабаса (Calinski-Harabasz Index)\",\n",
    "    \"Эта метрика измеряет отношение сумм внутрикластерных и межкластерных расстояний, оценивая плотность и разделение кластеров.\",\n",
    "    r'CH = \\frac{\\text{trace}(B_k) / (k - 1)}{\\text{trace}(W_k) / (n - k)}',\n",
    "    \"от 0 до ∞ (больше — лучше)\",\n",
    "    \"большие значения\",\n",
    "    \"меньшие значения\"\n",
    ")\n",
    "\n",
    "# Dunn Index\n",
    "display_metric(\n",
    "    \"Индекс Данс (Dunn Index)\",\n",
    "    \"Эта метрика оценивает плотность кластеров и их разделение, вычисляя минимальное межкластерное расстояние, деленное на максимальный диаметр кластера.\",\n",
    "    r'D = \\frac{\\min_{1 \\leq i < j \\leq k} d(C_i, C_j)}{\\max_{1 \\leq l \\leq k} \\delta(C_l)}',\n",
    "    \"от 0 до ∞ (больше — лучше)\",\n",
    "    \"большие значения\",\n",
    "    \"меньшие значения\"\n",
    ")\n",
    "\n",
    "# V-Measure\n",
    "display_metric(\n",
    "    \"V-Measure\",\n",
    "    \"Это мера, основанная на энтропии, оценивающая как полноту (все объекты одного класса находятся в одном кластере), так и правильность (все объекты одного кластера принадлежат одному классу).\",\n",
    "    r'V = 2 \\times \\frac{\\text{homogeneity} \\times \\text{completeness}}{\\text{homogeneity} + \\text{completeness}}',\n",
    "    \"от 0 до 1\",\n",
    "    \"ближе к 1\",\n",
    "    \"ближе к 0\"\n",
    ")\n",
    "\n",
    "# Adjusted Rand Index (ARI)\n",
    "display_metric(\n",
    "    \"Adjusted Rand Index (ARI)\",\n",
    "    \"Эта мера оценивает сходство между двумя различными кластеризациями, учитывающая случайные совпадения.\",\n",
    "    r'ARI = \\frac{\\sum_{ij} \\binom{n_{ij}}{2} - \\left[ \\sum_i \\binom{a_i}{2} \\sum_j \\binom{b_j}{2} \\right] / \\binom{n}{2}}{0.5 \\left[ \\sum_i \\binom{a_i}{2} + \\sum_j \\binom{b_j}{2} \\right] - \\left[ \\sum_i \\binom{a_i}{2} \\sum_j \\binom{b_j}{2} \\right] / \\binom{n}{2}}',\n",
    "    \"от -1 до 1\",\n",
    "    \"ближе к 1\",\n",
    "    \"ближе к -1\"\n",
    ")\n",
    "\n",
    "# Function to display metric formulas\n",
    "def display_metric(name, description, formula, additional_info):\n",
    "    display(Markdown(f\"**{name}:** {description}\"))\n",
    "    display(Math(formula))\n",
    "    if additional_info:\n",
    "        display(Markdown(additional_info))\n",
    "\n",
    "# Clustering and Recommender System Distance Metrics\n",
    "display(Markdown(\"<span style='color: red; font-size: 25px;'><b>Метрики Дистанций для Кластеризации и Рекомендательных Систем</b></span>\"))\n",
    "\n",
    "# Minkowski Distance\n",
    "display_metric(\"Расстояние Минковского (Minkowski)\",\n",
    "               \"Обобщение расстояний Евклида и Манхэттена. Параметр p определяет степень обобщения. При p=1 оно совпадает с Манхэттенским расстоянием, при p=2 - с Евклидовым расстоянием.\",\n",
    "               r'd(x, y) = \\left( \\sum_{i=1}^{n} |x_i - y_i|^p \\right)^{\\frac{1}{p}}',\n",
    "               \"Эта метрика позволяет гибко регулировать влияние больших и малых расстояний между точками. В алгоритмах кластеризации, таких как k-means, выбор параметра p может существенно повлиять на результат.\")\n",
    "\n",
    "# Cityblock Distance (Manhattan Distance)\n",
    "display_metric(\"Манхэттенское Расстояние (Cityblock/Manhattan)\",\n",
    "               \"Сумма абсолютных различий по каждой координате. Также известно как L1-норма. Используется в задачах, где перемещения возможны только по осям координат, как на решетке.\",\n",
    "               r'd(x, y) = \\sum_{i=1}^{n} |x_i - y_i|',\n",
    "               \"Эта метрика часто применяется в задачах с сеточными структурами, например, в таксопарках, где перемещения возможны только вдоль улиц, параллельных осям координат.\")\n",
    "\n",
    "# Cosine Distance\n",
    "display_metric(\"Косинусное Расстояние (Cosine)\",\n",
    "               \"Измеряет угловую разницу между двумя векторами, интерпретируемую как разность направлений. Векторная разница не зависит от длины векторов.\",\n",
    "               r'd(x, y) = 1 - \\frac{\\sum_{i=1}^{n} x_i y_i}{\\sqrt{\\sum_{i=1}^{n} x_i^2} \\cdot \\sqrt{\\sum_{i=1}^{n} y_i^2}}',\n",
    "               \"Эта метрика широко используется в рекомендательных системах и анализе текстов, где важна схожесть направлений векторов, представляющих документы или профили пользователей.\")\n",
    "\n",
    "# Euclidean Distance\n",
    "display_metric(\"Евклидово Расстояние (Euclidean)\",\n",
    "               \"Квадратный корень из суммы квадратов различий по каждой координате. Также известно как L2-норма. Является естественным измерением расстояния в евклидовом пространстве.\",\n",
    "               r'd(x, y) = \\sqrt{\\sum_{i=1}^{n} (x_i - y_i)^2}',\n",
    "               \"Эта метрика является основной в геометрических задачах и алгоритмах кластеризации, таких как k-means, где естественное расстояние между точками играет ключевую роль.\")\n",
    "\n",
    "# Haversine Distance\n",
    "display_metric(\"Расстояние Хаверсина (Haversine)\",\n",
    "               \"Используется для вычисления расстояния между двумя точками на сфере, например, на Земле. Учитывает кривизну поверхности.\",\n",
    "               r'd(x, y) = 2r \\arcsin \\left( \\sqrt{\\sin^2\\left(\\frac{\\varphi_2 - \\varphi_1}{2}\\right) + \\cos(\\varphi_1) \\cos(\\varphi_2) \\sin^2\\left(\\frac{\\lambda_2 - \\lambda_1}{2}\\right)} \\right)',\n",
    "               \"Эта метрика важна в географических информационных системах (ГИС) и навигационных приложениях, где необходимо учитывать кривизну Земли для точных вычислений расстояний.\")\n",
    "\n",
    "# L1 Distance (Same as Cityblock/Manhattan)\n",
    "display_metric(\"L1 Расстояние (L1)\",\n",
    "               \"Сумма абсолютных различий по каждой координате. Совпадает с Манхэттенским расстоянием.\",\n",
    "               r'd(x, y) = \\sum_{i=1}^{n} |x_i - y_i|',\n",
    "               \"Используется в задачах оптимизации и регуляризации, где предпочтительно минимизировать сумму абсолютных отклонений, а не квадратов отклонений.\")\n",
    "\n",
    "# L2 Distance (Same as Euclidean)\n",
    "display_metric(\"L2 Расстояние (L2)\",\n",
    "               \"Квадратный корень из суммы квадратов различий по каждой координате. Совпадает с Евклидовым расстоянием.\",\n",
    "               r'd(x, y) = \\sqrt{\\sum_{i=1}^{n} (x_i - y_i)^2}',\n",
    "               \"Широко применяется в алгоритмах машинного обучения, таких как метод наименьших квадратов, где минимизация квадратов отклонений является ключевой целью.\")\n",
    "\n",
    "# Manhattan Distance (Same as Cityblock)\n",
    "display_metric(\"Манхэттенское Расстояние (Manhattan)\",\n",
    "               \"Сумма абсолютных различий по каждой координате. Совпадает с L1 расстоянием.\",\n",
    "               r'd(x, y) = \\sum_{i=1}^{n} |x_i - y_i|',\n",
    "               \"Используется в задачах, где движение происходит по прямым линиям вдоль осей координат, например, в маршрутизации транспортных средств в городских условиях.\")\n",
    "\n",
    "# Nan Euclidean Distance\n",
    "display_metric(\"Nan Евклидово Расстояние (Nan Euclidean)\",\n",
    "               \"Евклидово расстояние, игнорируя пропущенные значения (NaN).\",\n",
    "               r'd(x, y) = \\sqrt{\\sum_{i=1}^{n} w_i (x_i - y_i)^2}, \\text{ where } w_i = \\begin{cases} 0, & \\text{if } x_i \\text{ or } y_i \\text{ is NaN} \\\\ 1, & \\text{otherwise} \\end{cases}',\n",
    "               \"Эта метрика полезна в анализе данных с пропусками, где важно учитывать только доступные данные без влияния пропущенных значений.\")\n",
    "\n",
    "# Levenshtein Distance\n",
    "display_metric(\"Расстояние Левенштейна (Levenshtein)\",\n",
    "               \"Минимальное количество односимвольных правок (вставка, удаление, замена), необходимых для преобразования одной строки в другую.\",\n",
    "               r'd(a, b) = \\min \\begin{cases} d(a_{1..i-1}, b_{1..j}) + 1 \\\\ d(a_{1..i}, b_{1..j-1}) + 1 \\\\ d(a_{1..i-1}, b_{1..j-1}) + \\begin{cases} 0, & \\text{if } a_i = b_j \\\\ 1, & \\text{otherwise} \\end{cases} \\end{cases}',\n",
    "               \"Используется в задачах обработки текста и биоинформатики для сравнения строк, таких как последовательности ДНК, текстовые данные, где важны операции редактирования.\")\n",
    "\n"
   ]
  },
  {
   "cell_type": "code",
   "execution_count": null,
   "metadata": {},
   "outputs": [],
   "source": []
  }
 ],
 "metadata": {
  "kernelspec": {
   "display_name": "iterpreter",
   "language": "python",
   "name": "python3"
  },
  "language_info": {
   "codemirror_mode": {
    "name": "ipython",
    "version": 3
   },
   "file_extension": ".py",
   "mimetype": "text/x-python",
   "name": "python",
   "nbconvert_exporter": "python",
   "pygments_lexer": "ipython3",
   "version": "3.11.9"
  }
 },
 "nbformat": 4,
 "nbformat_minor": 2
}

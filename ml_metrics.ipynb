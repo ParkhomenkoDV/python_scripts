{
 "cells": [
  {
   "cell_type": "markdown",
   "metadata": {},
   "source": [
    "https://habr.com/ru/articles/821547/"
   ]
  },
  {
   "cell_type": "code",
   "execution_count": 1,
   "metadata": {},
   "outputs": [],
   "source": [
    "from IPython.display import display, Markdown, Math"
   ]
  },
  {
   "cell_type": "code",
   "execution_count": 2,
   "metadata": {},
   "outputs": [
    {
     "data": {
      "text/markdown": [
       "<span style='color: purple; font-size: 25px;'><b>Метрики Регрессии</b></span>"
      ],
      "text/plain": [
       "<IPython.core.display.Markdown object>"
      ]
     },
     "metadata": {},
     "output_type": "display_data"
    },
    {
     "data": {
      "text/markdown": [
       "<center><span style=\"font-size:20px;font-weight: 800\">R2 Score</span></center>"
      ],
      "text/plain": [
       "<IPython.core.display.Markdown object>"
      ]
     },
     "metadata": {},
     "output_type": "display_data"
    },
    {
     "data": {
      "text/markdown": [
       "**Описание метрики**: R2 Score (или коэффициент детерминации) является мерой того, какая доля дисперсии зависимой переменной объясняется независимыми переменными модели."
      ],
      "text/plain": [
       "<IPython.core.display.Markdown object>"
      ]
     },
     "metadata": {},
     "output_type": "display_data"
    },
    {
     "data": {
      "text/markdown": [
       "**Математическая формула метрики**:"
      ],
      "text/plain": [
       "<IPython.core.display.Markdown object>"
      ]
     },
     "metadata": {},
     "output_type": "display_data"
    },
    {
     "data": {
      "text/latex": [
       "$\\displaystyle R^2 = 1 - \\frac{\\sum_{i=1}^n (y_i - \\hat{y}_i)^2}{\\sum_{i=1}^n (y_i - \\bar{y})^2}$"
      ],
      "text/plain": [
       "<IPython.core.display.Math object>"
      ]
     },
     "metadata": {},
     "output_type": "display_data"
    },
    {
     "data": {
      "text/markdown": [
       "**Область применения метрики**: Используется для оценки качества моделей регрессии, особенно в задачах, где важно понять, насколько хорошо независимые переменные объясняют зависимую переменную."
      ],
      "text/plain": [
       "<IPython.core.display.Markdown object>"
      ]
     },
     "metadata": {},
     "output_type": "display_data"
    },
    {
     "data": {
      "text/markdown": [
       "**Область значений**: от -∞ до 1."
      ],
      "text/plain": [
       "<IPython.core.display.Markdown object>"
      ]
     },
     "metadata": {},
     "output_type": "display_data"
    },
    {
     "data": {
      "text/markdown": [
       "**Лучший и худший результат**: Лучший результат при значении: 1. Худший результат: -∞."
      ],
      "text/plain": [
       "<IPython.core.display.Markdown object>"
      ]
     },
     "metadata": {},
     "output_type": "display_data"
    },
    {
     "data": {
      "text/markdown": [
       "<center><span style=\"font-size:20px;font-weight: 800\">Mean Absolute Error (MAE)</span></center>"
      ],
      "text/plain": [
       "<IPython.core.display.Markdown object>"
      ]
     },
     "metadata": {},
     "output_type": "display_data"
    },
    {
     "data": {
      "text/markdown": [
       "**Описание метрики**: Mean Absolute Error (MAE) измеряет среднюю величину ошибок модели в прогнозировании, без учёта их направления."
      ],
      "text/plain": [
       "<IPython.core.display.Markdown object>"
      ]
     },
     "metadata": {},
     "output_type": "display_data"
    },
    {
     "data": {
      "text/markdown": [
       "**Математическая формула метрики**:"
      ],
      "text/plain": [
       "<IPython.core.display.Markdown object>"
      ]
     },
     "metadata": {},
     "output_type": "display_data"
    },
    {
     "data": {
      "text/latex": [
       "$\\displaystyle MAE = \\frac{1}{n} \\sum_{i=1}^n |y_i - \\hat{y}_i|$"
      ],
      "text/plain": [
       "<IPython.core.display.Math object>"
      ]
     },
     "metadata": {},
     "output_type": "display_data"
    },
    {
     "data": {
      "text/markdown": [
       "**Область применения метрики**: Часто используется в задачах прогнозирования временных рядов и других задачах регрессии, где требуется оценка средней точности модели."
      ],
      "text/plain": [
       "<IPython.core.display.Markdown object>"
      ]
     },
     "metadata": {},
     "output_type": "display_data"
    },
    {
     "data": {
      "text/markdown": [
       "**Область значений**: от 0 до ∞."
      ],
      "text/plain": [
       "<IPython.core.display.Markdown object>"
      ]
     },
     "metadata": {},
     "output_type": "display_data"
    },
    {
     "data": {
      "text/markdown": [
       "**Лучший и худший результат**: Лучший результат при значении: 0. Худший результат: ∞."
      ],
      "text/plain": [
       "<IPython.core.display.Markdown object>"
      ]
     },
     "metadata": {},
     "output_type": "display_data"
    },
    {
     "data": {
      "text/markdown": [
       "<center><span style=\"font-size:20px;font-weight: 800\">Mean Squared Error (MSE)</span></center>"
      ],
      "text/plain": [
       "<IPython.core.display.Markdown object>"
      ]
     },
     "metadata": {},
     "output_type": "display_data"
    },
    {
     "data": {
      "text/markdown": [
       "**Описание метрики**: Mean Squared Error (MSE) измеряет среднюю величину квадратов ошибок модели в прогнозировании."
      ],
      "text/plain": [
       "<IPython.core.display.Markdown object>"
      ]
     },
     "metadata": {},
     "output_type": "display_data"
    },
    {
     "data": {
      "text/markdown": [
       "**Математическая формула метрики**:"
      ],
      "text/plain": [
       "<IPython.core.display.Markdown object>"
      ]
     },
     "metadata": {},
     "output_type": "display_data"
    },
    {
     "data": {
      "text/latex": [
       "$\\displaystyle MSE = \\frac{1}{n} \\sum_{i=1}^n (y_i - \\hat{y}_i)^2$"
      ],
      "text/plain": [
       "<IPython.core.display.Math object>"
      ]
     },
     "metadata": {},
     "output_type": "display_data"
    },
    {
     "data": {
      "text/markdown": [
       "**Область применения метрики**: Часто используется в задачах регрессии, где важна оценка средней точности модели с увеличением штрафа за большие ошибки."
      ],
      "text/plain": [
       "<IPython.core.display.Markdown object>"
      ]
     },
     "metadata": {},
     "output_type": "display_data"
    },
    {
     "data": {
      "text/markdown": [
       "**Область значений**: от 0 до ∞."
      ],
      "text/plain": [
       "<IPython.core.display.Markdown object>"
      ]
     },
     "metadata": {},
     "output_type": "display_data"
    },
    {
     "data": {
      "text/markdown": [
       "**Лучший и худший результат**: Лучший результат при значении: 0. Худший результат: ∞."
      ],
      "text/plain": [
       "<IPython.core.display.Markdown object>"
      ]
     },
     "metadata": {},
     "output_type": "display_data"
    },
    {
     "data": {
      "text/markdown": [
       "<center><span style=\"font-size:20px;font-weight: 800\">Max Error</span></center>"
      ],
      "text/plain": [
       "<IPython.core.display.Markdown object>"
      ]
     },
     "metadata": {},
     "output_type": "display_data"
    },
    {
     "data": {
      "text/markdown": [
       "**Описание метрики**: Max Error измеряет максимальное отклонение прогноза модели от истинного значения."
      ],
      "text/plain": [
       "<IPython.core.display.Markdown object>"
      ]
     },
     "metadata": {},
     "output_type": "display_data"
    },
    {
     "data": {
      "text/markdown": [
       "**Математическая формула метрики**:"
      ],
      "text/plain": [
       "<IPython.core.display.Markdown object>"
      ]
     },
     "metadata": {},
     "output_type": "display_data"
    },
    {
     "data": {
      "text/latex": [
       "$\\displaystyle Max Error = \\max(|y_i - \\hat{y}_i|)$"
      ],
      "text/plain": [
       "<IPython.core.display.Math object>"
      ]
     },
     "metadata": {},
     "output_type": "display_data"
    },
    {
     "data": {
      "text/markdown": [
       "**Область применения метрики**: Используется для оценки наибольшей ошибки модели, полезно в случаях, где важен наибольший отклонение от истинных значений."
      ],
      "text/plain": [
       "<IPython.core.display.Markdown object>"
      ]
     },
     "metadata": {},
     "output_type": "display_data"
    },
    {
     "data": {
      "text/markdown": [
       "**Область значений**: от 0 до ∞."
      ],
      "text/plain": [
       "<IPython.core.display.Markdown object>"
      ]
     },
     "metadata": {},
     "output_type": "display_data"
    },
    {
     "data": {
      "text/markdown": [
       "**Лучший и худший результат**: Лучший результат при значении: 0. Худший результат: ∞."
      ],
      "text/plain": [
       "<IPython.core.display.Markdown object>"
      ]
     },
     "metadata": {},
     "output_type": "display_data"
    },
    {
     "data": {
      "text/markdown": [
       "<center><span style=\"font-size:20px;font-weight: 800\">Mean Absolute Percentage Error (MAPE)</span></center>"
      ],
      "text/plain": [
       "<IPython.core.display.Markdown object>"
      ]
     },
     "metadata": {},
     "output_type": "display_data"
    },
    {
     "data": {
      "text/markdown": [
       "**Описание метрики**: Mean Absolute Percentage Error (MAPE) измеряет среднюю величину абсолютных процентных ошибок."
      ],
      "text/plain": [
       "<IPython.core.display.Markdown object>"
      ]
     },
     "metadata": {},
     "output_type": "display_data"
    },
    {
     "data": {
      "text/markdown": [
       "**Математическая формула метрики**:"
      ],
      "text/plain": [
       "<IPython.core.display.Markdown object>"
      ]
     },
     "metadata": {},
     "output_type": "display_data"
    },
    {
     "data": {
      "text/latex": [
       "$\\displaystyle MAPE = \\frac{100}{n} \\sum_{i=1}^n \\left| \\frac{y_i - \\hat{y}_i}{y_i} \\right|$"
      ],
      "text/plain": [
       "<IPython.core.display.Math object>"
      ]
     },
     "metadata": {},
     "output_type": "display_data"
    },
    {
     "data": {
      "text/markdown": [
       "**Область применения метрики**: Часто используется в задачах, где важно оценивать ошибки в процентах от истинных значений, таких как прогнозирование продаж и спроса."
      ],
      "text/plain": [
       "<IPython.core.display.Markdown object>"
      ]
     },
     "metadata": {},
     "output_type": "display_data"
    },
    {
     "data": {
      "text/markdown": [
       "**Область значений**: от 0 до ∞."
      ],
      "text/plain": [
       "<IPython.core.display.Markdown object>"
      ]
     },
     "metadata": {},
     "output_type": "display_data"
    },
    {
     "data": {
      "text/markdown": [
       "**Лучший и худший результат**: Лучший результат при значении: 0%. Худший результат: ∞."
      ],
      "text/plain": [
       "<IPython.core.display.Markdown object>"
      ]
     },
     "metadata": {},
     "output_type": "display_data"
    },
    {
     "data": {
      "text/markdown": [
       "<center><span style=\"font-size:20px;font-weight: 800\">Median Absolute Error</span></center>"
      ],
      "text/plain": [
       "<IPython.core.display.Markdown object>"
      ]
     },
     "metadata": {},
     "output_type": "display_data"
    },
    {
     "data": {
      "text/markdown": [
       "**Описание метрики**: Median Absolute Error измеряет медианную величину абсолютных ошибок модели."
      ],
      "text/plain": [
       "<IPython.core.display.Markdown object>"
      ]
     },
     "metadata": {},
     "output_type": "display_data"
    },
    {
     "data": {
      "text/markdown": [
       "**Математическая формула метрики**:"
      ],
      "text/plain": [
       "<IPython.core.display.Markdown object>"
      ]
     },
     "metadata": {},
     "output_type": "display_data"
    },
    {
     "data": {
      "text/latex": [
       "$\\displaystyle Median Absolute Error = \\text{median}(|y_i - \\hat{y}_i|)$"
      ],
      "text/plain": [
       "<IPython.core.display.Math object>"
      ]
     },
     "metadata": {},
     "output_type": "display_data"
    },
    {
     "data": {
      "text/markdown": [
       "**Область применения метрики**: Используется в задачах, где важна устойчивость к выбросам, так как медиана меньше подвержена влиянию экстремальных значений."
      ],
      "text/plain": [
       "<IPython.core.display.Markdown object>"
      ]
     },
     "metadata": {},
     "output_type": "display_data"
    },
    {
     "data": {
      "text/markdown": [
       "**Область значений**: от 0 до ∞."
      ],
      "text/plain": [
       "<IPython.core.display.Markdown object>"
      ]
     },
     "metadata": {},
     "output_type": "display_data"
    },
    {
     "data": {
      "text/markdown": [
       "**Лучший и худший результат**: Лучший результат при значении: 0. Худший результат: ∞."
      ],
      "text/plain": [
       "<IPython.core.display.Markdown object>"
      ]
     },
     "metadata": {},
     "output_type": "display_data"
    },
    {
     "data": {
      "text/markdown": [
       "<center><span style=\"font-size:20px;font-weight: 800\">Mean Squared Log Error (MSLE)</span></center>"
      ],
      "text/plain": [
       "<IPython.core.display.Markdown object>"
      ]
     },
     "metadata": {},
     "output_type": "display_data"
    },
    {
     "data": {
      "text/markdown": [
       "**Описание метрики**: Mean Squared Log Error (MSLE) измеряет среднюю величину квадратов логарифмических ошибок модели."
      ],
      "text/plain": [
       "<IPython.core.display.Markdown object>"
      ]
     },
     "metadata": {},
     "output_type": "display_data"
    },
    {
     "data": {
      "text/markdown": [
       "**Математическая формула метрики**:"
      ],
      "text/plain": [
       "<IPython.core.display.Markdown object>"
      ]
     },
     "metadata": {},
     "output_type": "display_data"
    },
    {
     "data": {
      "text/latex": [
       "$\\displaystyle MSLE = \\frac{1}{n} \\sum_{i=1}^n (\\log(1 + y_i) - \\log(1 + \\hat{y}_i))^2$"
      ],
      "text/plain": [
       "<IPython.core.display.Math object>"
      ]
     },
     "metadata": {},
     "output_type": "display_data"
    },
    {
     "data": {
      "text/markdown": [
       "**Область применения метрики**: Используется в задачах, где важны относительные ошибки, например, при прогнозировании значений, которые растут экспоненциально."
      ],
      "text/plain": [
       "<IPython.core.display.Markdown object>"
      ]
     },
     "metadata": {},
     "output_type": "display_data"
    },
    {
     "data": {
      "text/markdown": [
       "**Область значений**: от 0 до ∞."
      ],
      "text/plain": [
       "<IPython.core.display.Markdown object>"
      ]
     },
     "metadata": {},
     "output_type": "display_data"
    },
    {
     "data": {
      "text/markdown": [
       "**Лучший и худший результат**: Лучший результат при значении: 0. Худший результат: ∞."
      ],
      "text/plain": [
       "<IPython.core.display.Markdown object>"
      ]
     },
     "metadata": {},
     "output_type": "display_data"
    },
    {
     "data": {
      "text/markdown": [
       "<center><span style=\"font-size:20px;font-weight: 800\">D2 Absolute Error Score</span></center>"
      ],
      "text/plain": [
       "<IPython.core.display.Markdown object>"
      ]
     },
     "metadata": {},
     "output_type": "display_data"
    },
    {
     "data": {
      "text/markdown": [
       "**Описание метрики**: D2 Absolute Error Score является мерой точности, которая основана на абсолютных ошибках."
      ],
      "text/plain": [
       "<IPython.core.display.Markdown object>"
      ]
     },
     "metadata": {},
     "output_type": "display_data"
    },
    {
     "data": {
      "text/markdown": [
       "**Математическая формула метрики**:"
      ],
      "text/plain": [
       "<IPython.core.display.Markdown object>"
      ]
     },
     "metadata": {},
     "output_type": "display_data"
    },
    {
     "data": {
      "text/latex": [
       "$\\displaystyle D^2 = 1 - \\frac{\\sum_{i=1}^n |y_i - \\hat{y}_i|}{\\sum_{i=1}^n |y_i - \\bar{y}|}$"
      ],
      "text/plain": [
       "<IPython.core.display.Math object>"
      ]
     },
     "metadata": {},
     "output_type": "display_data"
    },
    {
     "data": {
      "text/markdown": [
       "**Область применения метрики**: Используется для оценки точности моделей регрессии с учетом абсолютных ошибок."
      ],
      "text/plain": [
       "<IPython.core.display.Markdown object>"
      ]
     },
     "metadata": {},
     "output_type": "display_data"
    },
    {
     "data": {
      "text/markdown": [
       "**Область значений**: от -∞ до 1."
      ],
      "text/plain": [
       "<IPython.core.display.Markdown object>"
      ]
     },
     "metadata": {},
     "output_type": "display_data"
    },
    {
     "data": {
      "text/markdown": [
       "**Лучший и худший результат**: Лучший результат при значении: 1. Худший результат: -∞."
      ],
      "text/plain": [
       "<IPython.core.display.Markdown object>"
      ]
     },
     "metadata": {},
     "output_type": "display_data"
    },
    {
     "data": {
      "text/markdown": [
       "<center><span style=\"font-size:20px;font-weight: 800\">Root Mean Squared Error (RMSE)</span></center>"
      ],
      "text/plain": [
       "<IPython.core.display.Markdown object>"
      ]
     },
     "metadata": {},
     "output_type": "display_data"
    },
    {
     "data": {
      "text/markdown": [
       "**Описание метрики**: Root Mean Squared Error (RMSE) измеряет среднеквадратическую ошибку модели в прогнозировании."
      ],
      "text/plain": [
       "<IPython.core.display.Markdown object>"
      ]
     },
     "metadata": {},
     "output_type": "display_data"
    },
    {
     "data": {
      "text/markdown": [
       "**Математическая формула метрики**:"
      ],
      "text/plain": [
       "<IPython.core.display.Markdown object>"
      ]
     },
     "metadata": {},
     "output_type": "display_data"
    },
    {
     "data": {
      "text/latex": [
       "$\\displaystyle RMSE = \\sqrt{\\frac{1}{n} \\sum_{i=1}^n (y_i - \\hat{y}_i)^2}$"
      ],
      "text/plain": [
       "<IPython.core.display.Math object>"
      ]
     },
     "metadata": {},
     "output_type": "display_data"
    },
    {
     "data": {
      "text/markdown": [
       "**Область применения метрики**: Используется в задачах регрессии, где важно оценить среднюю точность модели с увеличением штрафа за большие ошибки."
      ],
      "text/plain": [
       "<IPython.core.display.Markdown object>"
      ]
     },
     "metadata": {},
     "output_type": "display_data"
    },
    {
     "data": {
      "text/markdown": [
       "**Область значений**: от 0 до ∞."
      ],
      "text/plain": [
       "<IPython.core.display.Markdown object>"
      ]
     },
     "metadata": {},
     "output_type": "display_data"
    },
    {
     "data": {
      "text/markdown": [
       "**Лучший и худший результат**: Лучший результат при значении: 0. Худший результат: ∞."
      ],
      "text/plain": [
       "<IPython.core.display.Markdown object>"
      ]
     },
     "metadata": {},
     "output_type": "display_data"
    },
    {
     "data": {
      "text/markdown": [
       "<center><span style=\"font-size:20px;font-weight: 800\">Root Mean Squared Log Error (RMSLE)</span></center>"
      ],
      "text/plain": [
       "<IPython.core.display.Markdown object>"
      ]
     },
     "metadata": {},
     "output_type": "display_data"
    },
    {
     "data": {
      "text/markdown": [
       "**Описание метрики**: Root Mean Squared Log Error (RMSLE) измеряет среднеквадратическую логарифмическую ошибку модели в прогнозировании."
      ],
      "text/plain": [
       "<IPython.core.display.Markdown object>"
      ]
     },
     "metadata": {},
     "output_type": "display_data"
    },
    {
     "data": {
      "text/markdown": [
       "**Математическая формула метрики**:"
      ],
      "text/plain": [
       "<IPython.core.display.Markdown object>"
      ]
     },
     "metadata": {},
     "output_type": "display_data"
    },
    {
     "data": {
      "text/latex": [
       "$\\displaystyle RMSLE = \\sqrt{\\frac{1}{n} \\sum_{i=1}^n (\\log(1 + y_i) - \\log(1 + \\hat{y}_i))^2}$"
      ],
      "text/plain": [
       "<IPython.core.display.Math object>"
      ]
     },
     "metadata": {},
     "output_type": "display_data"
    },
    {
     "data": {
      "text/markdown": [
       "**Область применения метрики**: Используется в задачах, где важны относительные ошибки, особенно при прогнозировании значений, которые могут расти экспоненциально."
      ],
      "text/plain": [
       "<IPython.core.display.Markdown object>"
      ]
     },
     "metadata": {},
     "output_type": "display_data"
    },
    {
     "data": {
      "text/markdown": [
       "**Область значений**: от 0 до ∞."
      ],
      "text/plain": [
       "<IPython.core.display.Markdown object>"
      ]
     },
     "metadata": {},
     "output_type": "display_data"
    },
    {
     "data": {
      "text/markdown": [
       "**Лучший и худший результат**: Лучший результат при значении: 0. Худший результат: ∞."
      ],
      "text/plain": [
       "<IPython.core.display.Markdown object>"
      ]
     },
     "metadata": {},
     "output_type": "display_data"
    },
    {
     "data": {
      "text/markdown": [
       "<span style='color: purple; font-size: 25px;'><b>Метрики Классификации</b></span>"
      ],
      "text/plain": [
       "<IPython.core.display.Markdown object>"
      ]
     },
     "metadata": {},
     "output_type": "display_data"
    },
    {
     "data": {
      "text/markdown": [
       "<center><span style=\"font-size:20px;font-weight: 800\">Accuracy Score</span></center>"
      ],
      "text/plain": [
       "<IPython.core.display.Markdown object>"
      ]
     },
     "metadata": {},
     "output_type": "display_data"
    },
    {
     "data": {
      "text/markdown": [
       "**Описание метрики**: Accuracy Score (доля правильных ответов) измеряет долю верно предсказанных экземпляров от общего числа экземпляров."
      ],
      "text/plain": [
       "<IPython.core.display.Markdown object>"
      ]
     },
     "metadata": {},
     "output_type": "display_data"
    },
    {
     "data": {
      "text/markdown": [
       "**Математическая формула метрики**:"
      ],
      "text/plain": [
       "<IPython.core.display.Markdown object>"
      ]
     },
     "metadata": {},
     "output_type": "display_data"
    },
    {
     "data": {
      "text/latex": [
       "$\\displaystyle Accuracy = \\frac{TP + TN}{TP + TN + FP + FN}$"
      ],
      "text/plain": [
       "<IPython.core.display.Math object>"
      ]
     },
     "metadata": {},
     "output_type": "display_data"
    },
    {
     "data": {
      "text/markdown": [
       "**Область применения метрики**: Используется в задачах бинарной и многоклассовой классификации для оценки общей точности модели."
      ],
      "text/plain": [
       "<IPython.core.display.Markdown object>"
      ]
     },
     "metadata": {},
     "output_type": "display_data"
    },
    {
     "data": {
      "text/markdown": [
       "**Область значений**: от 0 до 1."
      ],
      "text/plain": [
       "<IPython.core.display.Markdown object>"
      ]
     },
     "metadata": {},
     "output_type": "display_data"
    },
    {
     "data": {
      "text/markdown": [
       "**Лучший и худший результат**: Лучший результат при значении: 1. Худший результат: 0."
      ],
      "text/plain": [
       "<IPython.core.display.Markdown object>"
      ]
     },
     "metadata": {},
     "output_type": "display_data"
    },
    {
     "data": {
      "text/markdown": [
       "<center><span style=\"font-size:20px;font-weight: 800\">Precision Score</span></center>"
      ],
      "text/plain": [
       "<IPython.core.display.Markdown object>"
      ]
     },
     "metadata": {},
     "output_type": "display_data"
    },
    {
     "data": {
      "text/markdown": [
       "**Описание метрики**: Precision Score измеряет долю верно предсказанных положительных экземпляров из всех предсказанных положительных."
      ],
      "text/plain": [
       "<IPython.core.display.Markdown object>"
      ]
     },
     "metadata": {},
     "output_type": "display_data"
    },
    {
     "data": {
      "text/markdown": [
       "**Математическая формула метрики**:"
      ],
      "text/plain": [
       "<IPython.core.display.Markdown object>"
      ]
     },
     "metadata": {},
     "output_type": "display_data"
    },
    {
     "data": {
      "text/latex": [
       "$\\displaystyle Precision = \\frac{TP}{TP + FP}$"
      ],
      "text/plain": [
       "<IPython.core.display.Math object>"
      ]
     },
     "metadata": {},
     "output_type": "display_data"
    },
    {
     "data": {
      "text/markdown": [
       "**Область применения метрики**: Используется в задачах бинарной и многоклассовой классификации, где важно минимизировать количество ложноположительных предсказаний."
      ],
      "text/plain": [
       "<IPython.core.display.Markdown object>"
      ]
     },
     "metadata": {},
     "output_type": "display_data"
    },
    {
     "data": {
      "text/markdown": [
       "**Область значений**: от 0 до 1."
      ],
      "text/plain": [
       "<IPython.core.display.Markdown object>"
      ]
     },
     "metadata": {},
     "output_type": "display_data"
    },
    {
     "data": {
      "text/markdown": [
       "**Лучший и худший результат**: Лучший результат при значении: 1. Худший результат: 0."
      ],
      "text/plain": [
       "<IPython.core.display.Markdown object>"
      ]
     },
     "metadata": {},
     "output_type": "display_data"
    },
    {
     "data": {
      "text/markdown": [
       "<center><span style=\"font-size:20px;font-weight: 800\">Recall Score</span></center>"
      ],
      "text/plain": [
       "<IPython.core.display.Markdown object>"
      ]
     },
     "metadata": {},
     "output_type": "display_data"
    },
    {
     "data": {
      "text/markdown": [
       "**Описание метрики**: Recall Score измеряет долю верно предсказанных положительных экземпляров из всех фактических положительных экземпляров."
      ],
      "text/plain": [
       "<IPython.core.display.Markdown object>"
      ]
     },
     "metadata": {},
     "output_type": "display_data"
    },
    {
     "data": {
      "text/markdown": [
       "**Математическая формула метрики**:"
      ],
      "text/plain": [
       "<IPython.core.display.Markdown object>"
      ]
     },
     "metadata": {},
     "output_type": "display_data"
    },
    {
     "data": {
      "text/latex": [
       "$\\displaystyle Recall = \\frac{TP}{TP + FN}$"
      ],
      "text/plain": [
       "<IPython.core.display.Math object>"
      ]
     },
     "metadata": {},
     "output_type": "display_data"
    },
    {
     "data": {
      "text/markdown": [
       "**Область применения метрики**: Используется в задачах бинарной и многоклассовой классификации, где важно минимизировать количество ложноотрицательных предсказаний."
      ],
      "text/plain": [
       "<IPython.core.display.Markdown object>"
      ]
     },
     "metadata": {},
     "output_type": "display_data"
    },
    {
     "data": {
      "text/markdown": [
       "**Область значений**: от 0 до 1."
      ],
      "text/plain": [
       "<IPython.core.display.Markdown object>"
      ]
     },
     "metadata": {},
     "output_type": "display_data"
    },
    {
     "data": {
      "text/markdown": [
       "**Лучший и худший результат**: Лучший результат при значении: 1. Худший результат: 0."
      ],
      "text/plain": [
       "<IPython.core.display.Markdown object>"
      ]
     },
     "metadata": {},
     "output_type": "display_data"
    },
    {
     "data": {
      "text/markdown": [
       "<center><span style=\"font-size:20px;font-weight: 800\">F1 Score</span></center>"
      ],
      "text/plain": [
       "<IPython.core.display.Markdown object>"
      ]
     },
     "metadata": {},
     "output_type": "display_data"
    },
    {
     "data": {
      "text/markdown": [
       "**Описание метрики**: F1 Score является гармоническим средним Precision и Recall, обеспечивая баланс между ними."
      ],
      "text/plain": [
       "<IPython.core.display.Markdown object>"
      ]
     },
     "metadata": {},
     "output_type": "display_data"
    },
    {
     "data": {
      "text/markdown": [
       "**Математическая формула метрики**:"
      ],
      "text/plain": [
       "<IPython.core.display.Markdown object>"
      ]
     },
     "metadata": {},
     "output_type": "display_data"
    },
    {
     "data": {
      "text/latex": [
       "$\\displaystyle F1 = 2 \\cdot \\frac{Precision \\cdot Recall}{Precision + Recall}$"
      ],
      "text/plain": [
       "<IPython.core.display.Math object>"
      ]
     },
     "metadata": {},
     "output_type": "display_data"
    },
    {
     "data": {
      "text/markdown": [
       "**Область применения метрики**: Используется в задачах бинарной и многоклассовой классификации, где важно учитывать как Precision, так и Recall."
      ],
      "text/plain": [
       "<IPython.core.display.Markdown object>"
      ]
     },
     "metadata": {},
     "output_type": "display_data"
    },
    {
     "data": {
      "text/markdown": [
       "**Область значений**: от 0 до 1."
      ],
      "text/plain": [
       "<IPython.core.display.Markdown object>"
      ]
     },
     "metadata": {},
     "output_type": "display_data"
    },
    {
     "data": {
      "text/markdown": [
       "**Лучший и худший результат**: Лучший результат при значении: 1. Худший результат: 0."
      ],
      "text/plain": [
       "<IPython.core.display.Markdown object>"
      ]
     },
     "metadata": {},
     "output_type": "display_data"
    },
    {
     "data": {
      "text/markdown": [
       "<center><span style=\"font-size:20px;font-weight: 800\">D2 Absolute Error Score</span></center>"
      ],
      "text/plain": [
       "<IPython.core.display.Markdown object>"
      ]
     },
     "metadata": {},
     "output_type": "display_data"
    },
    {
     "data": {
      "text/markdown": [
       "**Описание метрики**: D2 Absolute Error Score измеряет отклонение предсказанных значений от фактических в задачах регрессии и классификации."
      ],
      "text/plain": [
       "<IPython.core.display.Markdown object>"
      ]
     },
     "metadata": {},
     "output_type": "display_data"
    },
    {
     "data": {
      "text/markdown": [
       "**Математическая формула метрики**:"
      ],
      "text/plain": [
       "<IPython.core.display.Markdown object>"
      ]
     },
     "metadata": {},
     "output_type": "display_data"
    },
    {
     "data": {
      "text/latex": [
       "$\\displaystyle D2 = 1 - \\frac{\\sum_{i=1}^n |y_i - \\hat{y}_i|}{\\sum_{i=1}^n |y_i - \\bar{y}|}$"
      ],
      "text/plain": [
       "<IPython.core.display.Math object>"
      ]
     },
     "metadata": {},
     "output_type": "display_data"
    },
    {
     "data": {
      "text/markdown": [
       "**Область применения метрики**: Используется в задачах регрессии и классификации для оценки точности модели."
      ],
      "text/plain": [
       "<IPython.core.display.Markdown object>"
      ]
     },
     "metadata": {},
     "output_type": "display_data"
    },
    {
     "data": {
      "text/markdown": [
       "**Область значений**: от -∞ до 1."
      ],
      "text/plain": [
       "<IPython.core.display.Markdown object>"
      ]
     },
     "metadata": {},
     "output_type": "display_data"
    },
    {
     "data": {
      "text/markdown": [
       "**Лучший и худший результат**: Лучший результат при значении: 1. Худший результат: -∞."
      ],
      "text/plain": [
       "<IPython.core.display.Markdown object>"
      ]
     },
     "metadata": {},
     "output_type": "display_data"
    },
    {
     "data": {
      "text/markdown": [
       "<center><span style=\"font-size:20px;font-weight: 800\">NDCG Score</span></center>"
      ],
      "text/plain": [
       "<IPython.core.display.Markdown object>"
      ]
     },
     "metadata": {},
     "output_type": "display_data"
    },
    {
     "data": {
      "text/markdown": [
       "**Описание метрики**: Normalized Discounted Cumulative Gain (NDCG) измеряет качество ранжирования, учитывая релевантность и порядок элементов."
      ],
      "text/plain": [
       "<IPython.core.display.Markdown object>"
      ]
     },
     "metadata": {},
     "output_type": "display_data"
    },
    {
     "data": {
      "text/markdown": [
       "**Математическая формула метрики**:"
      ],
      "text/plain": [
       "<IPython.core.display.Markdown object>"
      ]
     },
     "metadata": {},
     "output_type": "display_data"
    },
    {
     "data": {
      "text/latex": [
       "$\\displaystyle NDCG = \\frac{DCG}{IDCG}$"
      ],
      "text/plain": [
       "<IPython.core.display.Math object>"
      ]
     },
     "metadata": {},
     "output_type": "display_data"
    },
    {
     "data": {
      "text/markdown": [
       "**Область применения метрики**: Используется в задачах ранжирования и рекомендаций для оценки качества ранжирования элементов."
      ],
      "text/plain": [
       "<IPython.core.display.Markdown object>"
      ]
     },
     "metadata": {},
     "output_type": "display_data"
    },
    {
     "data": {
      "text/markdown": [
       "**Область значений**: от 0 до 1."
      ],
      "text/plain": [
       "<IPython.core.display.Markdown object>"
      ]
     },
     "metadata": {},
     "output_type": "display_data"
    },
    {
     "data": {
      "text/markdown": [
       "**Лучший и худший результат**: Лучший результат при значении: 1. Худший результат: 0."
      ],
      "text/plain": [
       "<IPython.core.display.Markdown object>"
      ]
     },
     "metadata": {},
     "output_type": "display_data"
    },
    {
     "data": {
      "text/markdown": [
       "<center><span style=\"font-size:20px;font-weight: 800\">DCG Score</span></center>"
      ],
      "text/plain": [
       "<IPython.core.display.Markdown object>"
      ]
     },
     "metadata": {},
     "output_type": "display_data"
    },
    {
     "data": {
      "text/markdown": [
       "**Описание метрики**: Discounted Cumulative Gain (DCG) измеряет качество ранжирования, учитывая порядок и релевантность элементов."
      ],
      "text/plain": [
       "<IPython.core.display.Markdown object>"
      ]
     },
     "metadata": {},
     "output_type": "display_data"
    },
    {
     "data": {
      "text/markdown": [
       "**Математическая формула метрики**:"
      ],
      "text/plain": [
       "<IPython.core.display.Markdown object>"
      ]
     },
     "metadata": {},
     "output_type": "display_data"
    },
    {
     "data": {
      "text/latex": [
       "$\\displaystyle DCG = \\sum_{i=1}^n \\frac{rel_i}{\\log_2(i + 1)}$"
      ],
      "text/plain": [
       "<IPython.core.display.Math object>"
      ]
     },
     "metadata": {},
     "output_type": "display_data"
    },
    {
     "data": {
      "text/markdown": [
       "**Область применения метрики**: Используется в задачах ранжирования и поиска для оценки качества ранжирования по релевантности."
      ],
      "text/plain": [
       "<IPython.core.display.Markdown object>"
      ]
     },
     "metadata": {},
     "output_type": "display_data"
    },
    {
     "data": {
      "text/markdown": [
       "**Область значений**: от 0 до ∞."
      ],
      "text/plain": [
       "<IPython.core.display.Markdown object>"
      ]
     },
     "metadata": {},
     "output_type": "display_data"
    },
    {
     "data": {
      "text/markdown": [
       "**Лучший и худший результат**: Лучший результат при значении: ∞. Худший результат: 0."
      ],
      "text/plain": [
       "<IPython.core.display.Markdown object>"
      ]
     },
     "metadata": {},
     "output_type": "display_data"
    },
    {
     "data": {
      "text/markdown": [
       "<center><span style=\"font-size:20px;font-weight: 800\">Fbeta Score</span></center>"
      ],
      "text/plain": [
       "<IPython.core.display.Markdown object>"
      ]
     },
     "metadata": {},
     "output_type": "display_data"
    },
    {
     "data": {
      "text/markdown": [
       "**Описание метрики**: Fbeta Score обобщает F1 Score, позволяя настроить вес Precision и Recall в зависимости от β."
      ],
      "text/plain": [
       "<IPython.core.display.Markdown object>"
      ]
     },
     "metadata": {},
     "output_type": "display_data"
    },
    {
     "data": {
      "text/markdown": [
       "**Математическая формула метрики**:"
      ],
      "text/plain": [
       "<IPython.core.display.Markdown object>"
      ]
     },
     "metadata": {},
     "output_type": "display_data"
    },
    {
     "data": {
      "text/latex": [
       "$\\displaystyle F_\\beta = (1 + \\beta^2) \\cdot \\frac{Precision \\cdot Recall}{(\\beta^2 \\cdot Precision) + Recall}$"
      ],
      "text/plain": [
       "<IPython.core.display.Math object>"
      ]
     },
     "metadata": {},
     "output_type": "display_data"
    },
    {
     "data": {
      "text/markdown": [
       "**Область применения метрики**: Используется в задачах бинарной и многоклассовой классификации, где важно настраивать вес Precision и Recall."
      ],
      "text/plain": [
       "<IPython.core.display.Markdown object>"
      ]
     },
     "metadata": {},
     "output_type": "display_data"
    },
    {
     "data": {
      "text/markdown": [
       "**Область значений**: от 0 до 1."
      ],
      "text/plain": [
       "<IPython.core.display.Markdown object>"
      ]
     },
     "metadata": {},
     "output_type": "display_data"
    },
    {
     "data": {
      "text/markdown": [
       "**Лучший и худший результат**: Лучший результат при значении: 1. Худший результат: 0."
      ],
      "text/plain": [
       "<IPython.core.display.Markdown object>"
      ]
     },
     "metadata": {},
     "output_type": "display_data"
    },
    {
     "data": {
      "text/markdown": [
       "<center><span style=\"font-size:20px;font-weight: 800\">Completeness Score</span></center>"
      ],
      "text/plain": [
       "<IPython.core.display.Markdown object>"
      ]
     },
     "metadata": {},
     "output_type": "display_data"
    },
    {
     "data": {
      "text/markdown": [
       "**Описание метрики**: Completeness Score измеряет, насколько хорошо все экземпляры каждого кластера отнесены к одной группе в задачах кластеризации."
      ],
      "text/plain": [
       "<IPython.core.display.Markdown object>"
      ]
     },
     "metadata": {},
     "output_type": "display_data"
    },
    {
     "data": {
      "text/markdown": [
       "**Математическая формула метрики**:"
      ],
      "text/plain": [
       "<IPython.core.display.Markdown object>"
      ]
     },
     "metadata": {},
     "output_type": "display_data"
    },
    {
     "data": {
      "text/latex": [
       "$\\displaystyle Completeness = 1 - \\frac{H(K|C)}{H(C)}$"
      ],
      "text/plain": [
       "<IPython.core.display.Math object>"
      ]
     },
     "metadata": {},
     "output_type": "display_data"
    },
    {
     "data": {
      "text/markdown": [
       "**Область применения метрики**: Используется для оценки качества кластеризации, особенно когда важно учитывать полноту классификации."
      ],
      "text/plain": [
       "<IPython.core.display.Markdown object>"
      ]
     },
     "metadata": {},
     "output_type": "display_data"
    },
    {
     "data": {
      "text/markdown": [
       "**Область значений**: от 0 до 1."
      ],
      "text/plain": [
       "<IPython.core.display.Markdown object>"
      ]
     },
     "metadata": {},
     "output_type": "display_data"
    },
    {
     "data": {
      "text/markdown": [
       "**Лучший и худший результат**: Лучший результат при значении: 1. Худший результат: 0."
      ],
      "text/plain": [
       "<IPython.core.display.Markdown object>"
      ]
     },
     "metadata": {},
     "output_type": "display_data"
    },
    {
     "data": {
      "text/markdown": [
       "<center><span style=\"font-size:20px;font-weight: 800\">Homogeneity Score</span></center>"
      ],
      "text/plain": [
       "<IPython.core.display.Markdown object>"
      ]
     },
     "metadata": {},
     "output_type": "display_data"
    },
    {
     "data": {
      "text/markdown": [
       "**Описание метрики**: Homogeneity Score измеряет, насколько все экземпляры в кластере принадлежат к одному и тому же классу."
      ],
      "text/plain": [
       "<IPython.core.display.Markdown object>"
      ]
     },
     "metadata": {},
     "output_type": "display_data"
    },
    {
     "data": {
      "text/markdown": [
       "**Математическая формула метрики**:"
      ],
      "text/plain": [
       "<IPython.core.display.Markdown object>"
      ]
     },
     "metadata": {},
     "output_type": "display_data"
    },
    {
     "data": {
      "text/latex": [
       "$\\displaystyle Homogeneity = 1 - \\frac{H(C|K)}{H(C)}$"
      ],
      "text/plain": [
       "<IPython.core.display.Math object>"
      ]
     },
     "metadata": {},
     "output_type": "display_data"
    },
    {
     "data": {
      "text/markdown": [
       "**Область применения метрики**: Используется для оценки качества кластеризации, особенно когда важно учитывать однородность кластеров."
      ],
      "text/plain": [
       "<IPython.core.display.Markdown object>"
      ]
     },
     "metadata": {},
     "output_type": "display_data"
    },
    {
     "data": {
      "text/markdown": [
       "**Область значений**: от 0 до 1."
      ],
      "text/plain": [
       "<IPython.core.display.Markdown object>"
      ]
     },
     "metadata": {},
     "output_type": "display_data"
    },
    {
     "data": {
      "text/markdown": [
       "**Лучший и худший результат**: Лучший результат при значении: 1. Худший результат: 0."
      ],
      "text/plain": [
       "<IPython.core.display.Markdown object>"
      ]
     },
     "metadata": {},
     "output_type": "display_data"
    },
    {
     "data": {
      "text/markdown": [
       "<center><span style=\"font-size:20px;font-weight: 800\">Jaccard Score</span></center>"
      ],
      "text/plain": [
       "<IPython.core.display.Markdown object>"
      ]
     },
     "metadata": {},
     "output_type": "display_data"
    },
    {
     "data": {
      "text/markdown": [
       "**Описание метрики**: Jaccard Score измеряет схожесть между наборами, рассчитывая размер пересечения деленный на размер объединения наборов."
      ],
      "text/plain": [
       "<IPython.core.display.Markdown object>"
      ]
     },
     "metadata": {},
     "output_type": "display_data"
    },
    {
     "data": {
      "text/markdown": [
       "**Математическая формула метрики**:"
      ],
      "text/plain": [
       "<IPython.core.display.Markdown object>"
      ]
     },
     "metadata": {},
     "output_type": "display_data"
    },
    {
     "data": {
      "text/latex": [
       "$\\displaystyle Jaccard = \\frac{|A \\cap B|}{|A \\cup B|}$"
      ],
      "text/plain": [
       "<IPython.core.display.Math object>"
      ]
     },
     "metadata": {},
     "output_type": "display_data"
    },
    {
     "data": {
      "text/markdown": [
       "**Область применения метрики**: Используется в задачах бинарной и многоклассовой классификации для оценки схожести предсказанных и фактических меток."
      ],
      "text/plain": [
       "<IPython.core.display.Markdown object>"
      ]
     },
     "metadata": {},
     "output_type": "display_data"
    },
    {
     "data": {
      "text/markdown": [
       "**Область значений**: от 0 до 1."
      ],
      "text/plain": [
       "<IPython.core.display.Markdown object>"
      ]
     },
     "metadata": {},
     "output_type": "display_data"
    },
    {
     "data": {
      "text/markdown": [
       "**Лучший и худший результат**: Лучший результат при значении: 1. Худший результат: 0."
      ],
      "text/plain": [
       "<IPython.core.display.Markdown object>"
      ]
     },
     "metadata": {},
     "output_type": "display_data"
    },
    {
     "data": {
      "text/markdown": [
       "<center><span style=\"font-size:20px;font-weight: 800\">Brier Score Loss</span></center>"
      ],
      "text/plain": [
       "<IPython.core.display.Markdown object>"
      ]
     },
     "metadata": {},
     "output_type": "display_data"
    },
    {
     "data": {
      "text/markdown": [
       "**Описание метрики**: Brier Score Loss измеряет среднеквадратичное отклонение вероятностей предсказанных классов от фактических бинарных значений."
      ],
      "text/plain": [
       "<IPython.core.display.Markdown object>"
      ]
     },
     "metadata": {},
     "output_type": "display_data"
    },
    {
     "data": {
      "text/markdown": [
       "**Математическая формула метрики**:"
      ],
      "text/plain": [
       "<IPython.core.display.Markdown object>"
      ]
     },
     "metadata": {},
     "output_type": "display_data"
    },
    {
     "data": {
      "text/latex": [
       "$\\displaystyle Brier = \\frac{1}{n} \\sum_{i=1}^n (f_i - y_i)^2$"
      ],
      "text/plain": [
       "<IPython.core.display.Math object>"
      ]
     },
     "metadata": {},
     "output_type": "display_data"
    },
    {
     "data": {
      "text/markdown": [
       "**Область применения метрики**: Используется в задачах бинарной классификации для оценки качества вероятностных предсказаний."
      ],
      "text/plain": [
       "<IPython.core.display.Markdown object>"
      ]
     },
     "metadata": {},
     "output_type": "display_data"
    },
    {
     "data": {
      "text/markdown": [
       "**Область значений**: от 0 до 1."
      ],
      "text/plain": [
       "<IPython.core.display.Markdown object>"
      ]
     },
     "metadata": {},
     "output_type": "display_data"
    },
    {
     "data": {
      "text/markdown": [
       "**Лучший и худший результат**: Лучший результат при значении: 0. Худший результат: 1."
      ],
      "text/plain": [
       "<IPython.core.display.Markdown object>"
      ]
     },
     "metadata": {},
     "output_type": "display_data"
    },
    {
     "data": {
      "text/markdown": [
       "<center><span style=\"font-size:20px;font-weight: 800\">D2 Tweedie Score</span></center>"
      ],
      "text/plain": [
       "<IPython.core.display.Markdown object>"
      ]
     },
     "metadata": {},
     "output_type": "display_data"
    },
    {
     "data": {
      "text/markdown": [
       "**Описание метрики**: D2 Tweedie Score измеряет точность модели для распределений Tweedie, которые включают нормальное, лог-нормальное и гамма распределения."
      ],
      "text/plain": [
       "<IPython.core.display.Markdown object>"
      ]
     },
     "metadata": {},
     "output_type": "display_data"
    },
    {
     "data": {
      "text/markdown": [
       "**Математическая формула метрики**:"
      ],
      "text/plain": [
       "<IPython.core.display.Markdown object>"
      ]
     },
     "metadata": {},
     "output_type": "display_data"
    },
    {
     "data": {
      "text/latex": [
       "$\\displaystyle D2 = 1 - \\frac{\\sum_{i=1}^n L(y_i, \\hat{y}_i)}{\\sum_{i=1}^n L(y_i, \\bar{y})}$"
      ],
      "text/plain": [
       "<IPython.core.display.Math object>"
      ]
     },
     "metadata": {},
     "output_type": "display_data"
    },
    {
     "data": {
      "text/markdown": [
       "**Область применения метрики**: Используется для оценки моделей с различными типами распределений в задачах регрессии и классификации."
      ],
      "text/plain": [
       "<IPython.core.display.Markdown object>"
      ]
     },
     "metadata": {},
     "output_type": "display_data"
    },
    {
     "data": {
      "text/markdown": [
       "**Область значений**: от -∞ до 1."
      ],
      "text/plain": [
       "<IPython.core.display.Markdown object>"
      ]
     },
     "metadata": {},
     "output_type": "display_data"
    },
    {
     "data": {
      "text/markdown": [
       "**Лучший и худший результат**: Лучший результат при значении: 1. Худший результат: -∞."
      ],
      "text/plain": [
       "<IPython.core.display.Markdown object>"
      ]
     },
     "metadata": {},
     "output_type": "display_data"
    },
    {
     "data": {
      "text/markdown": [
       "<center><span style=\"font-size:20px;font-weight: 800\">Cohen Kappa Score</span></center>"
      ],
      "text/plain": [
       "<IPython.core.display.Markdown object>"
      ]
     },
     "metadata": {},
     "output_type": "display_data"
    },
    {
     "data": {
      "text/markdown": [
       "**Описание метрики**: Cohen Kappa Score измеряет согласие между двумя аннотаторами, корректируя случайное совпадение."
      ],
      "text/plain": [
       "<IPython.core.display.Markdown object>"
      ]
     },
     "metadata": {},
     "output_type": "display_data"
    },
    {
     "data": {
      "text/markdown": [
       "**Математическая формула метрики**:"
      ],
      "text/plain": [
       "<IPython.core.display.Markdown object>"
      ]
     },
     "metadata": {},
     "output_type": "display_data"
    },
    {
     "data": {
      "text/latex": [
       "$\\displaystyle \\kappa = \\frac{P_o - P_e}{1 - P_e}$"
      ],
      "text/plain": [
       "<IPython.core.display.Math object>"
      ]
     },
     "metadata": {},
     "output_type": "display_data"
    },
    {
     "data": {
      "text/markdown": [
       "**Область применения метрики**: Используется в задачах классификации для оценки согласованности между аннотаторами или предсказаниями моделей."
      ],
      "text/plain": [
       "<IPython.core.display.Markdown object>"
      ]
     },
     "metadata": {},
     "output_type": "display_data"
    },
    {
     "data": {
      "text/markdown": [
       "**Область значений**: от -1 до 1."
      ],
      "text/plain": [
       "<IPython.core.display.Markdown object>"
      ]
     },
     "metadata": {},
     "output_type": "display_data"
    },
    {
     "data": {
      "text/markdown": [
       "**Лучший и худший результат**: Лучший результат при значении: 1. Худший результат: -1."
      ],
      "text/plain": [
       "<IPython.core.display.Markdown object>"
      ]
     },
     "metadata": {},
     "output_type": "display_data"
    },
    {
     "data": {
      "text/markdown": [
       "<center><span style=\"font-size:20px;font-weight: 800\">D2 Pinball Score</span></center>"
      ],
      "text/plain": [
       "<IPython.core.display.Markdown object>"
      ]
     },
     "metadata": {},
     "output_type": "display_data"
    },
    {
     "data": {
      "text/markdown": [
       "**Описание метрики**: D2 Pinball Score оценивает точность моделей предсказания квантилей, измеряя среднюю ошибку предсказания."
      ],
      "text/plain": [
       "<IPython.core.display.Markdown object>"
      ]
     },
     "metadata": {},
     "output_type": "display_data"
    },
    {
     "data": {
      "text/markdown": [
       "**Математическая формула метрики**:"
      ],
      "text/plain": [
       "<IPython.core.display.Markdown object>"
      ]
     },
     "metadata": {},
     "output_type": "display_data"
    },
    {
     "data": {
      "text/latex": [
       "$\\displaystyle D2 = 1 - \\frac{\\sum_{i=1}^n Pinball(y_i, \\hat{y}_i)}{\\sum_{i=1}^n Pinball(y_i, \\bar{y})}$"
      ],
      "text/plain": [
       "<IPython.core.display.Math object>"
      ]
     },
     "metadata": {},
     "output_type": "display_data"
    },
    {
     "data": {
      "text/markdown": [
       "**Область применения метрики**: Используется для оценки моделей предсказания квантилей в задачах регрессии и классификации."
      ],
      "text/plain": [
       "<IPython.core.display.Markdown object>"
      ]
     },
     "metadata": {},
     "output_type": "display_data"
    },
    {
     "data": {
      "text/markdown": [
       "**Область значений**: от -∞ до 1."
      ],
      "text/plain": [
       "<IPython.core.display.Markdown object>"
      ]
     },
     "metadata": {},
     "output_type": "display_data"
    },
    {
     "data": {
      "text/markdown": [
       "**Лучший и худший результат**: Лучший результат при значении: 1. Худший результат: -∞."
      ],
      "text/plain": [
       "<IPython.core.display.Markdown object>"
      ]
     },
     "metadata": {},
     "output_type": "display_data"
    },
    {
     "data": {
      "text/markdown": [
       "<center><span style=\"font-size:20px;font-weight: 800\">Mutual Information Score</span></center>"
      ],
      "text/plain": [
       "<IPython.core.display.Markdown object>"
      ]
     },
     "metadata": {},
     "output_type": "display_data"
    },
    {
     "data": {
      "text/markdown": [
       "**Описание метрики**: Mutual Information Score измеряет зависимость между двумя случайными переменными, оценивая общую информацию."
      ],
      "text/plain": [
       "<IPython.core.display.Markdown object>"
      ]
     },
     "metadata": {},
     "output_type": "display_data"
    },
    {
     "data": {
      "text/markdown": [
       "**Математическая формула метрики**:"
      ],
      "text/plain": [
       "<IPython.core.display.Markdown object>"
      ]
     },
     "metadata": {},
     "output_type": "display_data"
    },
    {
     "data": {
      "text/latex": [
       "$\\displaystyle MI(X;Y) = \\sum_{y \\in Y} \\sum_{x \\in X} p(x, y) \\log\\left(\\frac{p(x, y)}{p(x)p(y)}\\right)$"
      ],
      "text/plain": [
       "<IPython.core.display.Math object>"
      ]
     },
     "metadata": {},
     "output_type": "display_data"
    },
    {
     "data": {
      "text/markdown": [
       "**Область применения метрики**: Используется для оценки зависимости между переменными в задачах классификации и кластеризации."
      ],
      "text/plain": [
       "<IPython.core.display.Markdown object>"
      ]
     },
     "metadata": {},
     "output_type": "display_data"
    },
    {
     "data": {
      "text/markdown": [
       "**Область значений**: от 0 до ∞."
      ],
      "text/plain": [
       "<IPython.core.display.Markdown object>"
      ]
     },
     "metadata": {},
     "output_type": "display_data"
    },
    {
     "data": {
      "text/markdown": [
       "**Лучший и худший результат**: Лучший результат при значении: ∞. Худший результат: 0."
      ],
      "text/plain": [
       "<IPython.core.display.Markdown object>"
      ]
     },
     "metadata": {},
     "output_type": "display_data"
    },
    {
     "data": {
      "text/markdown": [
       "<center><span style=\"font-size:20px;font-weight: 800\">Adjusted Mutual Information Score</span></center>"
      ],
      "text/plain": [
       "<IPython.core.display.Markdown object>"
      ]
     },
     "metadata": {},
     "output_type": "display_data"
    },
    {
     "data": {
      "text/markdown": [
       "**Описание метрики**: Adjusted Mutual Information Score корректирует Mutual Information Score с учетом случайного распределения."
      ],
      "text/plain": [
       "<IPython.core.display.Markdown object>"
      ]
     },
     "metadata": {},
     "output_type": "display_data"
    },
    {
     "data": {
      "text/markdown": [
       "**Математическая формула метрики**:"
      ],
      "text/plain": [
       "<IPython.core.display.Markdown object>"
      ]
     },
     "metadata": {},
     "output_type": "display_data"
    },
    {
     "data": {
      "text/latex": [
       "$\\displaystyle AMI = \\frac{MI - \\mathbb{E}[MI]}{\\max(H(X), H(Y)) - \\mathbb{E}[MI]}$"
      ],
      "text/plain": [
       "<IPython.core.display.Math object>"
      ]
     },
     "metadata": {},
     "output_type": "display_data"
    },
    {
     "data": {
      "text/markdown": [
       "**Область применения метрики**: Используется для оценки зависимости между переменными в задачах классификации и кластеризации, корректируя случайное совпадение."
      ],
      "text/plain": [
       "<IPython.core.display.Markdown object>"
      ]
     },
     "metadata": {},
     "output_type": "display_data"
    },
    {
     "data": {
      "text/markdown": [
       "**Область значений**: от 0 до 1."
      ],
      "text/plain": [
       "<IPython.core.display.Markdown object>"
      ]
     },
     "metadata": {},
     "output_type": "display_data"
    },
    {
     "data": {
      "text/markdown": [
       "**Лучший и худший результат**: Лучший результат при значении: 1. Худший результат: 0."
      ],
      "text/plain": [
       "<IPython.core.display.Markdown object>"
      ]
     },
     "metadata": {},
     "output_type": "display_data"
    },
    {
     "data": {
      "text/markdown": [
       "<center><span style=\"font-size:20px;font-weight: 800\">Average Precision Score</span></center>"
      ],
      "text/plain": [
       "<IPython.core.display.Markdown object>"
      ]
     },
     "metadata": {},
     "output_type": "display_data"
    },
    {
     "data": {
      "text/markdown": [
       "**Описание метрики**: Average Precision Score измеряет точность с учетом всех пороговых значений, усредняя Precision по различным значениями Recall."
      ],
      "text/plain": [
       "<IPython.core.display.Markdown object>"
      ]
     },
     "metadata": {},
     "output_type": "display_data"
    },
    {
     "data": {
      "text/markdown": [
       "**Математическая формула метрики**:"
      ],
      "text/plain": [
       "<IPython.core.display.Markdown object>"
      ]
     },
     "metadata": {},
     "output_type": "display_data"
    },
    {
     "data": {
      "text/latex": [
       "$\\displaystyle AP = \\sum_{n} (R_n - R_{n-1}) P_n$"
      ],
      "text/plain": [
       "<IPython.core.display.Math object>"
      ]
     },
     "metadata": {},
     "output_type": "display_data"
    },
    {
     "data": {
      "text/markdown": [
       "**Область применения метрики**: Используется для оценки качества классификации и ранжирования в задачах бинарной и многоклассовой классификации."
      ],
      "text/plain": [
       "<IPython.core.display.Markdown object>"
      ]
     },
     "metadata": {},
     "output_type": "display_data"
    },
    {
     "data": {
      "text/markdown": [
       "**Область значений**: от 0 до 1."
      ],
      "text/plain": [
       "<IPython.core.display.Markdown object>"
      ]
     },
     "metadata": {},
     "output_type": "display_data"
    },
    {
     "data": {
      "text/markdown": [
       "**Лучший и худший результат**: Лучший результат при значении: 1. Худший результат: 0."
      ],
      "text/plain": [
       "<IPython.core.display.Markdown object>"
      ]
     },
     "metadata": {},
     "output_type": "display_data"
    },
    {
     "data": {
      "text/markdown": [
       "<center><span style=\"font-size:20px;font-weight: 800\">Label Ranking Average Precision Score</span></center>"
      ],
      "text/plain": [
       "<IPython.core.display.Markdown object>"
      ]
     },
     "metadata": {},
     "output_type": "display_data"
    },
    {
     "data": {
      "text/markdown": [
       "**Описание метрики**: Label Ranking Average Precision Score измеряет точность ранжирования меток, усредняя Precision по различным уровням Recall."
      ],
      "text/plain": [
       "<IPython.core.display.Markdown object>"
      ]
     },
     "metadata": {},
     "output_type": "display_data"
    },
    {
     "data": {
      "text/markdown": [
       "**Математическая формула метрики**:"
      ],
      "text/plain": [
       "<IPython.core.display.Markdown object>"
      ]
     },
     "metadata": {},
     "output_type": "display_data"
    },
    {
     "data": {
      "text/latex": [
       "$\\displaystyle LRAP = \\frac{1}{n} \\sum_{i=1}^n \\frac{\\sum_{j \\in \\text{ranked\\_labels}_i} \\frac{\\text{relevant\\_label}_j}{|j|}}{\\text{number\\_of\\_relevant\\_labels}_i}$"
      ],
      "text/plain": [
       "<IPython.core.display.Math object>"
      ]
     },
     "metadata": {},
     "output_type": "display_data"
    },
    {
     "data": {
      "text/markdown": [
       "**Область применения метрики**: Используется для оценки качества ранжирования меток в задачах многоклассовой и многометочной классификации."
      ],
      "text/plain": [
       "<IPython.core.display.Markdown object>"
      ]
     },
     "metadata": {},
     "output_type": "display_data"
    },
    {
     "data": {
      "text/markdown": [
       "**Область значений**: от 0 до 1."
      ],
      "text/plain": [
       "<IPython.core.display.Markdown object>"
      ]
     },
     "metadata": {},
     "output_type": "display_data"
    },
    {
     "data": {
      "text/markdown": [
       "**Лучший и худший результат**: Лучший результат при значении: 1. Худший результат: 0."
      ],
      "text/plain": [
       "<IPython.core.display.Markdown object>"
      ]
     },
     "metadata": {},
     "output_type": "display_data"
    },
    {
     "data": {
      "text/markdown": [
       "<center><span style=\"font-size:20px;font-weight: 800\">Balanced Accuracy Score</span></center>"
      ],
      "text/plain": [
       "<IPython.core.display.Markdown object>"
      ]
     },
     "metadata": {},
     "output_type": "display_data"
    },
    {
     "data": {
      "text/markdown": [
       "**Описание метрики**: Balanced Accuracy Score измеряет среднюю точность, взвешенную по количеству экземпляров в каждом классе, учитывая дисбаланс классов."
      ],
      "text/plain": [
       "<IPython.core.display.Markdown object>"
      ]
     },
     "metadata": {},
     "output_type": "display_data"
    },
    {
     "data": {
      "text/markdown": [
       "**Математическая формула метрики**:"
      ],
      "text/plain": [
       "<IPython.core.display.Markdown object>"
      ]
     },
     "metadata": {},
     "output_type": "display_data"
    },
    {
     "data": {
      "text/latex": [
       "$\\displaystyle Balanced\\ Accuracy = \\frac{1}{2} \\left( \\frac{TP}{TP + FN} + \\frac{TN}{TN + FP} \\right)$"
      ],
      "text/plain": [
       "<IPython.core.display.Math object>"
      ]
     },
     "metadata": {},
     "output_type": "display_data"
    },
    {
     "data": {
      "text/markdown": [
       "**Область применения метрики**: Используется для оценки качества классификации в задачах с несбалансированными классами."
      ],
      "text/plain": [
       "<IPython.core.display.Markdown object>"
      ]
     },
     "metadata": {},
     "output_type": "display_data"
    },
    {
     "data": {
      "text/markdown": [
       "**Область значений**: от 0 до 1."
      ],
      "text/plain": [
       "<IPython.core.display.Markdown object>"
      ]
     },
     "metadata": {},
     "output_type": "display_data"
    },
    {
     "data": {
      "text/markdown": [
       "**Лучший и худший результат**: Лучший результат при значении: 1. Худший результат: 0."
      ],
      "text/plain": [
       "<IPython.core.display.Markdown object>"
      ]
     },
     "metadata": {},
     "output_type": "display_data"
    },
    {
     "data": {
      "text/markdown": [
       "<center><span style=\"font-size:20px;font-weight: 800\">Top K Accuracy Score</span></center>"
      ],
      "text/plain": [
       "<IPython.core.display.Markdown object>"
      ]
     },
     "metadata": {},
     "output_type": "display_data"
    },
    {
     "data": {
      "text/markdown": [
       "**Описание метрики**: Top K Accuracy Score измеряет долю правильных предсказаний, где верный класс находится среди K наиболее вероятных предсказаний модели."
      ],
      "text/plain": [
       "<IPython.core.display.Markdown object>"
      ]
     },
     "metadata": {},
     "output_type": "display_data"
    },
    {
     "data": {
      "text/markdown": [
       "**Математическая формула метрики**:"
      ],
      "text/plain": [
       "<IPython.core.display.Markdown object>"
      ]
     },
     "metadata": {},
     "output_type": "display_data"
    },
    {
     "data": {
      "text/latex": [
       "$\\displaystyle Top\\ K\\ Accuracy = \\frac{1}{n} \\sum_{i=1}^n \\mathbb{I}(y_i \\in \\text{top}_K(\\hat{y}_i))$"
      ],
      "text/plain": [
       "<IPython.core.display.Math object>"
      ]
     },
     "metadata": {},
     "output_type": "display_data"
    },
    {
     "data": {
      "text/markdown": [
       "**Область применения метрики**: Используется для оценки качества классификации в задачах с многоклассовыми метками, где важно учитывать несколько возможных классов."
      ],
      "text/plain": [
       "<IPython.core.display.Markdown object>"
      ]
     },
     "metadata": {},
     "output_type": "display_data"
    },
    {
     "data": {
      "text/markdown": [
       "**Область значений**: от 0 до 1."
      ],
      "text/plain": [
       "<IPython.core.display.Markdown object>"
      ]
     },
     "metadata": {},
     "output_type": "display_data"
    },
    {
     "data": {
      "text/markdown": [
       "**Лучший и худший результат**: Лучший результат при значении: 1. Худший результат: 0."
      ],
      "text/plain": [
       "<IPython.core.display.Markdown object>"
      ]
     },
     "metadata": {},
     "output_type": "display_data"
    },
    {
     "data": {
      "text/markdown": [
       "<center><span style=\"font-size:20px;font-weight: 800\">ROC AUC Score</span></center>"
      ],
      "text/plain": [
       "<IPython.core.display.Markdown object>"
      ]
     },
     "metadata": {},
     "output_type": "display_data"
    },
    {
     "data": {
      "text/markdown": [
       "**Описание метрики**: ROC AUC Score измеряет площадь под кривой ROC, оценивая способность модели различать классы."
      ],
      "text/plain": [
       "<IPython.core.display.Markdown object>"
      ]
     },
     "metadata": {},
     "output_type": "display_data"
    },
    {
     "data": {
      "text/markdown": [
       "**Математическая формула метрики**:"
      ],
      "text/plain": [
       "<IPython.core.display.Markdown object>"
      ]
     },
     "metadata": {},
     "output_type": "display_data"
    },
    {
     "data": {
      "text/latex": [
       "$\\displaystyle ROC\\ AUC = \\int_{0}^{1} TPR(FPR) \\, d(FPR)$"
      ],
      "text/plain": [
       "<IPython.core.display.Math object>"
      ]
     },
     "metadata": {},
     "output_type": "display_data"
    },
    {
     "data": {
      "text/markdown": [
       "**Область применения метрики**: Используется в задачах бинарной классификации для оценки способности модели различать положительные и отрицательные классы."
      ],
      "text/plain": [
       "<IPython.core.display.Markdown object>"
      ]
     },
     "metadata": {},
     "output_type": "display_data"
    },
    {
     "data": {
      "text/markdown": [
       "**Область значений**: от 0 до 1."
      ],
      "text/plain": [
       "<IPython.core.display.Markdown object>"
      ]
     },
     "metadata": {},
     "output_type": "display_data"
    },
    {
     "data": {
      "text/markdown": [
       "**Лучший и худший результат**: Лучший результат при значении: 1. Худший результат: 0."
      ],
      "text/plain": [
       "<IPython.core.display.Markdown object>"
      ]
     },
     "metadata": {},
     "output_type": "display_data"
    },
    {
     "data": {
      "text/markdown": [
       "<center><span style=\"font-size:20px;font-weight: 800\">Gini Coefficient</span></center>"
      ],
      "text/plain": [
       "<IPython.core.display.Markdown object>"
      ]
     },
     "metadata": {},
     "output_type": "display_data"
    },
    {
     "data": {
      "text/markdown": [
       "**Описание метрики**: Gini Coefficient измеряет неравенство распределения, часто используемый в задачах бинарной классификации для оценки расслоения данных."
      ],
      "text/plain": [
       "<IPython.core.display.Markdown object>"
      ]
     },
     "metadata": {},
     "output_type": "display_data"
    },
    {
     "data": {
      "text/markdown": [
       "**Математическая формула метрики**:"
      ],
      "text/plain": [
       "<IPython.core.display.Markdown object>"
      ]
     },
     "metadata": {},
     "output_type": "display_data"
    },
    {
     "data": {
      "text/latex": [
       "$\\displaystyle Gini = 2 \\cdot \\text{AUC} - 1$"
      ],
      "text/plain": [
       "<IPython.core.display.Math object>"
      ]
     },
     "metadata": {},
     "output_type": "display_data"
    },
    {
     "data": {
      "text/markdown": [
       "**Область применения метрики**: Используется в задачах бинарной классификации для оценки способности модели различать положительные и отрицательные примеры."
      ],
      "text/plain": [
       "<IPython.core.display.Markdown object>"
      ]
     },
     "metadata": {},
     "output_type": "display_data"
    },
    {
     "data": {
      "text/markdown": [
       "**Область значений**: от -1 до 1."
      ],
      "text/plain": [
       "<IPython.core.display.Markdown object>"
      ]
     },
     "metadata": {},
     "output_type": "display_data"
    },
    {
     "data": {
      "text/markdown": [
       "**Лучший и худший результат**: Лучший результат при значении: 1. Худший результат: -1."
      ],
      "text/plain": [
       "<IPython.core.display.Markdown object>"
      ]
     },
     "metadata": {},
     "output_type": "display_data"
    },
    {
     "data": {
      "text/markdown": [
       "<span style='color: purple; font-size: 25px;'><b>Метрики Кластеризации</b></span>"
      ],
      "text/plain": [
       "<IPython.core.display.Markdown object>"
      ]
     },
     "metadata": {},
     "output_type": "display_data"
    },
    {
     "data": {
      "text/markdown": [
       "<center><span style=\"font-size:20px;font-weight: 800\">Silhouette Score</span></center>"
      ],
      "text/plain": [
       "<IPython.core.display.Markdown object>"
      ]
     },
     "metadata": {},
     "output_type": "display_data"
    },
    {
     "data": {
      "text/markdown": [
       "**Описание метрики**: Silhouette Score измеряет, насколько близко каждый объект в кластере находится к объектам в других кластерах."
      ],
      "text/plain": [
       "<IPython.core.display.Markdown object>"
      ]
     },
     "metadata": {},
     "output_type": "display_data"
    },
    {
     "data": {
      "text/markdown": [
       "**Математическая формула метрики**:"
      ],
      "text/plain": [
       "<IPython.core.display.Markdown object>"
      ]
     },
     "metadata": {},
     "output_type": "display_data"
    },
    {
     "data": {
      "text/latex": [
       "$\\displaystyle S = \\frac{b - a}{\\max(a, b)}$"
      ],
      "text/plain": [
       "<IPython.core.display.Math object>"
      ]
     },
     "metadata": {},
     "output_type": "display_data"
    },
    {
     "data": {
      "text/markdown": [
       "**Область применения метрики**: Используется для оценки качества кластеризации, особенно когда количество кластеров заранее неизвестно."
      ],
      "text/plain": [
       "<IPython.core.display.Markdown object>"
      ]
     },
     "metadata": {},
     "output_type": "display_data"
    },
    {
     "data": {
      "text/markdown": [
       "**Область значений**: от -1 до 1."
      ],
      "text/plain": [
       "<IPython.core.display.Markdown object>"
      ]
     },
     "metadata": {},
     "output_type": "display_data"
    },
    {
     "data": {
      "text/markdown": [
       "**Лучший и худший результат**: Лучший результат при значении: 1. Худший результат: -1."
      ],
      "text/plain": [
       "<IPython.core.display.Markdown object>"
      ]
     },
     "metadata": {},
     "output_type": "display_data"
    },
    {
     "data": {
      "text/markdown": [
       "<center><span style=\"font-size:20px;font-weight: 800\">Dunn Index</span></center>"
      ],
      "text/plain": [
       "<IPython.core.display.Markdown object>"
      ]
     },
     "metadata": {},
     "output_type": "display_data"
    },
    {
     "data": {
      "text/markdown": [
       "**Описание метрики**: Dunn Index измеряет соотношение минимального межкластерного расстояния к максимальному внутрикластерному расстоянию."
      ],
      "text/plain": [
       "<IPython.core.display.Markdown object>"
      ]
     },
     "metadata": {},
     "output_type": "display_data"
    },
    {
     "data": {
      "text/markdown": [
       "**Математическая формула метрики**:"
      ],
      "text/plain": [
       "<IPython.core.display.Markdown object>"
      ]
     },
     "metadata": {},
     "output_type": "display_data"
    },
    {
     "data": {
      "text/latex": [
       "$\\displaystyle D = \\frac{\\min_{1 \\leq i < j \\leq k} \\delta(C_i, C_j)}{\\max_{1 \\leq i \\leq k} \\Delta(C_i)}$"
      ],
      "text/plain": [
       "<IPython.core.display.Math object>"
      ]
     },
     "metadata": {},
     "output_type": "display_data"
    },
    {
     "data": {
      "text/markdown": [
       "**Область применения метрики**: Используется для оценки качества кластеризации, особенно когда важно максимизировать расстояние между кластерами."
      ],
      "text/plain": [
       "<IPython.core.display.Markdown object>"
      ]
     },
     "metadata": {},
     "output_type": "display_data"
    },
    {
     "data": {
      "text/markdown": [
       "**Область значений**: от 0 до ∞."
      ],
      "text/plain": [
       "<IPython.core.display.Markdown object>"
      ]
     },
     "metadata": {},
     "output_type": "display_data"
    },
    {
     "data": {
      "text/markdown": [
       "**Лучший и худший результат**: Лучший результат при высоком значении. Худший результат при низком значении."
      ],
      "text/plain": [
       "<IPython.core.display.Markdown object>"
      ]
     },
     "metadata": {},
     "output_type": "display_data"
    },
    {
     "data": {
      "text/markdown": [
       "<center><span style=\"font-size:20px;font-weight: 800\">V-Measure</span></center>"
      ],
      "text/plain": [
       "<IPython.core.display.Markdown object>"
      ]
     },
     "metadata": {},
     "output_type": "display_data"
    },
    {
     "data": {
      "text/markdown": [
       "**Описание метрики**: V-Measure объединяет оценку однородности (homogeneity) и полноты (completeness) для оценки качества кластеризации."
      ],
      "text/plain": [
       "<IPython.core.display.Markdown object>"
      ]
     },
     "metadata": {},
     "output_type": "display_data"
    },
    {
     "data": {
      "text/markdown": [
       "**Математическая формула метрики**:"
      ],
      "text/plain": [
       "<IPython.core.display.Markdown object>"
      ]
     },
     "metadata": {},
     "output_type": "display_data"
    },
    {
     "data": {
      "text/latex": [
       "$\\displaystyle V = 2 \\times \\frac{homogeneity \\times completeness}{homogeneity + completeness}$"
      ],
      "text/plain": [
       "<IPython.core.display.Math object>"
      ]
     },
     "metadata": {},
     "output_type": "display_data"
    },
    {
     "data": {
      "text/markdown": [
       "**Область применения метрики**: Используется для оценки качества кластеризации, особенно когда важны оба аспекта - однородность и полнота."
      ],
      "text/plain": [
       "<IPython.core.display.Markdown object>"
      ]
     },
     "metadata": {},
     "output_type": "display_data"
    },
    {
     "data": {
      "text/markdown": [
       "**Область значений**: от 0 до 1."
      ],
      "text/plain": [
       "<IPython.core.display.Markdown object>"
      ]
     },
     "metadata": {},
     "output_type": "display_data"
    },
    {
     "data": {
      "text/markdown": [
       "**Лучший и худший результат**: Лучший результат при значении: 1. Худший результат: 0."
      ],
      "text/plain": [
       "<IPython.core.display.Markdown object>"
      ]
     },
     "metadata": {},
     "output_type": "display_data"
    },
    {
     "data": {
      "text/markdown": [
       "<center><span style=\"font-size:20px;font-weight: 800\">Adjusted Rand Index</span></center>"
      ],
      "text/plain": [
       "<IPython.core.display.Markdown object>"
      ]
     },
     "metadata": {},
     "output_type": "display_data"
    },
    {
     "data": {
      "text/markdown": [
       "**Описание метрики**: Adjusted Rand Index измеряет сходство между двумя кластеризациями, корректируя вероятность случайного совпадения."
      ],
      "text/plain": [
       "<IPython.core.display.Markdown object>"
      ]
     },
     "metadata": {},
     "output_type": "display_data"
    },
    {
     "data": {
      "text/markdown": [
       "**Математическая формула метрики**:"
      ],
      "text/plain": [
       "<IPython.core.display.Markdown object>"
      ]
     },
     "metadata": {},
     "output_type": "display_data"
    },
    {
     "data": {
      "text/latex": [
       "$\\displaystyle ARI = \\frac{RI - \\mathbb{E}[RI]}{\\max(RI) - \\mathbb{E}[RI]}$"
      ],
      "text/plain": [
       "<IPython.core.display.Math object>"
      ]
     },
     "metadata": {},
     "output_type": "display_data"
    },
    {
     "data": {
      "text/markdown": [
       "**Область применения метрики**: Используется для оценки качества кластеризации, особенно при сравнении различных алгоритмов кластеризации."
      ],
      "text/plain": [
       "<IPython.core.display.Markdown object>"
      ]
     },
     "metadata": {},
     "output_type": "display_data"
    },
    {
     "data": {
      "text/markdown": [
       "**Область значений**: от -1 до 1."
      ],
      "text/plain": [
       "<IPython.core.display.Markdown object>"
      ]
     },
     "metadata": {},
     "output_type": "display_data"
    },
    {
     "data": {
      "text/markdown": [
       "**Лучший и худший результат**: Лучший результат при значении: 1. Худший результат: -1."
      ],
      "text/plain": [
       "<IPython.core.display.Markdown object>"
      ]
     },
     "metadata": {},
     "output_type": "display_data"
    },
    {
     "data": {
      "text/markdown": [
       "<center><span style=\"font-size:20px;font-weight: 800\">Rand Index</span></center>"
      ],
      "text/plain": [
       "<IPython.core.display.Markdown object>"
      ]
     },
     "metadata": {},
     "output_type": "display_data"
    },
    {
     "data": {
      "text/markdown": [
       "**Описание метрики**: Rand Index измеряет сходство между двумя кластеризациями, оценивая долю правильно классифицированных пар объектов."
      ],
      "text/plain": [
       "<IPython.core.display.Markdown object>"
      ]
     },
     "metadata": {},
     "output_type": "display_data"
    },
    {
     "data": {
      "text/markdown": [
       "**Математическая формула метрики**:"
      ],
      "text/plain": [
       "<IPython.core.display.Markdown object>"
      ]
     },
     "metadata": {},
     "output_type": "display_data"
    },
    {
     "data": {
      "text/latex": [
       "$\\displaystyle RI = \\frac{TP + TN}{TP + FP + FN + TN}$"
      ],
      "text/plain": [
       "<IPython.core.display.Math object>"
      ]
     },
     "metadata": {},
     "output_type": "display_data"
    },
    {
     "data": {
      "text/markdown": [
       "**Область применения метрики**: Используется для оценки качества кластеризации, особенно при сравнении результатов различных кластеризаций."
      ],
      "text/plain": [
       "<IPython.core.display.Markdown object>"
      ]
     },
     "metadata": {},
     "output_type": "display_data"
    },
    {
     "data": {
      "text/markdown": [
       "**Область значений**: от 0 до 1."
      ],
      "text/plain": [
       "<IPython.core.display.Markdown object>"
      ]
     },
     "metadata": {},
     "output_type": "display_data"
    },
    {
     "data": {
      "text/markdown": [
       "**Лучший и худший результат**: Лучший результат при значении: 1. Худший результат: 0."
      ],
      "text/plain": [
       "<IPython.core.display.Markdown object>"
      ]
     },
     "metadata": {},
     "output_type": "display_data"
    },
    {
     "data": {
      "text/markdown": [
       "<center><span style=\"font-size:20px;font-weight: 800\">Symmetric Mean Absolute Percentage Error (SMAPE)</span></center>"
      ],
      "text/plain": [
       "<IPython.core.display.Markdown object>"
      ]
     },
     "metadata": {},
     "output_type": "display_data"
    },
    {
     "data": {
      "text/markdown": [
       "**Описание метрики**: Symmetric Mean Absolute Percentage Error (SMAPE) измеряет точность предсказаний, усредняя процентные ошибки, симметрично относительно фактических и предсказанных значений."
      ],
      "text/plain": [
       "<IPython.core.display.Markdown object>"
      ]
     },
     "metadata": {},
     "output_type": "display_data"
    },
    {
     "data": {
      "text/markdown": [
       "**Математическая формула метрики**:"
      ],
      "text/plain": [
       "<IPython.core.display.Markdown object>"
      ]
     },
     "metadata": {},
     "output_type": "display_data"
    },
    {
     "data": {
      "text/latex": [
       "$\\displaystyle SMAPE = \\frac{100\\%}{n} \\sum_{i=1}^n \\frac{|y_i - \\hat{y}_i|}{(|y_i| + |\\hat{y}_i|)/2}$"
      ],
      "text/plain": [
       "<IPython.core.display.Math object>"
      ]
     },
     "metadata": {},
     "output_type": "display_data"
    },
    {
     "data": {
      "text/markdown": [
       "**Область применения метрики**: Используется для оценки точности предсказаний в задачах временных рядов и регрессии."
      ],
      "text/plain": [
       "<IPython.core.display.Markdown object>"
      ]
     },
     "metadata": {},
     "output_type": "display_data"
    },
    {
     "data": {
      "text/markdown": [
       "**Область значений**: от 0 до 100%."
      ],
      "text/plain": [
       "<IPython.core.display.Markdown object>"
      ]
     },
     "metadata": {},
     "output_type": "display_data"
    },
    {
     "data": {
      "text/markdown": [
       "**Лучший и худший результат**: Лучший результат при значении: 0%. Худший результат: 100%."
      ],
      "text/plain": [
       "<IPython.core.display.Markdown object>"
      ]
     },
     "metadata": {},
     "output_type": "display_data"
    },
    {
     "data": {
      "text/markdown": [
       "<center><span style=\"font-size:20px;font-weight: 800\">Mean Absolute Percentage Error (MAPE)</span></center>"
      ],
      "text/plain": [
       "<IPython.core.display.Markdown object>"
      ]
     },
     "metadata": {},
     "output_type": "display_data"
    },
    {
     "data": {
      "text/markdown": [
       "**Описание метрики**: Mean Absolute Percentage Error (MAPE) измеряет точность предсказаний, усредняя процентные ошибки между фактическими и предсказанными значениями."
      ],
      "text/plain": [
       "<IPython.core.display.Markdown object>"
      ]
     },
     "metadata": {},
     "output_type": "display_data"
    },
    {
     "data": {
      "text/markdown": [
       "**Математическая формула метрики**:"
      ],
      "text/plain": [
       "<IPython.core.display.Markdown object>"
      ]
     },
     "metadata": {},
     "output_type": "display_data"
    },
    {
     "data": {
      "text/latex": [
       "$\\displaystyle MAPE = \\frac{100\\%}{n} \\sum_{i=1}^n \\frac{|y_i - \\hat{y}_i|}{|y_i|}$"
      ],
      "text/plain": [
       "<IPython.core.display.Math object>"
      ]
     },
     "metadata": {},
     "output_type": "display_data"
    },
    {
     "data": {
      "text/markdown": [
       "**Область применения метрики**: Используется для оценки точности предсказаний в задачах временных рядов и регрессии."
      ],
      "text/plain": [
       "<IPython.core.display.Markdown object>"
      ]
     },
     "metadata": {},
     "output_type": "display_data"
    },
    {
     "data": {
      "text/markdown": [
       "**Область значений**: от 0 до ∞%."
      ],
      "text/plain": [
       "<IPython.core.display.Markdown object>"
      ]
     },
     "metadata": {},
     "output_type": "display_data"
    },
    {
     "data": {
      "text/markdown": [
       "**Лучший и худший результат**: Лучший результат при значении: 0%. Худший результат: ∞%."
      ],
      "text/plain": [
       "<IPython.core.display.Markdown object>"
      ]
     },
     "metadata": {},
     "output_type": "display_data"
    },
    {
     "data": {
      "text/markdown": [
       "<center><span style=\"font-size:20px;font-weight: 800\">Normalized Mutual Information (NMI)</span></center>"
      ],
      "text/plain": [
       "<IPython.core.display.Markdown object>"
      ]
     },
     "metadata": {},
     "output_type": "display_data"
    },
    {
     "data": {
      "text/markdown": [
       "**Описание метрики**: Normalized Mutual Information (NMI) измеряет сходство между двумя кластеризациями, нормализуя значение взаимной информации."
      ],
      "text/plain": [
       "<IPython.core.display.Markdown object>"
      ]
     },
     "metadata": {},
     "output_type": "display_data"
    },
    {
     "data": {
      "text/markdown": [
       "**Математическая формула метрики**:"
      ],
      "text/plain": [
       "<IPython.core.display.Markdown object>"
      ]
     },
     "metadata": {},
     "output_type": "display_data"
    },
    {
     "data": {
      "text/latex": [
       "$\\displaystyle NMI = \\frac{2 \\cdot I(U;V)}{H(U) + H(V)}$"
      ],
      "text/plain": [
       "<IPython.core.display.Math object>"
      ]
     },
     "metadata": {},
     "output_type": "display_data"
    },
    {
     "data": {
      "text/markdown": [
       "**Область применения метрики**: Используется для оценки качества кластеризации, особенно при сравнении различных алгоритмов кластеризации."
      ],
      "text/plain": [
       "<IPython.core.display.Markdown object>"
      ]
     },
     "metadata": {},
     "output_type": "display_data"
    },
    {
     "data": {
      "text/markdown": [
       "**Область значений**: от 0 до 1."
      ],
      "text/plain": [
       "<IPython.core.display.Markdown object>"
      ]
     },
     "metadata": {},
     "output_type": "display_data"
    },
    {
     "data": {
      "text/markdown": [
       "**Лучший и худший результат**: Лучший результат при значении: 1. Худший результат: 0."
      ],
      "text/plain": [
       "<IPython.core.display.Markdown object>"
      ]
     },
     "metadata": {},
     "output_type": "display_data"
    },
    {
     "data": {
      "text/markdown": [
       "<center><span style=\"font-size:20px;font-weight: 800\">Fowlkes-Mallows Index (FMI)</span></center>"
      ],
      "text/plain": [
       "<IPython.core.display.Markdown object>"
      ]
     },
     "metadata": {},
     "output_type": "display_data"
    },
    {
     "data": {
      "text/markdown": [
       "**Описание метрики**: Fowlkes-Mallows Index (FMI) измеряет сходство между двумя кластеризациями, оценивая количество общих пар кластеров."
      ],
      "text/plain": [
       "<IPython.core.display.Markdown object>"
      ]
     },
     "metadata": {},
     "output_type": "display_data"
    },
    {
     "data": {
      "text/markdown": [
       "**Математическая формула метрики**:"
      ],
      "text/plain": [
       "<IPython.core.display.Markdown object>"
      ]
     },
     "metadata": {},
     "output_type": "display_data"
    },
    {
     "data": {
      "text/latex": [
       "$\\displaystyle FMI = \\sqrt{\\frac{TP}{TP + FP} \\cdot \\frac{TP}{TP + FN}}$"
      ],
      "text/plain": [
       "<IPython.core.display.Math object>"
      ]
     },
     "metadata": {},
     "output_type": "display_data"
    },
    {
     "data": {
      "text/markdown": [
       "**Область применения метрики**: Используется для оценки качества кластеризации, особенно при сравнении результатов различных кластеризаций."
      ],
      "text/plain": [
       "<IPython.core.display.Markdown object>"
      ]
     },
     "metadata": {},
     "output_type": "display_data"
    },
    {
     "data": {
      "text/markdown": [
       "**Область значений**: от 0 до 1."
      ],
      "text/plain": [
       "<IPython.core.display.Markdown object>"
      ]
     },
     "metadata": {},
     "output_type": "display_data"
    },
    {
     "data": {
      "text/markdown": [
       "**Лучший и худший результат**: Лучший результат при значении: 1. Худший результат: 0."
      ],
      "text/plain": [
       "<IPython.core.display.Markdown object>"
      ]
     },
     "metadata": {},
     "output_type": "display_data"
    },
    {
     "data": {
      "text/markdown": [
       "<center><span style=\"font-size:20px;font-weight: 800\">Calinski-Harabasz Index (CHI)</span></center>"
      ],
      "text/plain": [
       "<IPython.core.display.Markdown object>"
      ]
     },
     "metadata": {},
     "output_type": "display_data"
    },
    {
     "data": {
      "text/markdown": [
       "**Описание метрики**: Calinski-Harabasz Index (или Variance Ratio Criterion) оценивает соотношение суммы междуклассовой дисперсии к внутриклассовой дисперсии."
      ],
      "text/plain": [
       "<IPython.core.display.Markdown object>"
      ]
     },
     "metadata": {},
     "output_type": "display_data"
    },
    {
     "data": {
      "text/markdown": [
       "**Математическая формула метрики**:"
      ],
      "text/plain": [
       "<IPython.core.display.Markdown object>"
      ]
     },
     "metadata": {},
     "output_type": "display_data"
    },
    {
     "data": {
      "text/latex": [
       "$\\displaystyle CHI = \\frac{\\text{trace}(B_k)}{\\text{trace}(W_k)} \\times \\frac{n - k}{k - 1}$"
      ],
      "text/plain": [
       "<IPython.core.display.Math object>"
      ]
     },
     "metadata": {},
     "output_type": "display_data"
    },
    {
     "data": {
      "text/markdown": [
       "**Область применения метрики**: Используется для оценки качества кластеризации, особенно при сравнении различных алгоритмов кластеризации."
      ],
      "text/plain": [
       "<IPython.core.display.Markdown object>"
      ]
     },
     "metadata": {},
     "output_type": "display_data"
    },
    {
     "data": {
      "text/markdown": [
       "**Область значений**: от 0 до ∞."
      ],
      "text/plain": [
       "<IPython.core.display.Markdown object>"
      ]
     },
     "metadata": {},
     "output_type": "display_data"
    },
    {
     "data": {
      "text/markdown": [
       "**Лучший и худший результат**: Лучший результат при высоком значении. Худший результат при низком значении."
      ],
      "text/plain": [
       "<IPython.core.display.Markdown object>"
      ]
     },
     "metadata": {},
     "output_type": "display_data"
    },
    {
     "data": {
      "text/markdown": [
       "<center><span style=\"font-size:20px;font-weight: 800\">Davies-Bouldin Index (DBI)</span></center>"
      ],
      "text/plain": [
       "<IPython.core.display.Markdown object>"
      ]
     },
     "metadata": {},
     "output_type": "display_data"
    },
    {
     "data": {
      "text/markdown": [
       "**Описание метрики**: Davies-Bouldin Index измеряет среднее схожести каждого кластера с наиболее похожим другим кластером, оценивая разброс и расстояние."
      ],
      "text/plain": [
       "<IPython.core.display.Markdown object>"
      ]
     },
     "metadata": {},
     "output_type": "display_data"
    },
    {
     "data": {
      "text/markdown": [
       "**Математическая формула метрики**:"
      ],
      "text/plain": [
       "<IPython.core.display.Markdown object>"
      ]
     },
     "metadata": {},
     "output_type": "display_data"
    },
    {
     "data": {
      "text/latex": [
       "$\\displaystyle DBI = \\frac{1}{k} \\sum_{i=1}^k \\max_{j \\neq i} \\left( \\frac{\\sigma_i + \\sigma_j}{d(c_i, c_j)} \\right)$"
      ],
      "text/plain": [
       "<IPython.core.display.Math object>"
      ]
     },
     "metadata": {},
     "output_type": "display_data"
    },
    {
     "data": {
      "text/markdown": [
       "**Область применения метрики**: Используется для оценки качества кластеризации, особенно когда требуется минимизировать межкластерное сходство."
      ],
      "text/plain": [
       "<IPython.core.display.Markdown object>"
      ]
     },
     "metadata": {},
     "output_type": "display_data"
    },
    {
     "data": {
      "text/markdown": [
       "**Область значений**: от 0 до ∞."
      ],
      "text/plain": [
       "<IPython.core.display.Markdown object>"
      ]
     },
     "metadata": {},
     "output_type": "display_data"
    },
    {
     "data": {
      "text/markdown": [
       "**Лучший и худший результат**: Лучший результат при значении: 0. Худший результат: ∞."
      ],
      "text/plain": [
       "<IPython.core.display.Markdown object>"
      ]
     },
     "metadata": {},
     "output_type": "display_data"
    },
    {
     "data": {
      "text/markdown": [
       "<span style='color: purple; font-size: 25px;'><b>Метрики Дистанций для Кластеризации и Рекомендательных систем</b></span>"
      ],
      "text/plain": [
       "<IPython.core.display.Markdown object>"
      ]
     },
     "metadata": {},
     "output_type": "display_data"
    },
    {
     "data": {
      "text/markdown": [
       "<center><span style=\"font-size:20px;font-weight: 800\">Расстояние Минковского (Minkowski)</span></center>"
      ],
      "text/plain": [
       "<IPython.core.display.Markdown object>"
      ]
     },
     "metadata": {},
     "output_type": "display_data"
    },
    {
     "data": {
      "text/markdown": [
       "**Описание метрики**: Расстояние Минковского является обобщением нескольких других метрик расстояния и определяется параметром \\( p \\), который позволяет переходить от одного типа расстояния к другому."
      ],
      "text/plain": [
       "<IPython.core.display.Markdown object>"
      ]
     },
     "metadata": {},
     "output_type": "display_data"
    },
    {
     "data": {
      "text/markdown": [
       "**Математическая формула метрики**:"
      ],
      "text/plain": [
       "<IPython.core.display.Markdown object>"
      ]
     },
     "metadata": {},
     "output_type": "display_data"
    },
    {
     "data": {
      "text/latex": [
       "$\\displaystyle d(x, y) = \\left( \\sum_{i=1}^n |x_i - y_i|^p \\right)^{1/p}$"
      ],
      "text/plain": [
       "<IPython.core.display.Math object>"
      ]
     },
     "metadata": {},
     "output_type": "display_data"
    },
    {
     "data": {
      "text/markdown": [
       "**Область применения метрики**: Используется для измерения расстояния в многомерных пространствах, в том числе в задачах кластеризации и рекомендательных системах."
      ],
      "text/plain": [
       "<IPython.core.display.Markdown object>"
      ]
     },
     "metadata": {},
     "output_type": "display_data"
    },
    {
     "data": {
      "text/markdown": [
       "**Область значений**: от 0 до ∞."
      ],
      "text/plain": [
       "<IPython.core.display.Markdown object>"
      ]
     },
     "metadata": {},
     "output_type": "display_data"
    },
    {
     "data": {
      "text/markdown": [
       "**Лучший и худший результат**: Лучший результат при значении: 0. Худший результат: ∞."
      ],
      "text/plain": [
       "<IPython.core.display.Markdown object>"
      ]
     },
     "metadata": {},
     "output_type": "display_data"
    },
    {
     "data": {
      "text/markdown": [
       "<center><span style=\"font-size:20px;font-weight: 800\">Манхэттенское Расстояние (Cityblock/Manhattan)</span></center>"
      ],
      "text/plain": [
       "<IPython.core.display.Markdown object>"
      ]
     },
     "metadata": {},
     "output_type": "display_data"
    },
    {
     "data": {
      "text/markdown": [
       "**Описание метрики**: Манхэттенское расстояние измеряет расстояние между двумя точками в сетке, суммируя абсолютные разницы их координат."
      ],
      "text/plain": [
       "<IPython.core.display.Markdown object>"
      ]
     },
     "metadata": {},
     "output_type": "display_data"
    },
    {
     "data": {
      "text/markdown": [
       "**Математическая формула метрики**:"
      ],
      "text/plain": [
       "<IPython.core.display.Markdown object>"
      ]
     },
     "metadata": {},
     "output_type": "display_data"
    },
    {
     "data": {
      "text/latex": [
       "$\\displaystyle d(x, y) = \\sum_{i=1}^n |x_i - y_i|$"
      ],
      "text/plain": [
       "<IPython.core.display.Math object>"
      ]
     },
     "metadata": {},
     "output_type": "display_data"
    },
    {
     "data": {
      "text/markdown": [
       "**Область применения метрики**: Используется в задачах кластеризации и анализа временных рядов, а также в рекомендательных системах, где важны дискретные перемещения."
      ],
      "text/plain": [
       "<IPython.core.display.Markdown object>"
      ]
     },
     "metadata": {},
     "output_type": "display_data"
    },
    {
     "data": {
      "text/markdown": [
       "**Область значений**: от 0 до ∞."
      ],
      "text/plain": [
       "<IPython.core.display.Markdown object>"
      ]
     },
     "metadata": {},
     "output_type": "display_data"
    },
    {
     "data": {
      "text/markdown": [
       "**Лучший и худший результат**: Лучший результат при значении: 0. Худший результат: ∞."
      ],
      "text/plain": [
       "<IPython.core.display.Markdown object>"
      ]
     },
     "metadata": {},
     "output_type": "display_data"
    },
    {
     "data": {
      "text/markdown": [
       "<center><span style=\"font-size:20px;font-weight: 800\">Косинусное Расстояние (Cosine)</span></center>"
      ],
      "text/plain": [
       "<IPython.core.display.Markdown object>"
      ]
     },
     "metadata": {},
     "output_type": "display_data"
    },
    {
     "data": {
      "text/markdown": [
       "**Описание метрики**: Косинусное расстояние измеряет угол между двумя векторами в пространстве и используется для оценки их сходства."
      ],
      "text/plain": [
       "<IPython.core.display.Markdown object>"
      ]
     },
     "metadata": {},
     "output_type": "display_data"
    },
    {
     "data": {
      "text/markdown": [
       "**Математическая формула метрики**:"
      ],
      "text/plain": [
       "<IPython.core.display.Markdown object>"
      ]
     },
     "metadata": {},
     "output_type": "display_data"
    },
    {
     "data": {
      "text/latex": [
       "$\\displaystyle d_{cos}(x, y) = 1 - \\frac{\\sum_{i=1}^n x_i y_i}{\\sqrt{\\sum_{i=1}^n x_i^2} \\sqrt{\\sum_{i=1}^n y_i^2}}$"
      ],
      "text/plain": [
       "<IPython.core.display.Math object>"
      ]
     },
     "metadata": {},
     "output_type": "display_data"
    },
    {
     "data": {
      "text/markdown": [
       "**Область применения метрики**: Используется в задачах текстового анализа и рекомендательных системах, где важна оценка сходства направлений векторов."
      ],
      "text/plain": [
       "<IPython.core.display.Markdown object>"
      ]
     },
     "metadata": {},
     "output_type": "display_data"
    },
    {
     "data": {
      "text/markdown": [
       "**Область значений**: от 0 до 1."
      ],
      "text/plain": [
       "<IPython.core.display.Markdown object>"
      ]
     },
     "metadata": {},
     "output_type": "display_data"
    },
    {
     "data": {
      "text/markdown": [
       "**Лучший и худший результат**: Лучший результат при значении: 0. Худший результат: 1."
      ],
      "text/plain": [
       "<IPython.core.display.Markdown object>"
      ]
     },
     "metadata": {},
     "output_type": "display_data"
    },
    {
     "data": {
      "text/markdown": [
       "<center><span style=\"font-size:20px;font-weight: 800\">Евклидово Расстояние (Euclidean)</span></center>"
      ],
      "text/plain": [
       "<IPython.core.display.Markdown object>"
      ]
     },
     "metadata": {},
     "output_type": "display_data"
    },
    {
     "data": {
      "text/markdown": [
       "**Описание метрики**: Евклидово расстояние измеряет длину прямой линии между двумя точками в многомерном пространстве."
      ],
      "text/plain": [
       "<IPython.core.display.Markdown object>"
      ]
     },
     "metadata": {},
     "output_type": "display_data"
    },
    {
     "data": {
      "text/markdown": [
       "**Математическая формула метрики**:"
      ],
      "text/plain": [
       "<IPython.core.display.Markdown object>"
      ]
     },
     "metadata": {},
     "output_type": "display_data"
    },
    {
     "data": {
      "text/latex": [
       "$\\displaystyle d(x, y) = \\sqrt{\\sum_{i=1}^n (x_i - y_i)^2}$"
      ],
      "text/plain": [
       "<IPython.core.display.Math object>"
      ]
     },
     "metadata": {},
     "output_type": "display_data"
    },
    {
     "data": {
      "text/markdown": [
       "**Область применения метрики**: Используется в задачах кластеризации, анализа данных и рекомендательных системах для оценки прямого расстояния между объектами."
      ],
      "text/plain": [
       "<IPython.core.display.Markdown object>"
      ]
     },
     "metadata": {},
     "output_type": "display_data"
    },
    {
     "data": {
      "text/markdown": [
       "**Область значений**: от 0 до ∞."
      ],
      "text/plain": [
       "<IPython.core.display.Markdown object>"
      ]
     },
     "metadata": {},
     "output_type": "display_data"
    },
    {
     "data": {
      "text/markdown": [
       "**Лучший и худший результат**: Лучший результат при значении: 0. Худший результат: ∞."
      ],
      "text/plain": [
       "<IPython.core.display.Markdown object>"
      ]
     },
     "metadata": {},
     "output_type": "display_data"
    },
    {
     "data": {
      "text/markdown": [
       "<center><span style=\"font-size:20px;font-weight: 800\">Расстояние Хаверсина (Haversine)</span></center>"
      ],
      "text/plain": [
       "<IPython.core.display.Markdown object>"
      ]
     },
     "metadata": {},
     "output_type": "display_data"
    },
    {
     "data": {
      "text/markdown": [
       "**Описание метрики**: Расстояние Хаверсина используется для расчета расстояний между двумя точками на поверхности сферы, например, на Земле."
      ],
      "text/plain": [
       "<IPython.core.display.Markdown object>"
      ]
     },
     "metadata": {},
     "output_type": "display_data"
    },
    {
     "data": {
      "text/markdown": [
       "**Математическая формула метрики**:"
      ],
      "text/plain": [
       "<IPython.core.display.Markdown object>"
      ]
     },
     "metadata": {},
     "output_type": "display_data"
    },
    {
     "data": {
      "text/latex": [
       "$\\displaystyle d = 2r \\cdot \\arcsin \\left( \\sqrt{\\sin^2\\left(\\frac{\\phi_2 - \\phi_1}{2}\\right) + \\cos(\\phi_1) \\cos(\\phi_2) \\sin^2\\left(\\frac{\\lambda_2 - \\lambda_1}{2}\\right)} \\right)$"
      ],
      "text/plain": [
       "<IPython.core.display.Math object>"
      ]
     },
     "metadata": {},
     "output_type": "display_data"
    },
    {
     "data": {
      "text/markdown": [
       "**Область применения метрики**: Используется в географических информационных системах (GIS) и других задачах, где важно учитывать кривизну поверхности Земли."
      ],
      "text/plain": [
       "<IPython.core.display.Markdown object>"
      ]
     },
     "metadata": {},
     "output_type": "display_data"
    },
    {
     "data": {
      "text/markdown": [
       "**Область значений**: от 0 до πr (радиус сферы)."
      ],
      "text/plain": [
       "<IPython.core.display.Markdown object>"
      ]
     },
     "metadata": {},
     "output_type": "display_data"
    },
    {
     "data": {
      "text/markdown": [
       "**Лучший и худший результат**: Лучший результат при значении: 0. Худший результат: πr."
      ],
      "text/plain": [
       "<IPython.core.display.Markdown object>"
      ]
     },
     "metadata": {},
     "output_type": "display_data"
    },
    {
     "data": {
      "text/markdown": [
       "<center><span style=\"font-size:20px;font-weight: 800\">Nan Евклидово Расстояние (Nan Euclidean)</span></center>"
      ],
      "text/plain": [
       "<IPython.core.display.Markdown object>"
      ]
     },
     "metadata": {},
     "output_type": "display_data"
    },
    {
     "data": {
      "text/markdown": [
       "**Описание метрики**: Nan Евклидово расстояние - это модификация Евклидова расстояния, которая игнорирует пары координат, где хотя бы одна из них является NaN (не числом)."
      ],
      "text/plain": [
       "<IPython.core.display.Markdown object>"
      ]
     },
     "metadata": {},
     "output_type": "display_data"
    },
    {
     "data": {
      "text/markdown": [
       "**Математическая формула метрики**:"
      ],
      "text/plain": [
       "<IPython.core.display.Markdown object>"
      ]
     },
     "metadata": {},
     "output_type": "display_data"
    },
    {
     "data": {
      "text/latex": [
       "$\\displaystyle d(x, y) = \\sqrt{\\sum_{i=1}^n (x_i - y_i)^2 \\cdot \\mathbb{I}_{\\{x_i, y_i \\neq \\text{NaN}\\}}}$"
      ],
      "text/plain": [
       "<IPython.core.display.Math object>"
      ]
     },
     "metadata": {},
     "output_type": "display_data"
    },
    {
     "data": {
      "text/markdown": [
       "**Область применения метрики**: Используется в анализе данных и машинном обучении, где важна корректная обработка пропущенных значений."
      ],
      "text/plain": [
       "<IPython.core.display.Markdown object>"
      ]
     },
     "metadata": {},
     "output_type": "display_data"
    },
    {
     "data": {
      "text/markdown": [
       "**Область значений**: от 0 до ∞."
      ],
      "text/plain": [
       "<IPython.core.display.Markdown object>"
      ]
     },
     "metadata": {},
     "output_type": "display_data"
    },
    {
     "data": {
      "text/markdown": [
       "**Лучший и худший результат**: Лучший результат при значении: 0. Худший результат: ∞."
      ],
      "text/plain": [
       "<IPython.core.display.Markdown object>"
      ]
     },
     "metadata": {},
     "output_type": "display_data"
    },
    {
     "data": {
      "text/markdown": [
       "<center><span style=\"font-size:20px;font-weight: 800\">Расстояние Левенштейна (Levenshtein)</span></center>"
      ],
      "text/plain": [
       "<IPython.core.display.Markdown object>"
      ]
     },
     "metadata": {},
     "output_type": "display_data"
    },
    {
     "data": {
      "text/markdown": [
       "**Описание метрики**: Расстояние Левенштейна измеряет минимальное количество операций вставки, удаления и замены, необходимых для преобразования одной строки в другую."
      ],
      "text/plain": [
       "<IPython.core.display.Markdown object>"
      ]
     },
     "metadata": {},
     "output_type": "display_data"
    },
    {
     "data": {
      "text/markdown": [
       "**Математическая формула метрики**:"
      ],
      "text/plain": [
       "<IPython.core.display.Markdown object>"
      ]
     },
     "metadata": {},
     "output_type": "display_data"
    },
    {
     "data": {
      "text/latex": [
       "$\\displaystyle d_{lev}(a, b) = \\begin{cases} \\max(|a|, |b|), & \\text{if } \\min(|a|, |b|) = 0 \\\\ \\min \\begin{cases} d_{lev}(a_{1..|a|-1}, b) + 1 \\\\ d_{lev}(a, b_{1..|b|-1}) + 1 \\\\ d_{lev}(a_{1..|a|-1}, b_{1..|b|-1}) + \\mathbb{I}_{\\{a_{|a|} \\neq b_{|b|}\\}} \\end{cases}, & \\text{otherwise} \\end{cases}$"
      ],
      "text/plain": [
       "<IPython.core.display.Math object>"
      ]
     },
     "metadata": {},
     "output_type": "display_data"
    },
    {
     "data": {
      "text/markdown": [
       "**Область применения метрики**: Используется в задачах обработки текста, например, для вычисления расстояний между строками в задачах поиска, сравнения и исправления опечаток."
      ],
      "text/plain": [
       "<IPython.core.display.Markdown object>"
      ]
     },
     "metadata": {},
     "output_type": "display_data"
    },
    {
     "data": {
      "text/markdown": [
       "**Область значений**: от 0 до max(длина строки 1, длина строки 2)."
      ],
      "text/plain": [
       "<IPython.core.display.Markdown object>"
      ]
     },
     "metadata": {},
     "output_type": "display_data"
    },
    {
     "data": {
      "text/markdown": [
       "**Лучший и худший результат**: Лучший результат при значении: 0. Худший результат: max(длина строки 1, длина строки 2)."
      ],
      "text/plain": [
       "<IPython.core.display.Markdown object>"
      ]
     },
     "metadata": {},
     "output_type": "display_data"
    }
   ],
   "source": [
    "# REGRESSION METRICS\n",
    "display(Markdown(\"<span style='color: purple; font-size: 25px;'><b>Метрики Регрессии</b></span>\"))\n",
    "\n",
    "# R2 Score\n",
    "display(Markdown('<center><span style=\"font-size:20px;font-weight: 800\">R2 Score</span></center>'))\n",
    "display(Markdown(\"**Описание метрики**: R2 Score (или коэффициент детерминации) является мерой того, какая доля дисперсии зависимой переменной объясняется независимыми переменными модели.\"))\n",
    "display(Markdown(\"**Математическая формула метрики**:\"))\n",
    "display(Math(r'R^2 = 1 - \\frac{\\sum_{i=1}^n (y_i - \\hat{y}_i)^2}{\\sum_{i=1}^n (y_i - \\bar{y})^2}'))\n",
    "display(Markdown(\"**Область применения метрики**: Используется для оценки качества моделей регрессии, особенно в задачах, где важно понять, насколько хорошо независимые переменные объясняют зависимую переменную.\"))\n",
    "display(Markdown(\"**Область значений**: от -∞ до 1.\"))\n",
    "display(Markdown(\"**Лучший и худший результат**: Лучший результат при значении: 1. Худший результат: -∞.\"))\n",
    "\n",
    "# Mean Absolute Error (MAE)\n",
    "display(Markdown('<center><span style=\"font-size:20px;font-weight: 800\">Mean Absolute Error (MAE)</span></center>'))\n",
    "display(Markdown(\"**Описание метрики**: Mean Absolute Error (MAE) измеряет среднюю величину ошибок модели в прогнозировании, без учёта их направления.\"))\n",
    "display(Markdown(\"**Математическая формула метрики**:\"))\n",
    "display(Math(r'MAE = \\frac{1}{n} \\sum_{i=1}^n |y_i - \\hat{y}_i|'))\n",
    "display(Markdown(\"**Область применения метрики**: Часто используется в задачах прогнозирования временных рядов и других задачах регрессии, где требуется оценка средней точности модели.\"))\n",
    "display(Markdown(\"**Область значений**: от 0 до ∞.\"))\n",
    "display(Markdown(\"**Лучший и худший результат**: Лучший результат при значении: 0. Худший результат: ∞.\"))\n",
    "\n",
    "# Mean Squared Error (MSE)\n",
    "display(Markdown('<center><span style=\"font-size:20px;font-weight: 800\">Mean Squared Error (MSE)</span></center>'))\n",
    "display(Markdown(\"**Описание метрики**: Mean Squared Error (MSE) измеряет среднюю величину квадратов ошибок модели в прогнозировании.\"))\n",
    "display(Markdown(\"**Математическая формула метрики**:\"))\n",
    "display(Math(r'MSE = \\frac{1}{n} \\sum_{i=1}^n (y_i - \\hat{y}_i)^2'))\n",
    "display(Markdown(\"**Область применения метрики**: Часто используется в задачах регрессии, где важна оценка средней точности модели с увеличением штрафа за большие ошибки.\"))\n",
    "display(Markdown(\"**Область значений**: от 0 до ∞.\"))\n",
    "display(Markdown(\"**Лучший и худший результат**: Лучший результат при значении: 0. Худший результат: ∞.\"))\n",
    "\n",
    "# Max Error\n",
    "display(Markdown('<center><span style=\"font-size:20px;font-weight: 800\">Max Error</span></center>'))\n",
    "display(Markdown(\"**Описание метрики**: Max Error измеряет максимальное отклонение прогноза модели от истинного значения.\"))\n",
    "display(Markdown(\"**Математическая формула метрики**:\"))\n",
    "display(Math(r'Max Error = \\max(|y_i - \\hat{y}_i|)'))\n",
    "display(Markdown(\"**Область применения метрики**: Используется для оценки наибольшей ошибки модели, полезно в случаях, где важен наибольший отклонение от истинных значений.\"))\n",
    "display(Markdown(\"**Область значений**: от 0 до ∞.\"))\n",
    "display(Markdown(\"**Лучший и худший результат**: Лучший результат при значении: 0. Худший результат: ∞.\"))\n",
    "\n",
    "# Mean Absolute Percentage Error (MAPE)\n",
    "display(Markdown('<center><span style=\"font-size:20px;font-weight: 800\">Mean Absolute Percentage Error (MAPE)</span></center>'))\n",
    "display(Markdown(\"**Описание метрики**: Mean Absolute Percentage Error (MAPE) измеряет среднюю величину абсолютных процентных ошибок.\"))\n",
    "display(Markdown(\"**Математическая формула метрики**:\"))\n",
    "display(Math(r'MAPE = \\frac{100}{n} \\sum_{i=1}^n \\left| \\frac{y_i - \\hat{y}_i}{y_i} \\right|'))\n",
    "display(Markdown(\"**Область применения метрики**: Часто используется в задачах, где важно оценивать ошибки в процентах от истинных значений, таких как прогнозирование продаж и спроса.\"))\n",
    "display(Markdown(\"**Область значений**: от 0 до ∞.\"))\n",
    "display(Markdown(\"**Лучший и худший результат**: Лучший результат при значении: 0%. Худший результат: ∞.\"))\n",
    "\n",
    "# Median Absolute Error\n",
    "display(Markdown('<center><span style=\"font-size:20px;font-weight: 800\">Median Absolute Error</span></center>'))\n",
    "display(Markdown(\"**Описание метрики**: Median Absolute Error измеряет медианную величину абсолютных ошибок модели.\"))\n",
    "display(Markdown(\"**Математическая формула метрики**:\"))\n",
    "display(Math(r'Median Absolute Error = \\text{median}(|y_i - \\hat{y}_i|)'))\n",
    "display(Markdown(\"**Область применения метрики**: Используется в задачах, где важна устойчивость к выбросам, так как медиана меньше подвержена влиянию экстремальных значений.\"))\n",
    "display(Markdown(\"**Область значений**: от 0 до ∞.\"))\n",
    "display(Markdown(\"**Лучший и худший результат**: Лучший результат при значении: 0. Худший результат: ∞.\"))\n",
    "\n",
    "# Mean Squared Log Error (MSLE)\n",
    "display(Markdown('<center><span style=\"font-size:20px;font-weight: 800\">Mean Squared Log Error (MSLE)</span></center>'))\n",
    "display(Markdown(\"**Описание метрики**: Mean Squared Log Error (MSLE) измеряет среднюю величину квадратов логарифмических ошибок модели.\"))\n",
    "display(Markdown(\"**Математическая формула метрики**:\"))\n",
    "display(Math(r'MSLE = \\frac{1}{n} \\sum_{i=1}^n (\\log(1 + y_i) - \\log(1 + \\hat{y}_i))^2'))\n",
    "display(Markdown(\"**Область применения метрики**: Используется в задачах, где важны относительные ошибки, например, при прогнозировании значений, которые растут экспоненциально.\"))\n",
    "display(Markdown(\"**Область значений**: от 0 до ∞.\"))\n",
    "display(Markdown(\"**Лучший и худший результат**: Лучший результат при значении: 0. Худший результат: ∞.\"))\n",
    "\n",
    "# D2 Absolute Error Score\n",
    "display(Markdown('<center><span style=\"font-size:20px;font-weight: 800\">D2 Absolute Error Score</span></center>'))\n",
    "display(Markdown(\"**Описание метрики**: D2 Absolute Error Score является мерой точности, которая основана на абсолютных ошибках.\"))\n",
    "display(Markdown(\"**Математическая формула метрики**:\"))\n",
    "display(Math(r'D^2 = 1 - \\frac{\\sum_{i=1}^n |y_i - \\hat{y}_i|}{\\sum_{i=1}^n |y_i - \\bar{y}|}'))\n",
    "display(Markdown(\"**Область применения метрики**: Используется для оценки точности моделей регрессии с учетом абсолютных ошибок.\"))\n",
    "display(Markdown(\"**Область значений**: от -∞ до 1.\"))\n",
    "display(Markdown(\"**Лучший и худший результат**: Лучший результат при значении: 1. Худший результат: -∞.\"))\n",
    "\n",
    "# Root Mean Squared Error (RMSE)\n",
    "display(Markdown('<center><span style=\"font-size:20px;font-weight: 800\">Root Mean Squared Error (RMSE)</span></center>'))\n",
    "display(Markdown(\"**Описание метрики**: Root Mean Squared Error (RMSE) измеряет среднеквадратическую ошибку модели в прогнозировании.\"))\n",
    "display(Markdown(\"**Математическая формула метрики**:\"))\n",
    "display(Math(r'RMSE = \\sqrt{\\frac{1}{n} \\sum_{i=1}^n (y_i - \\hat{y}_i)^2}'))\n",
    "display(Markdown(\"**Область применения метрики**: Используется в задачах регрессии, где важно оценить среднюю точность модели с увеличением штрафа за большие ошибки.\"))\n",
    "display(Markdown(\"**Область значений**: от 0 до ∞.\"))\n",
    "display(Markdown(\"**Лучший и худший результат**: Лучший результат при значении: 0. Худший результат: ∞.\"))\n",
    "\n",
    "# Root Mean Squared Log Error (RMSLE)\n",
    "display(Markdown('<center><span style=\"font-size:20px;font-weight: 800\">Root Mean Squared Log Error (RMSLE)</span></center>'))\n",
    "display(Markdown(\"**Описание метрики**: Root Mean Squared Log Error (RMSLE) измеряет среднеквадратическую логарифмическую ошибку модели в прогнозировании.\"))\n",
    "display(Markdown(\"**Математическая формула метрики**:\"))\n",
    "display(Math(r'RMSLE = \\sqrt{\\frac{1}{n} \\sum_{i=1}^n (\\log(1 + y_i) - \\log(1 + \\hat{y}_i))^2}'))\n",
    "display(Markdown(\"**Область применения метрики**: Используется в задачах, где важны относительные ошибки, особенно при прогнозировании значений, которые могут расти экспоненциально.\"))\n",
    "display(Markdown(\"**Область значений**: от 0 до ∞.\"))\n",
    "display(Markdown(\"**Лучший и худший результат**: Лучший результат при значении: 0. Худший результат: ∞.\"))\n",
    "\n",
    "# CLASSIFICATION METRICS\n",
    "display(Markdown(\"<span style='color: purple; font-size: 25px;'><b>Метрики Классификации</b></span>\"))\n",
    "\n",
    "# Accuracy Score\n",
    "display(Markdown('<center><span style=\"font-size:20px;font-weight: 800\">Accuracy Score</span></center>'))\n",
    "display(Markdown(\"**Описание метрики**: Accuracy Score (доля правильных ответов) измеряет долю верно предсказанных экземпляров от общего числа экземпляров.\"))\n",
    "display(Markdown(\"**Математическая формула метрики**:\"))\n",
    "display(Math(r'Accuracy = \\frac{TP + TN}{TP + TN + FP + FN}'))\n",
    "display(Markdown(\"**Область применения метрики**: Используется в задачах бинарной и многоклассовой классификации для оценки общей точности модели.\"))\n",
    "display(Markdown(\"**Область значений**: от 0 до 1.\"))\n",
    "display(Markdown(\"**Лучший и худший результат**: Лучший результат при значении: 1. Худший результат: 0.\"))\n",
    "\n",
    "# Precision Score\n",
    "display(Markdown('<center><span style=\"font-size:20px;font-weight: 800\">Precision Score</span></center>'))\n",
    "display(Markdown(\"**Описание метрики**: Precision Score измеряет долю верно предсказанных положительных экземпляров из всех предсказанных положительных.\"))\n",
    "display(Markdown(\"**Математическая формула метрики**:\"))\n",
    "display(Math(r'Precision = \\frac{TP}{TP + FP}'))\n",
    "display(Markdown(\"**Область применения метрики**: Используется в задачах бинарной и многоклассовой классификации, где важно минимизировать количество ложноположительных предсказаний.\"))\n",
    "display(Markdown(\"**Область значений**: от 0 до 1.\"))\n",
    "display(Markdown(\"**Лучший и худший результат**: Лучший результат при значении: 1. Худший результат: 0.\"))\n",
    "\n",
    "# Recall Score\n",
    "display(Markdown('<center><span style=\"font-size:20px;font-weight: 800\">Recall Score</span></center>'))\n",
    "display(Markdown(\"**Описание метрики**: Recall Score измеряет долю верно предсказанных положительных экземпляров из всех фактических положительных экземпляров.\"))\n",
    "display(Markdown(\"**Математическая формула метрики**:\"))\n",
    "display(Math(r'Recall = \\frac{TP}{TP + FN}'))\n",
    "display(Markdown(\"**Область применения метрики**: Используется в задачах бинарной и многоклассовой классификации, где важно минимизировать количество ложноотрицательных предсказаний.\"))\n",
    "display(Markdown(\"**Область значений**: от 0 до 1.\"))\n",
    "display(Markdown(\"**Лучший и худший результат**: Лучший результат при значении: 1. Худший результат: 0.\"))\n",
    "\n",
    "# F1 Score\n",
    "display(Markdown('<center><span style=\"font-size:20px;font-weight: 800\">F1 Score</span></center>'))\n",
    "display(Markdown(\"**Описание метрики**: F1 Score является гармоническим средним Precision и Recall, обеспечивая баланс между ними.\"))\n",
    "display(Markdown(\"**Математическая формула метрики**:\"))\n",
    "display(Math(r'F1 = 2 \\cdot \\frac{Precision \\cdot Recall}{Precision + Recall}'))\n",
    "display(Markdown(\"**Область применения метрики**: Используется в задачах бинарной и многоклассовой классификации, где важно учитывать как Precision, так и Recall.\"))\n",
    "display(Markdown(\"**Область значений**: от 0 до 1.\"))\n",
    "display(Markdown(\"**Лучший и худший результат**: Лучший результат при значении: 1. Худший результат: 0.\"))\n",
    "\n",
    "# d2_absolute_error_score\n",
    "display(Markdown('<center><span style=\"font-size:20px;font-weight: 800\">D2 Absolute Error Score</span></center>'))\n",
    "display(Markdown(\"**Описание метрики**: D2 Absolute Error Score измеряет отклонение предсказанных значений от фактических в задачах регрессии и классификации.\"))\n",
    "display(Markdown(\"**Математическая формула метрики**:\"))\n",
    "display(Math(r'D2 = 1 - \\frac{\\sum_{i=1}^n |y_i - \\hat{y}_i|}{\\sum_{i=1}^n |y_i - \\bar{y}|}'))\n",
    "display(Markdown(\"**Область применения метрики**: Используется в задачах регрессии и классификации для оценки точности модели.\"))\n",
    "display(Markdown(\"**Область значений**: от -∞ до 1.\"))\n",
    "display(Markdown(\"**Лучший и худший результат**: Лучший результат при значении: 1. Худший результат: -∞.\"))\n",
    "\n",
    "# NDCG Score\n",
    "display(Markdown('<center><span style=\"font-size:20px;font-weight: 800\">NDCG Score</span></center>'))\n",
    "display(Markdown(\"**Описание метрики**: Normalized Discounted Cumulative Gain (NDCG) измеряет качество ранжирования, учитывая релевантность и порядок элементов.\"))\n",
    "display(Markdown(\"**Математическая формула метрики**:\"))\n",
    "display(Math(r'NDCG = \\frac{DCG}{IDCG}'))\n",
    "display(Markdown(\"**Область применения метрики**: Используется в задачах ранжирования и рекомендаций для оценки качества ранжирования элементов.\"))\n",
    "display(Markdown(\"**Область значений**: от 0 до 1.\"))\n",
    "display(Markdown(\"**Лучший и худший результат**: Лучший результат при значении: 1. Худший результат: 0.\"))\n",
    "\n",
    "# DCG Score\n",
    "display(Markdown('<center><span style=\"font-size:20px;font-weight: 800\">DCG Score</span></center>'))\n",
    "display(Markdown(\"**Описание метрики**: Discounted Cumulative Gain (DCG) измеряет качество ранжирования, учитывая порядок и релевантность элементов.\"))\n",
    "display(Markdown(\"**Математическая формула метрики**:\"))\n",
    "display(Math(r'DCG = \\sum_{i=1}^n \\frac{rel_i}{\\log_2(i + 1)}'))\n",
    "display(Markdown(\"**Область применения метрики**: Используется в задачах ранжирования и поиска для оценки качества ранжирования по релевантности.\"))\n",
    "display(Markdown(\"**Область значений**: от 0 до ∞.\"))\n",
    "display(Markdown(\"**Лучший и худший результат**: Лучший результат при значении: ∞. Худший результат: 0.\"))\n",
    "\n",
    "# Fbeta Score\n",
    "display(Markdown('<center><span style=\"font-size:20px;font-weight: 800\">Fbeta Score</span></center>'))\n",
    "display(Markdown(\"**Описание метрики**: Fbeta Score обобщает F1 Score, позволяя настроить вес Precision и Recall в зависимости от β.\"))\n",
    "display(Markdown(\"**Математическая формула метрики**:\"))\n",
    "display(Math(r'F_\\beta = (1 + \\beta^2) \\cdot \\frac{Precision \\cdot Recall}{(\\beta^2 \\cdot Precision) + Recall}'))\n",
    "display(Markdown(\"**Область применения метрики**: Используется в задачах бинарной и многоклассовой классификации, где важно настраивать вес Precision и Recall.\"))\n",
    "display(Markdown(\"**Область значений**: от 0 до 1.\"))\n",
    "display(Markdown(\"**Лучший и худший результат**: Лучший результат при значении: 1. Худший результат: 0.\"))\n",
    "\n",
    "# Completeness Score\n",
    "display(Markdown('<center><span style=\"font-size:20px;font-weight: 800\">Completeness Score</span></center>'))\n",
    "display(Markdown(\"**Описание метрики**: Completeness Score измеряет, насколько хорошо все экземпляры каждого кластера отнесены к одной группе в задачах кластеризации.\"))\n",
    "display(Markdown(\"**Математическая формула метрики**:\"))\n",
    "display(Math(r'Completeness = 1 - \\frac{H(K|C)}{H(C)}'))\n",
    "display(Markdown(\"**Область применения метрики**: Используется для оценки качества кластеризации, особенно когда важно учитывать полноту классификации.\"))\n",
    "display(Markdown(\"**Область значений**: от 0 до 1.\"))\n",
    "display(Markdown(\"**Лучший и худший результат**: Лучший результат при значении: 1. Худший результат: 0.\"))\n",
    "\n",
    "# Homogeneity Score\n",
    "display(Markdown('<center><span style=\"font-size:20px;font-weight: 800\">Homogeneity Score</span></center>'))\n",
    "display(Markdown(\"**Описание метрики**: Homogeneity Score измеряет, насколько все экземпляры в кластере принадлежат к одному и тому же классу.\"))\n",
    "display(Markdown(\"**Математическая формула метрики**:\"))\n",
    "display(Math(r'Homogeneity = 1 - \\frac{H(C|K)}{H(C)}'))\n",
    "display(Markdown(\"**Область применения метрики**: Используется для оценки качества кластеризации, особенно когда важно учитывать однородность кластеров.\"))\n",
    "display(Markdown(\"**Область значений**: от 0 до 1.\"))\n",
    "display(Markdown(\"**Лучший и худший результат**: Лучший результат при значении: 1. Худший результат: 0.\"))\n",
    "\n",
    "# Jaccard Score\n",
    "display(Markdown('<center><span style=\"font-size:20px;font-weight: 800\">Jaccard Score</span></center>'))\n",
    "display(Markdown(\"**Описание метрики**: Jaccard Score измеряет схожесть между наборами, рассчитывая размер пересечения деленный на размер объединения наборов.\"))\n",
    "display(Markdown(\"**Математическая формула метрики**:\"))\n",
    "display(Math(r'Jaccard = \\frac{|A \\cap B|}{|A \\cup B|}'))\n",
    "display(Markdown(\"**Область применения метрики**: Используется в задачах бинарной и многоклассовой классификации для оценки схожести предсказанных и фактических меток.\"))\n",
    "display(Markdown(\"**Область значений**: от 0 до 1.\"))\n",
    "display(Markdown(\"**Лучший и худший результат**: Лучший результат при значении: 1. Худший результат: 0.\"))\n",
    "\n",
    "# Brier Score Loss\n",
    "display(Markdown('<center><span style=\"font-size:20px;font-weight: 800\">Brier Score Loss</span></center>'))\n",
    "display(Markdown(\"**Описание метрики**: Brier Score Loss измеряет среднеквадратичное отклонение вероятностей предсказанных классов от фактических бинарных значений.\"))\n",
    "display(Markdown(\"**Математическая формула метрики**:\"))\n",
    "display(Math(r'Brier = \\frac{1}{n} \\sum_{i=1}^n (f_i - y_i)^2'))\n",
    "display(Markdown(\"**Область применения метрики**: Используется в задачах бинарной классификации для оценки качества вероятностных предсказаний.\"))\n",
    "display(Markdown(\"**Область значений**: от 0 до 1.\"))\n",
    "display(Markdown(\"**Лучший и худший результат**: Лучший результат при значении: 0. Худший результат: 1.\"))\n",
    "\n",
    "# D2 Tweedie Score\n",
    "display(Markdown('<center><span style=\"font-size:20px;font-weight: 800\">D2 Tweedie Score</span></center>'))\n",
    "display(Markdown(\"**Описание метрики**: D2 Tweedie Score измеряет точность модели для распределений Tweedie, которые включают нормальное, лог-нормальное и гамма распределения.\"))\n",
    "display(Markdown(\"**Математическая формула метрики**:\"))\n",
    "display(Math(r'D2 = 1 - \\frac{\\sum_{i=1}^n L(y_i, \\hat{y}_i)}{\\sum_{i=1}^n L(y_i, \\bar{y})}'))\n",
    "display(Markdown(\"**Область применения метрики**: Используется для оценки моделей с различными типами распределений в задачах регрессии и классификации.\"))\n",
    "display(Markdown(\"**Область значений**: от -∞ до 1.\"))\n",
    "display(Markdown(\"**Лучший и худший результат**: Лучший результат при значении: 1. Худший результат: -∞.\"))\n",
    "\n",
    "# Cohen Kappa Score\n",
    "display(Markdown('<center><span style=\"font-size:20px;font-weight: 800\">Cohen Kappa Score</span></center>'))\n",
    "display(Markdown(\"**Описание метрики**: Cohen Kappa Score измеряет согласие между двумя аннотаторами, корректируя случайное совпадение.\"))\n",
    "display(Markdown(\"**Математическая формула метрики**:\"))\n",
    "display(Math(r'\\kappa = \\frac{P_o - P_e}{1 - P_e}'))\n",
    "display(Markdown(\"**Область применения метрики**: Используется в задачах классификации для оценки согласованности между аннотаторами или предсказаниями моделей.\"))\n",
    "display(Markdown(\"**Область значений**: от -1 до 1.\"))\n",
    "display(Markdown(\"**Лучший и худший результат**: Лучший результат при значении: 1. Худший результат: -1.\"))\n",
    "\n",
    "# D2 Pinball Score\n",
    "display(Markdown('<center><span style=\"font-size:20px;font-weight: 800\">D2 Pinball Score</span></center>'))\n",
    "display(Markdown(\"**Описание метрики**: D2 Pinball Score оценивает точность моделей предсказания квантилей, измеряя среднюю ошибку предсказания.\"))\n",
    "display(Markdown(\"**Математическая формула метрики**:\"))\n",
    "display(Math(r'D2 = 1 - \\frac{\\sum_{i=1}^n Pinball(y_i, \\hat{y}_i)}{\\sum_{i=1}^n Pinball(y_i, \\bar{y})}'))\n",
    "display(Markdown(\"**Область применения метрики**: Используется для оценки моделей предсказания квантилей в задачах регрессии и классификации.\"))\n",
    "display(Markdown(\"**Область значений**: от -∞ до 1.\"))\n",
    "display(Markdown(\"**Лучший и худший результат**: Лучший результат при значении: 1. Худший результат: -∞.\"))\n",
    "\n",
    "# Mutual Information Score\n",
    "display(Markdown('<center><span style=\"font-size:20px;font-weight: 800\">Mutual Information Score</span></center>'))\n",
    "display(Markdown(\"**Описание метрики**: Mutual Information Score измеряет зависимость между двумя случайными переменными, оценивая общую информацию.\"))\n",
    "display(Markdown(\"**Математическая формула метрики**:\"))\n",
    "display(Math(r'MI(X;Y) = \\sum_{y \\in Y} \\sum_{x \\in X} p(x, y) \\log\\left(\\frac{p(x, y)}{p(x)p(y)}\\right)'))\n",
    "display(Markdown(\"**Область применения метрики**: Используется для оценки зависимости между переменными в задачах классификации и кластеризации.\"))\n",
    "display(Markdown(\"**Область значений**: от 0 до ∞.\"))\n",
    "display(Markdown(\"**Лучший и худший результат**: Лучший результат при значении: ∞. Худший результат: 0.\"))\n",
    "\n",
    "# Adjusted Mutual Information Score\n",
    "display(Markdown('<center><span style=\"font-size:20px;font-weight: 800\">Adjusted Mutual Information Score</span></center>'))\n",
    "display(Markdown(\"**Описание метрики**: Adjusted Mutual Information Score корректирует Mutual Information Score с учетом случайного распределения.\"))\n",
    "display(Markdown(\"**Математическая формула метрики**:\"))\n",
    "display(Math(r'AMI = \\frac{MI - \\mathbb{E}[MI]}{\\max(H(X), H(Y)) - \\mathbb{E}[MI]}'))\n",
    "display(Markdown(\"**Область применения метрики**: Используется для оценки зависимости между переменными в задачах классификации и кластеризации, корректируя случайное совпадение.\"))\n",
    "display(Markdown(\"**Область значений**: от 0 до 1.\"))\n",
    "display(Markdown(\"**Лучший и худший результат**: Лучший результат при значении: 1. Худший результат: 0.\"))\n",
    "\n",
    "# Average Precision Score\n",
    "display(Markdown('<center><span style=\"font-size:20px;font-weight: 800\">Average Precision Score</span></center>'))\n",
    "display(Markdown(\"**Описание метрики**: Average Precision Score измеряет точность с учетом всех пороговых значений, усредняя Precision по различным значениями Recall.\"))\n",
    "display(Markdown(\"**Математическая формула метрики**:\"))\n",
    "display(Math(r'AP = \\sum_{n} (R_n - R_{n-1}) P_n'))\n",
    "display(Markdown(\"**Область применения метрики**: Используется для оценки качества классификации и ранжирования в задачах бинарной и многоклассовой классификации.\"))\n",
    "display(Markdown(\"**Область значений**: от 0 до 1.\"))\n",
    "display(Markdown(\"**Лучший и худший результат**: Лучший результат при значении: 1. Худший результат: 0.\"))\n",
    "\n",
    "# Label Ranking Average Precision Score\n",
    "display(Markdown('<center><span style=\"font-size:20px;font-weight: 800\">Label Ranking Average Precision Score</span></center>'))\n",
    "display(Markdown(\"**Описание метрики**: Label Ranking Average Precision Score измеряет точность ранжирования меток, усредняя Precision по различным уровням Recall.\"))\n",
    "display(Markdown(\"**Математическая формула метрики**:\"))\n",
    "display(Math(r'LRAP = \\frac{1}{n} \\sum_{i=1}^n \\frac{\\sum_{j \\in \\text{ranked\\_labels}_i} \\frac{\\text{relevant\\_label}_j}{|j|}}{\\text{number\\_of\\_relevant\\_labels}_i}'))\n",
    "display(Markdown(\"**Область применения метрики**: Используется для оценки качества ранжирования меток в задачах многоклассовой и многометочной классификации.\"))\n",
    "display(Markdown(\"**Область значений**: от 0 до 1.\"))\n",
    "display(Markdown(\"**Лучший и худший результат**: Лучший результат при значении: 1. Худший результат: 0.\"))\n",
    "\n",
    "# Balanced Accuracy Score\n",
    "display(Markdown('<center><span style=\"font-size:20px;font-weight: 800\">Balanced Accuracy Score</span></center>'))\n",
    "display(Markdown(\"**Описание метрики**: Balanced Accuracy Score измеряет среднюю точность, взвешенную по количеству экземпляров в каждом классе, учитывая дисбаланс классов.\"))\n",
    "display(Markdown(\"**Математическая формула метрики**:\"))\n",
    "display(Math(r'Balanced\\ Accuracy = \\frac{1}{2} \\left( \\frac{TP}{TP + FN} + \\frac{TN}{TN + FP} \\right)'))\n",
    "display(Markdown(\"**Область применения метрики**: Используется для оценки качества классификации в задачах с несбалансированными классами.\"))\n",
    "display(Markdown(\"**Область значений**: от 0 до 1.\"))\n",
    "display(Markdown(\"**Лучший и худший результат**: Лучший результат при значении: 1. Худший результат: 0.\"))\n",
    "\n",
    "# Top K Accuracy Score\n",
    "display(Markdown('<center><span style=\"font-size:20px;font-weight: 800\">Top K Accuracy Score</span></center>'))\n",
    "display(Markdown(\"**Описание метрики**: Top K Accuracy Score измеряет долю правильных предсказаний, где верный класс находится среди K наиболее вероятных предсказаний модели.\"))\n",
    "display(Markdown(\"**Математическая формула метрики**:\"))\n",
    "display(Math(r'Top\\ K\\ Accuracy = \\frac{1}{n} \\sum_{i=1}^n \\mathbb{I}(y_i \\in \\text{top}_K(\\hat{y}_i))'))\n",
    "display(Markdown(\"**Область применения метрики**: Используется для оценки качества классификации в задачах с многоклассовыми метками, где важно учитывать несколько возможных классов.\"))\n",
    "display(Markdown(\"**Область значений**: от 0 до 1.\"))\n",
    "display(Markdown(\"**Лучший и худший результат**: Лучший результат при значении: 1. Худший результат: 0.\"))\n",
    "\n",
    "# ROC AUC Score\n",
    "display(Markdown('<center><span style=\"font-size:20px;font-weight: 800\">ROC AUC Score</span></center>'))\n",
    "display(Markdown(\"**Описание метрики**: ROC AUC Score измеряет площадь под кривой ROC, оценивая способность модели различать классы.\"))\n",
    "display(Markdown(\"**Математическая формула метрики**:\"))\n",
    "display(Math(r'ROC\\ AUC = \\int_{0}^{1} TPR(FPR) \\, d(FPR)'))\n",
    "display(Markdown(\"**Область применения метрики**: Используется в задачах бинарной классификации для оценки способности модели различать положительные и отрицательные классы.\"))\n",
    "display(Markdown(\"**Область значений**: от 0 до 1.\"))\n",
    "display(Markdown(\"**Лучший и худший результат**: Лучший результат при значении: 1. Худший результат: 0.\"))\n",
    "\n",
    "# Gini Coefficient\n",
    "display(Markdown('<center><span style=\"font-size:20px;font-weight: 800\">Gini Coefficient</span></center>'))\n",
    "display(Markdown(\"**Описание метрики**: Gini Coefficient измеряет неравенство распределения, часто используемый в задачах бинарной классификации для оценки расслоения данных.\"))\n",
    "display(Markdown(\"**Математическая формула метрики**:\"))\n",
    "display(Math(r'Gini = 2 \\cdot \\text{AUC} - 1'))\n",
    "display(Markdown(\"**Область применения метрики**: Используется в задачах бинарной классификации для оценки способности модели различать положительные и отрицательные примеры.\"))\n",
    "display(Markdown(\"**Область значений**: от -1 до 1.\"))\n",
    "display(Markdown(\"**Лучший и худший результат**: Лучший результат при значении: 1. Худший результат: -1.\"))\n",
    "\n",
    "# CLUSTERING METRICS\n",
    "display(Markdown(\"<span style='color: purple; font-size: 25px;'><b>Метрики Кластеризации</b></span>\"))\n",
    "\n",
    "# Silhouette Score\n",
    "display(Markdown('<center><span style=\"font-size:20px;font-weight: 800\">Silhouette Score</span></center>'))\n",
    "display(Markdown(\"**Описание метрики**: Silhouette Score измеряет, насколько близко каждый объект в кластере находится к объектам в других кластерах.\"))\n",
    "display(Markdown(\"**Математическая формула метрики**:\"))\n",
    "display(Math(r'S = \\frac{b - a}{\\max(a, b)}'))\n",
    "display(Markdown(\"**Область применения метрики**: Используется для оценки качества кластеризации, особенно когда количество кластеров заранее неизвестно.\"))\n",
    "display(Markdown(\"**Область значений**: от -1 до 1.\"))\n",
    "display(Markdown(\"**Лучший и худший результат**: Лучший результат при значении: 1. Худший результат: -1.\"))\n",
    "\n",
    "# Dunn Index\n",
    "display(Markdown('<center><span style=\"font-size:20px;font-weight: 800\">Dunn Index</span></center>'))\n",
    "display(Markdown(\"**Описание метрики**: Dunn Index измеряет соотношение минимального межкластерного расстояния к максимальному внутрикластерному расстоянию.\"))\n",
    "display(Markdown(\"**Математическая формула метрики**:\"))\n",
    "display(Math(r'D = \\frac{\\min_{1 \\leq i < j \\leq k} \\delta(C_i, C_j)}{\\max_{1 \\leq i \\leq k} \\Delta(C_i)}'))\n",
    "display(Markdown(\"**Область применения метрики**: Используется для оценки качества кластеризации, особенно когда важно максимизировать расстояние между кластерами.\"))\n",
    "display(Markdown(\"**Область значений**: от 0 до ∞.\"))\n",
    "display(Markdown(\"**Лучший и худший результат**: Лучший результат при высоком значении. Худший результат при низком значении.\"))\n",
    "\n",
    "# V-Measure\n",
    "display(Markdown('<center><span style=\"font-size:20px;font-weight: 800\">V-Measure</span></center>'))\n",
    "display(Markdown(\"**Описание метрики**: V-Measure объединяет оценку однородности (homogeneity) и полноты (completeness) для оценки качества кластеризации.\"))\n",
    "display(Markdown(\"**Математическая формула метрики**:\"))\n",
    "display(Math(r'V = 2 \\times \\frac{homogeneity \\times completeness}{homogeneity + completeness}'))\n",
    "display(Markdown(\"**Область применения метрики**: Используется для оценки качества кластеризации, особенно когда важны оба аспекта - однородность и полнота.\"))\n",
    "display(Markdown(\"**Область значений**: от 0 до 1.\"))\n",
    "display(Markdown(\"**Лучший и худший результат**: Лучший результат при значении: 1. Худший результат: 0.\"))\n",
    "\n",
    "# Adjusted Rand Index\n",
    "display(Markdown('<center><span style=\"font-size:20px;font-weight: 800\">Adjusted Rand Index</span></center>'))\n",
    "display(Markdown(\"**Описание метрики**: Adjusted Rand Index измеряет сходство между двумя кластеризациями, корректируя вероятность случайного совпадения.\"))\n",
    "display(Markdown(\"**Математическая формула метрики**:\"))\n",
    "display(Math(r'ARI = \\frac{RI - \\mathbb{E}[RI]}{\\max(RI) - \\mathbb{E}[RI]}'))\n",
    "display(Markdown(\"**Область применения метрики**: Используется для оценки качества кластеризации, особенно при сравнении различных алгоритмов кластеризации.\"))\n",
    "display(Markdown(\"**Область значений**: от -1 до 1.\"))\n",
    "display(Markdown(\"**Лучший и худший результат**: Лучший результат при значении: 1. Худший результат: -1.\"))\n",
    "\n",
    "# Rand Index\n",
    "display(Markdown('<center><span style=\"font-size:20px;font-weight: 800\">Rand Index</span></center>'))\n",
    "display(Markdown(\"**Описание метрики**: Rand Index измеряет сходство между двумя кластеризациями, оценивая долю правильно классифицированных пар объектов.\"))\n",
    "display(Markdown(\"**Математическая формула метрики**:\"))\n",
    "display(Math(r'RI = \\frac{TP + TN}{TP + FP + FN + TN}'))\n",
    "display(Markdown(\"**Область применения метрики**: Используется для оценки качества кластеризации, особенно при сравнении результатов различных кластеризаций.\"))\n",
    "display(Markdown(\"**Область значений**: от 0 до 1.\"))\n",
    "display(Markdown(\"**Лучший и худший результат**: Лучший результат при значении: 1. Худший результат: 0.\"))\n",
    "\n",
    "# Symmetric Mean Absolute Percentage Error (SMAPE)\n",
    "display(Markdown('<center><span style=\"font-size:20px;font-weight: 800\">Symmetric Mean Absolute Percentage Error (SMAPE)</span></center>'))\n",
    "display(Markdown(\"**Описание метрики**: Symmetric Mean Absolute Percentage Error (SMAPE) измеряет точность предсказаний, усредняя процентные ошибки, симметрично относительно фактических и предсказанных значений.\"))\n",
    "display(Markdown(\"**Математическая формула метрики**:\"))\n",
    "display(Math(r'SMAPE = \\frac{100\\%}{n} \\sum_{i=1}^n \\frac{|y_i - \\hat{y}_i|}{(|y_i| + |\\hat{y}_i|)/2}'))\n",
    "display(Markdown(\"**Область применения метрики**: Используется для оценки точности предсказаний в задачах временных рядов и регрессии.\"))\n",
    "display(Markdown(\"**Область значений**: от 0 до 100%.\"))\n",
    "display(Markdown(\"**Лучший и худший результат**: Лучший результат при значении: 0%. Худший результат: 100%.\"))\n",
    "\n",
    "# Mean Absolute Percentage Error (MAPE)\n",
    "display(Markdown('<center><span style=\"font-size:20px;font-weight: 800\">Mean Absolute Percentage Error (MAPE)</span></center>'))\n",
    "display(Markdown(\"**Описание метрики**: Mean Absolute Percentage Error (MAPE) измеряет точность предсказаний, усредняя процентные ошибки между фактическими и предсказанными значениями.\"))\n",
    "display(Markdown(\"**Математическая формула метрики**:\"))\n",
    "display(Math(r'MAPE = \\frac{100\\%}{n} \\sum_{i=1}^n \\frac{|y_i - \\hat{y}_i|}{|y_i|}'))\n",
    "display(Markdown(\"**Область применения метрики**: Используется для оценки точности предсказаний в задачах временных рядов и регрессии.\"))\n",
    "display(Markdown(\"**Область значений**: от 0 до ∞%.\"))\n",
    "display(Markdown(\"**Лучший и худший результат**: Лучший результат при значении: 0%. Худший результат: ∞%.\"))\n",
    "\n",
    "# Normalized Mutual Information (NMI)\n",
    "display(Markdown('<center><span style=\"font-size:20px;font-weight: 800\">Normalized Mutual Information (NMI)</span></center>'))\n",
    "display(Markdown(\"**Описание метрики**: Normalized Mutual Information (NMI) измеряет сходство между двумя кластеризациями, нормализуя значение взаимной информации.\"))\n",
    "display(Markdown(\"**Математическая формула метрики**:\"))\n",
    "display(Math(r'NMI = \\frac{2 \\cdot I(U;V)}{H(U) + H(V)}'))\n",
    "display(Markdown(\"**Область применения метрики**: Используется для оценки качества кластеризации, особенно при сравнении различных алгоритмов кластеризации.\"))\n",
    "display(Markdown(\"**Область значений**: от 0 до 1.\"))\n",
    "display(Markdown(\"**Лучший и худший результат**: Лучший результат при значении: 1. Худший результат: 0.\"))\n",
    "\n",
    "# Fowlkes-Mallows Index (FMI)\n",
    "display(Markdown('<center><span style=\"font-size:20px;font-weight: 800\">Fowlkes-Mallows Index (FMI)</span></center>'))\n",
    "display(Markdown(\"**Описание метрики**: Fowlkes-Mallows Index (FMI) измеряет сходство между двумя кластеризациями, оценивая количество общих пар кластеров.\"))\n",
    "display(Markdown(\"**Математическая формула метрики**:\"))\n",
    "display(Math(r'FMI = \\sqrt{\\frac{TP}{TP + FP} \\cdot \\frac{TP}{TP + FN}}'))\n",
    "display(Markdown(\"**Область применения метрики**: Используется для оценки качества кластеризации, особенно при сравнении результатов различных кластеризаций.\"))\n",
    "display(Markdown(\"**Область значений**: от 0 до 1.\"))\n",
    "display(Markdown(\"**Лучший и худший результат**: Лучший результат при значении: 1. Худший результат: 0.\"))\n",
    "\n",
    "# Calinski-Harabasz Index (CHI)\n",
    "display(Markdown('<center><span style=\"font-size:20px;font-weight: 800\">Calinski-Harabasz Index (CHI)</span></center>'))\n",
    "display(Markdown(\"**Описание метрики**: Calinski-Harabasz Index (или Variance Ratio Criterion) оценивает соотношение суммы междуклассовой дисперсии к внутриклассовой дисперсии.\"))\n",
    "display(Markdown(\"**Математическая формула метрики**:\"))\n",
    "display(Math(r'CHI = \\frac{\\text{trace}(B_k)}{\\text{trace}(W_k)} \\times \\frac{n - k}{k - 1}'))\n",
    "display(Markdown(\"**Область применения метрики**: Используется для оценки качества кластеризации, особенно при сравнении различных алгоритмов кластеризации.\"))\n",
    "display(Markdown(\"**Область значений**: от 0 до ∞.\"))\n",
    "display(Markdown(\"**Лучший и худший результат**: Лучший результат при высоком значении. Худший результат при низком значении.\"))\n",
    "\n",
    "# Davies-Bouldin Index (DBI)\n",
    "display(Markdown('<center><span style=\"font-size:20px;font-weight: 800\">Davies-Bouldin Index (DBI)</span></center>'))\n",
    "display(Markdown(\"**Описание метрики**: Davies-Bouldin Index измеряет среднее схожести каждого кластера с наиболее похожим другим кластером, оценивая разброс и расстояние.\"))\n",
    "display(Markdown(\"**Математическая формула метрики**:\"))\n",
    "display(Math(r'DBI = \\frac{1}{k} \\sum_{i=1}^k \\max_{j \\neq i} \\left( \\frac{\\sigma_i + \\sigma_j}{d(c_i, c_j)} \\right)'))\n",
    "display(Markdown(\"**Область применения метрики**: Используется для оценки качества кластеризации, особенно когда требуется минимизировать межкластерное сходство.\"))\n",
    "display(Markdown(\"**Область значений**: от 0 до ∞.\"))\n",
    "display(Markdown(\"**Лучший и худший результат**: Лучший результат при значении: 0. Худший результат: ∞.\"))\n",
    "\n",
    "# CLUSTERING AND RECOMENDATION SYSTEM DISTANCE METRICS\n",
    "display(Markdown(\"<span style='color: purple; font-size: 25px;'><b>Метрики Дистанций для Кластеризации и Рекомендательных систем</b></span>\"))\n",
    "\n",
    "from IPython.display import display, Markdown, Math\n",
    "\n",
    "# Расстояние Минковского (Minkowski)\n",
    "display(Markdown('<center><span style=\"font-size:20px;font-weight: 800\">Расстояние Минковского (Minkowski)</span></center>'))\n",
    "display(Markdown(\"**Описание метрики**: Расстояние Минковского является обобщением нескольких других метрик расстояния и определяется параметром \\( p \\), который позволяет переходить от одного типа расстояния к другому.\"))\n",
    "display(Markdown(\"**Математическая формула метрики**:\"))\n",
    "display(Math(r'd(x, y) = \\left( \\sum_{i=1}^n |x_i - y_i|^p \\right)^{1/p}'))\n",
    "display(Markdown(\"**Область применения метрики**: Используется для измерения расстояния в многомерных пространствах, в том числе в задачах кластеризации и рекомендательных системах.\"))\n",
    "display(Markdown(\"**Область значений**: от 0 до ∞.\"))\n",
    "display(Markdown(\"**Лучший и худший результат**: Лучший результат при значении: 0. Худший результат: ∞.\"))\n",
    "\n",
    "# Манхэттенское Расстояние (Cityblock/Manhattan)\n",
    "display(Markdown('<center><span style=\"font-size:20px;font-weight: 800\">Манхэттенское Расстояние (Cityblock/Manhattan)</span></center>'))\n",
    "display(Markdown(\"**Описание метрики**: Манхэттенское расстояние измеряет расстояние между двумя точками в сетке, суммируя абсолютные разницы их координат.\"))\n",
    "display(Markdown(\"**Математическая формула метрики**:\"))\n",
    "display(Math(r'd(x, y) = \\sum_{i=1}^n |x_i - y_i|'))\n",
    "display(Markdown(\"**Область применения метрики**: Используется в задачах кластеризации и анализа временных рядов, а также в рекомендательных системах, где важны дискретные перемещения.\"))\n",
    "display(Markdown(\"**Область значений**: от 0 до ∞.\"))\n",
    "display(Markdown(\"**Лучший и худший результат**: Лучший результат при значении: 0. Худший результат: ∞.\"))\n",
    "\n",
    "# Косинусное Расстояние (Cosine)\n",
    "display(Markdown('<center><span style=\"font-size:20px;font-weight: 800\">Косинусное Расстояние (Cosine)</span></center>'))\n",
    "display(Markdown(\"**Описание метрики**: Косинусное расстояние измеряет угол между двумя векторами в пространстве и используется для оценки их сходства.\"))\n",
    "display(Markdown(\"**Математическая формула метрики**:\"))\n",
    "display(Math(r'd_{cos}(x, y) = 1 - \\frac{\\sum_{i=1}^n x_i y_i}{\\sqrt{\\sum_{i=1}^n x_i^2} \\sqrt{\\sum_{i=1}^n y_i^2}}'))\n",
    "display(Markdown(\"**Область применения метрики**: Используется в задачах текстового анализа и рекомендательных системах, где важна оценка сходства направлений векторов.\"))\n",
    "display(Markdown(\"**Область значений**: от 0 до 1.\"))\n",
    "display(Markdown(\"**Лучший и худший результат**: Лучший результат при значении: 0. Худший результат: 1.\"))\n",
    "\n",
    "# Евклидово Расстояние (Euclidean)\n",
    "display(Markdown('<center><span style=\"font-size:20px;font-weight: 800\">Евклидово Расстояние (Euclidean)</span></center>'))\n",
    "display(Markdown(\"**Описание метрики**: Евклидово расстояние измеряет длину прямой линии между двумя точками в многомерном пространстве.\"))\n",
    "display(Markdown(\"**Математическая формула метрики**:\"))\n",
    "display(Math(r'd(x, y) = \\sqrt{\\sum_{i=1}^n (x_i - y_i)^2}'))\n",
    "display(Markdown(\"**Область применения метрики**: Используется в задачах кластеризации, анализа данных и рекомендательных системах для оценки прямого расстояния между объектами.\"))\n",
    "display(Markdown(\"**Область значений**: от 0 до ∞.\"))\n",
    "display(Markdown(\"**Лучший и худший результат**: Лучший результат при значении: 0. Худший результат: ∞.\"))\n",
    "\n",
    "# Расстояние Хаверсина (Haversine)\n",
    "display(Markdown('<center><span style=\"font-size:20px;font-weight: 800\">Расстояние Хаверсина (Haversine)</span></center>'))\n",
    "display(Markdown(\"**Описание метрики**: Расстояние Хаверсина используется для расчета расстояний между двумя точками на поверхности сферы, например, на Земле.\"))\n",
    "display(Markdown(\"**Математическая формула метрики**:\"))\n",
    "display(Math(r'd = 2r \\cdot \\arcsin \\left( \\sqrt{\\sin^2\\left(\\frac{\\phi_2 - \\phi_1}{2}\\right) + \\cos(\\phi_1) \\cos(\\phi_2) \\sin^2\\left(\\frac{\\lambda_2 - \\lambda_1}{2}\\right)} \\right)'))\n",
    "display(Markdown(\"**Область применения метрики**: Используется в географических информационных системах (GIS) и других задачах, где важно учитывать кривизну поверхности Земли.\"))\n",
    "display(Markdown(\"**Область значений**: от 0 до πr (радиус сферы).\"))\n",
    "display(Markdown(\"**Лучший и худший результат**: Лучший результат при значении: 0. Худший результат: πr.\"))\n",
    "\n",
    "# Nan Евклидово Расстояние (Nan Euclidean)\n",
    "display(Markdown('<center><span style=\"font-size:20px;font-weight: 800\">Nan Евклидово Расстояние (Nan Euclidean)</span></center>'))\n",
    "display(Markdown(\"**Описание метрики**: Nan Евклидово расстояние - это модификация Евклидова расстояния, которая игнорирует пары координат, где хотя бы одна из них является NaN (не числом).\"))\n",
    "display(Markdown(\"**Математическая формула метрики**:\"))\n",
    "display(Math(r'd(x, y) = \\sqrt{\\sum_{i=1}^n (x_i - y_i)^2 \\cdot \\mathbb{I}_{\\{x_i, y_i \\neq \\text{NaN}\\}}}'))\n",
    "display(Markdown(\"**Область применения метрики**: Используется в анализе данных и машинном обучении, где важна корректная обработка пропущенных значений.\"))\n",
    "display(Markdown(\"**Область значений**: от 0 до ∞.\"))\n",
    "display(Markdown(\"**Лучший и худший результат**: Лучший результат при значении: 0. Худший результат: ∞.\"))\n",
    "\n",
    "# Расстояние Левенштейна (Levenshtein)\n",
    "display(Markdown('<center><span style=\"font-size:20px;font-weight: 800\">Расстояние Левенштейна (Levenshtein)</span></center>'))\n",
    "display(Markdown(\"**Описание метрики**: Расстояние Левенштейна измеряет минимальное количество операций вставки, удаления и замены, необходимых для преобразования одной строки в другую.\"))\n",
    "display(Markdown(\"**Математическая формула метрики**:\"))\n",
    "display(Math(r'd_{lev}(a, b) = \\begin{cases} \\max(|a|, |b|), & \\text{if } \\min(|a|, |b|) = 0 \\\\ \\min \\begin{cases} d_{lev}(a_{1..|a|-1}, b) + 1 \\\\ d_{lev}(a, b_{1..|b|-1}) + 1 \\\\ d_{lev}(a_{1..|a|-1}, b_{1..|b|-1}) + \\mathbb{I}_{\\{a_{|a|} \\neq b_{|b|}\\}} \\end{cases}, & \\text{otherwise} \\end{cases}'))\n",
    "display(Markdown(\"**Область применения метрики**: Используется в задачах обработки текста, например, для вычисления расстояний между строками в задачах поиска, сравнения и исправления опечаток.\"))\n",
    "display(Markdown(\"**Область значений**: от 0 до max(длина строки 1, длина строки 2).\"))\n",
    "display(Markdown(\"**Лучший и худший результат**: Лучший результат при значении: 0. Худший результат: max(длина строки 1, длина строки 2).\"))\n"
   ]
  },
  {
   "cell_type": "code",
   "execution_count": null,
   "metadata": {},
   "outputs": [],
   "source": []
  }
 ],
 "metadata": {
  "kernelspec": {
   "display_name": "iterpreter",
   "language": "python",
   "name": "python3"
  },
  "language_info": {
   "codemirror_mode": {
    "name": "ipython",
    "version": 3
   },
   "file_extension": ".py",
   "mimetype": "text/x-python",
   "name": "python",
   "nbconvert_exporter": "python",
   "pygments_lexer": "ipython3",
   "version": "3.11.9"
  }
 },
 "nbformat": 4,
 "nbformat_minor": 2
}
